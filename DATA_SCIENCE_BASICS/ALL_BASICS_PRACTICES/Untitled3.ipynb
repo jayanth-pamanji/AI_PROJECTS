{
 "cells": [
  {
   "cell_type": "code",
   "execution_count": null,
   "id": "8e419423-2bb7-403a-bac2-b84223721602",
   "metadata": {},
   "outputs": [],
   "source": [
    "import cv2\n",
    "from matplotlib import pyplot as plt\n",
    "from IPython.display import display, clear_output\n",
    "\n",
    "# Open the default webcam\n",
    "cap = cv2.VideoCapture(0)\n",
    "\n",
    "# Check if the webcam is opened successfully\n",
    "if not cap.isOpened():\n",
    "    print(\"Error: Could not open webcam.\")\n",
    "else:\n",
    "    try:\n",
    "        while True:\n",
    "            # Capture frame-by-frame\n",
    "            ret, frame = cap.read()\n",
    "\n",
    "            if ret:\n",
    "                # Convert the frame from BGR to RGB\n",
    "                frame_rgb = cv2.cvtColor(frame, cv2.COLOR_BGR2RGB)\n",
    "\n",
    "                # Display the frame using matplotlib\n",
    "                plt.imshow(frame_rgb)\n",
    "                plt.axis('off')  # Hide the axes\n",
    "                clear_output(wait=True)  # Clear the previous frame\n",
    "                display(plt.gcf())  # Display the current frame\n",
    "            else:\n",
    "                print(\"Error: Could not read frame.\")\n",
    "                break\n",
    "\n",
    "    except KeyboardInterrupt:\n",
    "        # When interrupted, release the webcam\n",
    "        cap.release()\n",
    "        print(\"Webcam feed interrupted and closed.\")\n"
   ]
  },
  {
   "cell_type": "code",
   "execution_count": null,
   "id": "202f785a-58c4-42b0-878f-9024968a1257",
   "metadata": {},
   "outputs": [],
   "source": []
  }
 ],
 "metadata": {
  "kernelspec": {
   "display_name": "Python 3 (ipykernel)",
   "language": "python",
   "name": "python3"
  },
  "language_info": {
   "codemirror_mode": {
    "name": "ipython",
    "version": 3
   },
   "file_extension": ".py",
   "mimetype": "text/x-python",
   "name": "python",
   "nbconvert_exporter": "python",
   "pygments_lexer": "ipython3",
   "version": "3.12.4"
  }
 },
 "nbformat": 4,
 "nbformat_minor": 5
}
