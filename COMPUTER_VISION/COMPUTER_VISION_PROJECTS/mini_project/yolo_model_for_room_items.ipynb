{
  "nbformat": 4,
  "nbformat_minor": 0,
  "metadata": {
    "colab": {
      "provenance": []
    },
    "kernelspec": {
      "name": "python3",
      "display_name": "Python 3"
    },
    "language_info": {
      "name": "python"
    }
  },
  "cells": [
    {
      "cell_type": "code",
      "execution_count": null,
      "metadata": {
        "colab": {
          "base_uri": "https://localhost:8080/"
        },
        "id": "MDSAPVeSDzuR",
        "outputId": "47c74188-5071-4b64-dbc2-426020b2fb0a"
      },
      "outputs": [
        {
          "output_type": "stream",
          "name": "stdout",
          "text": [
            "Archive:  My First Project.v2i.yolov8.zip\n",
            "  inflating: /content/README.dataset.txt  \n",
            "  inflating: /content/README.roboflow.txt  \n",
            "  inflating: /content/data.yaml      \n",
            "   creating: /content/test/\n",
            "   creating: /content/test/images/\n",
            " extracting: /content/test/images/PXL_20250327_083813671_jpg.rf.e008aa9c5a4849b2d194138dd03b80f0.jpg  \n",
            " extracting: /content/test/images/PXL_20250327_083815682_jpg.rf.3b438a7f59ed6b71d52928748aca282a.jpg  \n",
            " extracting: /content/test/images/PXL_20250327_083817573_jpg.rf.8454b7767b764835febb7cf93f50cf20.jpg  \n",
            " extracting: /content/test/images/PXL_20250327_083824784_jpg.rf.02be346479abcb86582e8ddb917b1a2d.jpg  \n",
            " extracting: /content/test/images/PXL_20250327_083830129_jpg.rf.438c6e180324a33db6d71675efe047a5.jpg  \n",
            " extracting: /content/test/images/PXL_20250327_083840383_jpg.rf.fdc7289618b63eebd832d95f420bc7c5.jpg  \n",
            " extracting: /content/test/images/PXL_20250327_083845466_jpg.rf.0c2cb4d6bfdbf791663f6acc2836675e.jpg  \n",
            " extracting: /content/test/images/PXL_20250327_083851649_jpg.rf.86fb6c4dc38f71a6d9607c4a96c7457b.jpg  \n",
            " extracting: /content/test/images/PXL_20250327_083854724_jpg.rf.d9825e8b6faf22406018d93f5cdc175f.jpg  \n",
            " extracting: /content/test/images/PXL_20250327_083901632_jpg.rf.d432da4ad73d47981491aeb1dcebcd37.jpg  \n",
            " extracting: /content/test/images/PXL_20250327_083915702_jpg.rf.43837424f263e7d6d204233760f6541e.jpg  \n",
            " extracting: /content/test/images/PXL_20250327_083931464_jpg.rf.aec7c8256626c57a06b0dab73a5d20ce.jpg  \n",
            " extracting: /content/test/images/PXL_20250327_083932827_jpg.rf.bee313e82283aea56163170d30e027fb.jpg  \n",
            " extracting: /content/test/images/PXL_20250327_083935753_jpg.rf.f7427f349667659eccd7739f4c732fdc.jpg  \n",
            " extracting: /content/test/images/PXL_20250327_084001714_jpg.rf.73f50199829a4fa9ae3a21fc1cd72e8f.jpg  \n",
            " extracting: /content/test/images/PXL_20250327_084136435_jpg.rf.243b8cc405fabad6a3cd9cd6e44f0113.jpg  \n",
            " extracting: /content/test/images/PXL_20250327_084145529_jpg.rf.898f9fdd1c98537e18b4a774f8081d58.jpg  \n",
            " extracting: /content/test/images/PXL_20250327_084153709_jpg.rf.55745d93a321f536e9fb4bf04fa67213.jpg  \n",
            " extracting: /content/test/images/PXL_20250327_084207330_jpg.rf.6dbef1751733a93e9ad999bdbf9c18c7.jpg  \n",
            " extracting: /content/test/images/PXL_20250327_084232658_jpg.rf.c47bd7d26b280a4346c8e67454e55e38.jpg  \n",
            " extracting: /content/test/images/PXL_20250327_084240321_jpg.rf.959df8602a8364314aac2b4e9af16941.jpg  \n",
            " extracting: /content/test/images/PXL_20250327_084307102_jpg.rf.0f8e78086dc1995094f5a433fcef6ecc.jpg  \n",
            " extracting: /content/test/images/PXL_20250327_084318903_jpg.rf.4cde55f30c282bc14b6747f5edb38b15.jpg  \n",
            " extracting: /content/test/images/PXL_20250327_084320139_jpg.rf.78395b1dbe97358a98a8ff9f74d490c0.jpg  \n",
            " extracting: /content/test/images/PXL_20250327_084321312_jpg.rf.42294186f64ff0ff135d5bc16c06966a.jpg  \n",
            "   creating: /content/test/labels/\n",
            "  inflating: /content/test/labels/PXL_20250327_083813671_jpg.rf.e008aa9c5a4849b2d194138dd03b80f0.txt  \n",
            "  inflating: /content/test/labels/PXL_20250327_083815682_jpg.rf.3b438a7f59ed6b71d52928748aca282a.txt  \n",
            "  inflating: /content/test/labels/PXL_20250327_083817573_jpg.rf.8454b7767b764835febb7cf93f50cf20.txt  \n",
            "  inflating: /content/test/labels/PXL_20250327_083824784_jpg.rf.02be346479abcb86582e8ddb917b1a2d.txt  \n",
            "  inflating: /content/test/labels/PXL_20250327_083830129_jpg.rf.438c6e180324a33db6d71675efe047a5.txt  \n",
            "  inflating: /content/test/labels/PXL_20250327_083840383_jpg.rf.fdc7289618b63eebd832d95f420bc7c5.txt  \n",
            "  inflating: /content/test/labels/PXL_20250327_083845466_jpg.rf.0c2cb4d6bfdbf791663f6acc2836675e.txt  \n",
            "  inflating: /content/test/labels/PXL_20250327_083851649_jpg.rf.86fb6c4dc38f71a6d9607c4a96c7457b.txt  \n",
            "  inflating: /content/test/labels/PXL_20250327_083854724_jpg.rf.d9825e8b6faf22406018d93f5cdc175f.txt  \n",
            "  inflating: /content/test/labels/PXL_20250327_083901632_jpg.rf.d432da4ad73d47981491aeb1dcebcd37.txt  \n",
            "  inflating: /content/test/labels/PXL_20250327_083915702_jpg.rf.43837424f263e7d6d204233760f6541e.txt  \n",
            "  inflating: /content/test/labels/PXL_20250327_083931464_jpg.rf.aec7c8256626c57a06b0dab73a5d20ce.txt  \n",
            "  inflating: /content/test/labels/PXL_20250327_083932827_jpg.rf.bee313e82283aea56163170d30e027fb.txt  \n",
            "  inflating: /content/test/labels/PXL_20250327_083935753_jpg.rf.f7427f349667659eccd7739f4c732fdc.txt  \n",
            "  inflating: /content/test/labels/PXL_20250327_084001714_jpg.rf.73f50199829a4fa9ae3a21fc1cd72e8f.txt  \n",
            "  inflating: /content/test/labels/PXL_20250327_084136435_jpg.rf.243b8cc405fabad6a3cd9cd6e44f0113.txt  \n",
            "  inflating: /content/test/labels/PXL_20250327_084145529_jpg.rf.898f9fdd1c98537e18b4a774f8081d58.txt  \n",
            "  inflating: /content/test/labels/PXL_20250327_084153709_jpg.rf.55745d93a321f536e9fb4bf04fa67213.txt  \n",
            "  inflating: /content/test/labels/PXL_20250327_084207330_jpg.rf.6dbef1751733a93e9ad999bdbf9c18c7.txt  \n",
            "  inflating: /content/test/labels/PXL_20250327_084232658_jpg.rf.c47bd7d26b280a4346c8e67454e55e38.txt  \n",
            "  inflating: /content/test/labels/PXL_20250327_084240321_jpg.rf.959df8602a8364314aac2b4e9af16941.txt  \n",
            "  inflating: /content/test/labels/PXL_20250327_084307102_jpg.rf.0f8e78086dc1995094f5a433fcef6ecc.txt  \n",
            "  inflating: /content/test/labels/PXL_20250327_084318903_jpg.rf.4cde55f30c282bc14b6747f5edb38b15.txt  \n",
            "  inflating: /content/test/labels/PXL_20250327_084320139_jpg.rf.78395b1dbe97358a98a8ff9f74d490c0.txt  \n",
            "  inflating: /content/test/labels/PXL_20250327_084321312_jpg.rf.42294186f64ff0ff135d5bc16c06966a.txt  \n",
            "   creating: /content/train/\n",
            "   creating: /content/train/images/\n",
            " extracting: /content/train/images/IMG-20250327-WA0008_jpg.rf.25906f4c17700bcd9e43affc68d3906e.jpg  \n",
            " extracting: /content/train/images/IMG-20250327-WA0008_jpg.rf.6885c27e764b8c45593d429c570c93e4.jpg  \n",
            " extracting: /content/train/images/IMG-20250327-WA0008_jpg.rf.ee355ee88da601de32a6541d131622e6.jpg  \n",
            " extracting: /content/train/images/IMG-20250327-WA0011_jpg.rf.04177f845fa73a76fd52f4fd8165837d.jpg  \n",
            " extracting: /content/train/images/IMG-20250327-WA0011_jpg.rf.733adf7fb7242c1c645ef52736e943d9.jpg  \n",
            " extracting: /content/train/images/IMG-20250327-WA0011_jpg.rf.efae5a1936e62c4143d2dfab9b3d6aa6.jpg  \n",
            " extracting: /content/train/images/PXL_20250327_083629744_MP_jpg.rf.21c524cf90588439df74e0e3ec01c211.jpg  \n",
            " extracting: /content/train/images/PXL_20250327_083629744_MP_jpg.rf.4bf64df2367fc6832a6cc31557d259e6.jpg  \n",
            " extracting: /content/train/images/PXL_20250327_083629744_MP_jpg.rf.c24b8d693e1aa3d37dabe1c24bd44f57.jpg  \n",
            " extracting: /content/train/images/PXL_20250327_083653315_MP_jpg.rf.52508d8f5b302c1b8d266dcef489eb26.jpg  \n",
            " extracting: /content/train/images/PXL_20250327_083653315_MP_jpg.rf.7c5932e03fe0c30dcc57befc1fca0aa5.jpg  \n",
            " extracting: /content/train/images/PXL_20250327_083653315_MP_jpg.rf.fc0c3b09527123250d8c3886e445219c.jpg  \n",
            " extracting: /content/train/images/PXL_20250327_083654284_jpg.rf.4de125c1468d45521df3bac3b8954eca.jpg  \n",
            " extracting: /content/train/images/PXL_20250327_083654284_jpg.rf.5eb285b8dadd50b69a2fb332ece23512.jpg  \n",
            " extracting: /content/train/images/PXL_20250327_083654284_jpg.rf.d4b33683956288adc0044fcc99d40037.jpg  \n",
            " extracting: /content/train/images/PXL_20250327_083655332_jpg.rf.0dc1cc93062ba34a39a70788456f4b00.jpg  \n",
            " extracting: /content/train/images/PXL_20250327_083655332_jpg.rf.2586ce8ee741d5c00906bea5102f997e.jpg  \n",
            " extracting: /content/train/images/PXL_20250327_083655332_jpg.rf.3945a3d14cafa4b576c62f7857139323.jpg  \n",
            " extracting: /content/train/images/PXL_20250327_083656135_jpg.rf.042eda0484381f424414ab5f8544fdc1.jpg  \n",
            " extracting: /content/train/images/PXL_20250327_083656135_jpg.rf.1b42200bce099ca0d1807d4826e605d9.jpg  \n",
            " extracting: /content/train/images/PXL_20250327_083656135_jpg.rf.effb4aee561212006fafab62290d0cac.jpg  \n",
            " extracting: /content/train/images/PXL_20250327_083658141_MP_jpg.rf.5f9e08b6b10b785b2bf3176ee795b07e.jpg  \n",
            " extracting: /content/train/images/PXL_20250327_083658141_MP_jpg.rf.c407176534b398bcf7e10a03a4b76870.jpg  \n",
            " extracting: /content/train/images/PXL_20250327_083658141_MP_jpg.rf.f9d68037ed45a3888ce59bb0dc1d7be1.jpg  \n",
            " extracting: /content/train/images/PXL_20250327_083659888_MP_jpg.rf.06bccca1e472a28958b2ef7f9e21f518.jpg  \n",
            " extracting: /content/train/images/PXL_20250327_083659888_MP_jpg.rf.1cdae50659587b04e48fcd8f7abbbcc7.jpg  \n",
            " extracting: /content/train/images/PXL_20250327_083659888_MP_jpg.rf.3d844d9daea9132bbfc9102a94299bde.jpg  \n",
            " extracting: /content/train/images/PXL_20250327_083701251_jpg.rf.2733981a021885fcdbcda46537341893.jpg  \n",
            " extracting: /content/train/images/PXL_20250327_083701251_jpg.rf.b0b958c7750bc269eeff34d2e32fb9fe.jpg  \n",
            " extracting: /content/train/images/PXL_20250327_083701251_jpg.rf.ebbfdb7acbc43901c251f3730ee943f7.jpg  \n",
            " extracting: /content/train/images/PXL_20250327_083702448_jpg.rf.d0fc095418eba2be3e851bca99afa624.jpg  \n",
            " extracting: /content/train/images/PXL_20250327_083702448_jpg.rf.f09aa532ea5439dbbbd58205e8970647.jpg  \n",
            " extracting: /content/train/images/PXL_20250327_083702448_jpg.rf.fd06f0c405827c90a244a088dff7e447.jpg  \n",
            " extracting: /content/train/images/PXL_20250327_083703485_jpg.rf.34d26c83a0620956c460c7303b3053b8.jpg  \n",
            " extracting: /content/train/images/PXL_20250327_083703485_jpg.rf.8d4cc05c5bb12da496320f003f230e57.jpg  \n",
            " extracting: /content/train/images/PXL_20250327_083703485_jpg.rf.eba4f3690af58ab84c5a2b9d3bbd8c78.jpg  \n",
            " extracting: /content/train/images/PXL_20250327_083704483_jpg.rf.0fb466a85826e4f019f4956340264f0e.jpg  \n",
            " extracting: /content/train/images/PXL_20250327_083704483_jpg.rf.3a85b277d34ea63c839dd3b5786f79e1.jpg  \n",
            " extracting: /content/train/images/PXL_20250327_083704483_jpg.rf.b9099f1b7d45c101fa51e75e063190cd.jpg  \n",
            " extracting: /content/train/images/PXL_20250327_083705652_jpg.rf.28370a107c8099a628f8e105e9aebe43.jpg  \n",
            " extracting: /content/train/images/PXL_20250327_083705652_jpg.rf.3df0eb53edd39ed7cba204d3c6fb8d6d.jpg  \n",
            " extracting: /content/train/images/PXL_20250327_083705652_jpg.rf.7b744edce61b5478e007040ca24bbfeb.jpg  \n",
            " extracting: /content/train/images/PXL_20250327_083706748_jpg.rf.5f6a216e3b8189328aadb9f674514c26.jpg  \n",
            " extracting: /content/train/images/PXL_20250327_083706748_jpg.rf.9e2bfdde60393f7eadd1d0f84965a6a8.jpg  \n",
            " extracting: /content/train/images/PXL_20250327_083706748_jpg.rf.f8dd7383acef7bcf94d30ec3459bcd62.jpg  \n",
            " extracting: /content/train/images/PXL_20250327_083708105_jpg.rf.1b6575382f3578806efe59488e0a0edf.jpg  \n",
            " extracting: /content/train/images/PXL_20250327_083708105_jpg.rf.9e839de1e9d54417c638c1ace9da5d3f.jpg  \n",
            " extracting: /content/train/images/PXL_20250327_083708105_jpg.rf.d554832a4a2a28781d0d6c394f2b916b.jpg  \n",
            " extracting: /content/train/images/PXL_20250327_083709296_jpg.rf.639c72a442c98ba6da1961c9faa037b3.jpg  \n",
            " extracting: /content/train/images/PXL_20250327_083709296_jpg.rf.77f651a31ad46575bb0b9fb2e499844e.jpg  \n",
            " extracting: /content/train/images/PXL_20250327_083709296_jpg.rf.b3dda0d0fba35dc4a6d9f3eee3f04f64.jpg  \n",
            " extracting: /content/train/images/PXL_20250327_083710431_jpg.rf.723409971c60eb980b7ef96cb39b045d.jpg  \n",
            " extracting: /content/train/images/PXL_20250327_083710431_jpg.rf.8f71bf232cb7db467b22655b08d7a35c.jpg  \n",
            " extracting: /content/train/images/PXL_20250327_083710431_jpg.rf.f855a79782a779bccdb174b968abedbf.jpg  \n",
            " extracting: /content/train/images/PXL_20250327_083712039_MP_jpg.rf.b2ec1d51e3d941627be1517320f70321.jpg  \n",
            " extracting: /content/train/images/PXL_20250327_083712039_MP_jpg.rf.b5c1fc7dab50400f65a8ce48d9771d45.jpg  \n",
            " extracting: /content/train/images/PXL_20250327_083712039_MP_jpg.rf.b63bc8b485b2099e44a8211fdb3b004f.jpg  \n",
            " extracting: /content/train/images/PXL_20250327_083713355_jpg.rf.1db35771d1544f8774baec58d556eafa.jpg  \n",
            " extracting: /content/train/images/PXL_20250327_083713355_jpg.rf.1fa45c01651d2af1898e4f223b69a379.jpg  \n",
            " extracting: /content/train/images/PXL_20250327_083713355_jpg.rf.c715f911cea383cbf25419ebf37401a0.jpg  \n",
            " extracting: /content/train/images/PXL_20250327_083714233_jpg.rf.42a65f770851b064cbf08bf5072d43ac.jpg  \n",
            " extracting: /content/train/images/PXL_20250327_083714233_jpg.rf.5e3fd61b93320ed586ceb1c392fbeb60.jpg  \n",
            " extracting: /content/train/images/PXL_20250327_083714233_jpg.rf.8add9173205f07ed9c241db1fc504e7c.jpg  \n",
            " extracting: /content/train/images/PXL_20250327_083715088_jpg.rf.2e0c1d3074fd2ebd067072ad64dffe43.jpg  \n",
            " extracting: /content/train/images/PXL_20250327_083715088_jpg.rf.547f6babc76755f18d03ed0d9bf78b09.jpg  \n",
            " extracting: /content/train/images/PXL_20250327_083715088_jpg.rf.bcf2abb41c0a61a9f552c2f8bfd5d36e.jpg  \n",
            " extracting: /content/train/images/PXL_20250327_083715935_jpg.rf.391741db0c35006a4e831a7d0c41e759.jpg  \n",
            " extracting: /content/train/images/PXL_20250327_083715935_jpg.rf.3c1feb9b42305a2d41c2efaca51187de.jpg  \n",
            " extracting: /content/train/images/PXL_20250327_083715935_jpg.rf.8528dc577c66f476c22b72faad86b1fe.jpg  \n",
            " extracting: /content/train/images/PXL_20250327_083716765_jpg.rf.1f720b4343158c2dc47f637aa0258644.jpg  \n",
            " extracting: /content/train/images/PXL_20250327_083716765_jpg.rf.6696e21293b97a2a3bb3a41099fc3d55.jpg  \n",
            " extracting: /content/train/images/PXL_20250327_083716765_jpg.rf.91f20e51dd7a4570d9d846a5e9d97016.jpg  \n",
            " extracting: /content/train/images/PXL_20250327_083717801_jpg.rf.a847d320de86e322051d17e7528e6e95.jpg  \n",
            " extracting: /content/train/images/PXL_20250327_083717801_jpg.rf.ab3d1fa0c615e3e892a92c7874aec8c8.jpg  \n",
            " extracting: /content/train/images/PXL_20250327_083717801_jpg.rf.e005d9e1ce0a4cb199970a726f18322b.jpg  \n",
            " extracting: /content/train/images/PXL_20250327_083718559_jpg.rf.ced321c14fa47d7ca01b1ba16d873bb6.jpg  \n",
            " extracting: /content/train/images/PXL_20250327_083718559_jpg.rf.d4afa6719da661813ab662b89de2fc2c.jpg  \n",
            " extracting: /content/train/images/PXL_20250327_083718559_jpg.rf.e94c111f1b709b3686074b160284ffa2.jpg  \n",
            " extracting: /content/train/images/PXL_20250327_083719237_jpg.rf.303266e01004dafdf0b9776df877d7e3.jpg  \n",
            " extracting: /content/train/images/PXL_20250327_083719237_jpg.rf.59845a89a29c295263d216c21d324bae.jpg  \n",
            " extracting: /content/train/images/PXL_20250327_083719237_jpg.rf.d324e471efc12b20a7678fe117127e97.jpg  \n",
            " extracting: /content/train/images/PXL_20250327_083720551_jpg.rf.5a62e1e600f75ea6a45728731f9b045d.jpg  \n",
            " extracting: /content/train/images/PXL_20250327_083720551_jpg.rf.68763c2cf78d727f91ad50015f521ae7.jpg  \n",
            " extracting: /content/train/images/PXL_20250327_083720551_jpg.rf.a580f7865f67e205594265fd6c3ce8d4.jpg  \n",
            " extracting: /content/train/images/PXL_20250327_083721212_jpg.rf.a5fa724c09173112e9c79e02d220a7e6.jpg  \n",
            " extracting: /content/train/images/PXL_20250327_083721212_jpg.rf.e5cdf90bd4f272360f4fd3757f87f759.jpg  \n",
            " extracting: /content/train/images/PXL_20250327_083721212_jpg.rf.e619994832862a53a832efd0c45b1b6b.jpg  \n",
            " extracting: /content/train/images/PXL_20250327_083722465_jpg.rf.23bd02b46c0a0245d92d707fbe709c70.jpg  \n",
            " extracting: /content/train/images/PXL_20250327_083722465_jpg.rf.487184f6d12e2de196d2ead2e6e92b7a.jpg  \n",
            " extracting: /content/train/images/PXL_20250327_083722465_jpg.rf.e124645e443c052cc7cf55839051f49a.jpg  \n",
            " extracting: /content/train/images/PXL_20250327_083724219_jpg.rf.7fd66fe2ba8faa0cc94c8467bab7c176.jpg  \n",
            " extracting: /content/train/images/PXL_20250327_083724219_jpg.rf.ab03aaf21c6929d45aa36baa54e88c34.jpg  \n",
            " extracting: /content/train/images/PXL_20250327_083724219_jpg.rf.ca97d9f87f1c39bdfac933c8a2945937.jpg  \n",
            " extracting: /content/train/images/PXL_20250327_083726503_jpg.rf.9735382687ae83af8ee21f10ef918cc9.jpg  \n",
            " extracting: /content/train/images/PXL_20250327_083726503_jpg.rf.98a97aaa84e27161a758a2bf176ca40d.jpg  \n",
            " extracting: /content/train/images/PXL_20250327_083726503_jpg.rf.dc325f97ce0ceda318dfa330feb97bbf.jpg  \n",
            " extracting: /content/train/images/PXL_20250327_083727751_jpg.rf.17ee45edf53edefa20bbd376ead3c7e4.jpg  \n",
            " extracting: /content/train/images/PXL_20250327_083727751_jpg.rf.6d37f75a894b3beaa3fd676bca8e3e76.jpg  \n",
            " extracting: /content/train/images/PXL_20250327_083727751_jpg.rf.f113e3929f438003a63fa6c7345c6586.jpg  \n",
            " extracting: /content/train/images/PXL_20250327_083729048_jpg.rf.1af45da4f3086d77882cf1f56532cf22.jpg  \n",
            " extracting: /content/train/images/PXL_20250327_083729048_jpg.rf.89a1864cbef7d33fabb5aa06218e99d9.jpg  \n",
            " extracting: /content/train/images/PXL_20250327_083729048_jpg.rf.d0814cb5069d6e456b7c7e1a9c124cc7.jpg  \n",
            " extracting: /content/train/images/PXL_20250327_083730360_jpg.rf.1394f9c2d5de8965d7aefaa54231adf4.jpg  \n",
            " extracting: /content/train/images/PXL_20250327_083730360_jpg.rf.65c852a6a1446999ec4f51e96dff0fad.jpg  \n",
            " extracting: /content/train/images/PXL_20250327_083730360_jpg.rf.6cdaf04827049396c5da344e7da12504.jpg  \n",
            " extracting: /content/train/images/PXL_20250327_083731525_jpg.rf.45e3f315823ef20abd8f694bd662d3b4.jpg  \n",
            " extracting: /content/train/images/PXL_20250327_083731525_jpg.rf.aef9df0cab4406c6933aa4a6da5819ee.jpg  \n",
            " extracting: /content/train/images/PXL_20250327_083731525_jpg.rf.e008f633d3748ec5f46a8594fbc3ecc7.jpg  \n",
            " extracting: /content/train/images/PXL_20250327_083733161_jpg.rf.08e84c0cb239edc99d8e5f16bb405431.jpg  \n",
            " extracting: /content/train/images/PXL_20250327_083733161_jpg.rf.8dabe9f86c0e73bbd652cdf728ed9c94.jpg  \n",
            " extracting: /content/train/images/PXL_20250327_083733161_jpg.rf.b61df40692dfb52d8594cd37cab8a848.jpg  \n",
            " extracting: /content/train/images/PXL_20250327_083734248_jpg.rf.6853e173ad93543e89b4948025878178.jpg  \n",
            " extracting: /content/train/images/PXL_20250327_083734248_jpg.rf.bec049b3ed26fe8f4d74ef5bddea9b77.jpg  \n",
            " extracting: /content/train/images/PXL_20250327_083734248_jpg.rf.c89e8e8400d1291b6ec2071e84c129be.jpg  \n",
            " extracting: /content/train/images/PXL_20250327_083735257_jpg.rf.166461acdd022a0b6e8c4230653a4ef4.jpg  \n",
            " extracting: /content/train/images/PXL_20250327_083735257_jpg.rf.46a677e4e62f239b1e74c9459310e2da.jpg  \n",
            " extracting: /content/train/images/PXL_20250327_083735257_jpg.rf.eb348b24a5493aa08874e418323f76d6.jpg  \n",
            " extracting: /content/train/images/PXL_20250327_083736488_jpg.rf.16cfacbdae946a0916ff20b6f047608a.jpg  \n",
            " extracting: /content/train/images/PXL_20250327_083736488_jpg.rf.866f511bc8c971a6a15c6bc64b14cd80.jpg  \n",
            " extracting: /content/train/images/PXL_20250327_083736488_jpg.rf.f3ffc489a70b900356a3620d39a91fa3.jpg  \n",
            " extracting: /content/train/images/PXL_20250327_083738211_jpg.rf.3b41e5cb6922a6efd171360a913a1d24.jpg  \n",
            " extracting: /content/train/images/PXL_20250327_083738211_jpg.rf.6935e5f02afffa29a82b6b6df201a761.jpg  \n",
            " extracting: /content/train/images/PXL_20250327_083738211_jpg.rf.fc04cb9b0652c74a4c81284499e5fd9b.jpg  \n",
            " extracting: /content/train/images/PXL_20250327_083739225_jpg.rf.20a177753ad59716548142a2d605c131.jpg  \n",
            " extracting: /content/train/images/PXL_20250327_083739225_jpg.rf.ef1b05d68bfe9e577f89a5e1a6bf9354.jpg  \n",
            " extracting: /content/train/images/PXL_20250327_083739225_jpg.rf.f6373a8476921839add5e013f3284c37.jpg  \n",
            " extracting: /content/train/images/PXL_20250327_083741315_jpg.rf.80e7b1ddb2dbd15130419326f68704b3.jpg  \n",
            " extracting: /content/train/images/PXL_20250327_083741315_jpg.rf.98bb5a61f5254b2b3c421142fec4196b.jpg  \n",
            " extracting: /content/train/images/PXL_20250327_083741315_jpg.rf.eb71cd1481d2958b63ec8132c2186099.jpg  \n",
            " extracting: /content/train/images/PXL_20250327_083742777_jpg.rf.56667075bca7a1f83e3cb1c47b41fe8b.jpg  \n",
            " extracting: /content/train/images/PXL_20250327_083742777_jpg.rf.dcaeea6721cf3e69ba8ee00d75be34fa.jpg  \n",
            " extracting: /content/train/images/PXL_20250327_083742777_jpg.rf.e808ddcb6dc908b2688f13d41b7ca293.jpg  \n",
            " extracting: /content/train/images/PXL_20250327_083743948_jpg.rf.03f5b5c5b1af41def132c76f75735cb3.jpg  \n",
            " extracting: /content/train/images/PXL_20250327_083743948_jpg.rf.f03eb68d312dbe26bd228052d454ceec.jpg  \n",
            " extracting: /content/train/images/PXL_20250327_083743948_jpg.rf.f65aced995b4703f76d0b0284d109d0b.jpg  \n",
            " extracting: /content/train/images/PXL_20250327_083746033_jpg.rf.5ef3d9a29ececdd71c1e490613f6f736.jpg  \n",
            " extracting: /content/train/images/PXL_20250327_083746033_jpg.rf.ac4aa96a9f476dd1a7494c48726cd5d0.jpg  \n",
            " extracting: /content/train/images/PXL_20250327_083746033_jpg.rf.bee2c5b3bdc492dff4e7af3712246362.jpg  \n",
            " extracting: /content/train/images/PXL_20250327_083747640_jpg.rf.5d6dffe0b3d7bf330395818bd8ddf6ae.jpg  \n",
            " extracting: /content/train/images/PXL_20250327_083747640_jpg.rf.75d4c5dafb402ea4393693a9c4549ad8.jpg  \n",
            " extracting: /content/train/images/PXL_20250327_083747640_jpg.rf.d2d199b9958203f093e1c891740dfc46.jpg  \n",
            " extracting: /content/train/images/PXL_20250327_083749677_jpg.rf.c1811446fe32ddcc1049b4684ac79697.jpg  \n",
            " extracting: /content/train/images/PXL_20250327_083749677_jpg.rf.da796c65b9f6947d24533dd899702a3c.jpg  \n",
            " extracting: /content/train/images/PXL_20250327_083749677_jpg.rf.fe8b7daac10bc2ebe342c1aae47db086.jpg  \n",
            " extracting: /content/train/images/PXL_20250327_083751079_jpg.rf.a8f437ca9d6810f94861e4b74d75bdc0.jpg  \n",
            " extracting: /content/train/images/PXL_20250327_083751079_jpg.rf.acec93c65b3a72c739c704665d264ef6.jpg  \n",
            " extracting: /content/train/images/PXL_20250327_083751079_jpg.rf.ef19f36dfc225d186749cf90566262ec.jpg  \n",
            " extracting: /content/train/images/PXL_20250327_083752275_jpg.rf.1d212de16d0a7ca2da5fdc5e4f8cc0e0.jpg  \n",
            " extracting: /content/train/images/PXL_20250327_083752275_jpg.rf.2b73c8fd2fb8b587ff35bc79e1d8da0a.jpg  \n",
            " extracting: /content/train/images/PXL_20250327_083752275_jpg.rf.4481d9a581a2213ebf8e977a1154c034.jpg  \n",
            " extracting: /content/train/images/PXL_20250327_083754146_jpg.rf.5b6a6f10cde21e5c43d2f1b1b366cdb6.jpg  \n",
            " extracting: /content/train/images/PXL_20250327_083754146_jpg.rf.61d1983372a1d50f8b52f91047f0e40f.jpg  \n",
            " extracting: /content/train/images/PXL_20250327_083754146_jpg.rf.fcf7e0e8f4ab034d8356a1c21b95c066.jpg  \n",
            " extracting: /content/train/images/PXL_20250327_083756260_jpg.rf.2bec3148e6781bd0b0b8289ae9df8c20.jpg  \n",
            " extracting: /content/train/images/PXL_20250327_083756260_jpg.rf.30e5f76171ebee604c1321e600b28854.jpg  \n",
            " extracting: /content/train/images/PXL_20250327_083756260_jpg.rf.fed785c0415d7b5c3452acd608da38d3.jpg  \n",
            " extracting: /content/train/images/PXL_20250327_083758985_jpg.rf.459f9ded1ebc1e605502f606e79db314.jpg  \n",
            " extracting: /content/train/images/PXL_20250327_083758985_jpg.rf.486463a48e095b1e089d1a93caa7f998.jpg  \n",
            " extracting: /content/train/images/PXL_20250327_083758985_jpg.rf.9d8545600f56e06cef419fd7c38f63d5.jpg  \n",
            " extracting: /content/train/images/PXL_20250327_083802821_jpg.rf.c46bceca503217a34113d1b9343680ba.jpg  \n",
            " extracting: /content/train/images/PXL_20250327_083802821_jpg.rf.df3b7716da16bfd0677b3d8a7cdd4dec.jpg  \n",
            " extracting: /content/train/images/PXL_20250327_083802821_jpg.rf.e74b1747446fe1e691667c5153507263.jpg  \n",
            " extracting: /content/train/images/PXL_20250327_083805380_jpg.rf.8f3c9f4b338266868b012bfff541e404.jpg  \n",
            " extracting: /content/train/images/PXL_20250327_083805380_jpg.rf.b910f580b201d25952a4480a3a60c097.jpg  \n",
            " extracting: /content/train/images/PXL_20250327_083805380_jpg.rf.bff5b8d5063f75f547413fbcdfb51528.jpg  \n",
            " extracting: /content/train/images/PXL_20250327_083806856_jpg.rf.28ff961f59000aa182433979f576e8fb.jpg  \n",
            " extracting: /content/train/images/PXL_20250327_083806856_jpg.rf.38d5fa2ce63df5425715f5bfc3431e65.jpg  \n",
            " extracting: /content/train/images/PXL_20250327_083806856_jpg.rf.4714fecbbe7963dde8d878094ec10932.jpg  \n",
            " extracting: /content/train/images/PXL_20250327_083809808_jpg.rf.227e3eb77628bf46b39c7d00ebe391c4.jpg  \n",
            " extracting: /content/train/images/PXL_20250327_083809808_jpg.rf.59e773f907d1cbb2c30492858cbe6537.jpg  \n",
            " extracting: /content/train/images/PXL_20250327_083809808_jpg.rf.aa256ce25059ca0ad33aef5351110c26.jpg  \n",
            " extracting: /content/train/images/PXL_20250327_083812172_jpg.rf.3e5f320dea26a7925a4ab3d6f477bb3e.jpg  \n",
            " extracting: /content/train/images/PXL_20250327_083812172_jpg.rf.9c418b3225a3fbc33fedec38c8c46228.jpg  \n",
            " extracting: /content/train/images/PXL_20250327_083812172_jpg.rf.b7274da61ec6edb5cddc34a6bb6fda20.jpg  \n",
            " extracting: /content/train/images/PXL_20250327_083818485_jpg.rf.03d8900b7494e26649eebce2557f05a7.jpg  \n",
            " extracting: /content/train/images/PXL_20250327_083818485_jpg.rf.7a3743fb89fec1ef2684ec921e9c15cc.jpg  \n",
            " extracting: /content/train/images/PXL_20250327_083818485_jpg.rf.affcd8faf2c98ed7bce8862882c3facb.jpg  \n",
            " extracting: /content/train/images/PXL_20250327_083820584_jpg.rf.4dacddaab9cccd47e764f0e81a65db75.jpg  \n",
            " extracting: /content/train/images/PXL_20250327_083820584_jpg.rf.7830c4dfca5914779cfe08176486c479.jpg  \n",
            " extracting: /content/train/images/PXL_20250327_083820584_jpg.rf.c03d3181b5364050c0b958562afb8b2b.jpg  \n",
            " extracting: /content/train/images/PXL_20250327_083822372_jpg.rf.687d67ec5d2d191604908cf627fc34d9.jpg  \n",
            " extracting: /content/train/images/PXL_20250327_083822372_jpg.rf.a497a2ac98ed83c060e43c0faa429874.jpg  \n",
            " extracting: /content/train/images/PXL_20250327_083822372_jpg.rf.f7a592d94f2964bc5e5f083a9c9b6592.jpg  \n",
            " extracting: /content/train/images/PXL_20250327_083828210_jpg.rf.12c4dc6cb5101f26b7fadaa6057511b0.jpg  \n",
            " extracting: /content/train/images/PXL_20250327_083828210_jpg.rf.7c143879e54f0f50d2f3cba09bfbfc87.jpg  \n",
            " extracting: /content/train/images/PXL_20250327_083828210_jpg.rf.faaf9e5e0cf0c78355ad48688fafa92e.jpg  \n",
            " extracting: /content/train/images/PXL_20250327_083832658_jpg.rf.0e434a42368e96a979dfdc6e8866daa4.jpg  \n",
            " extracting: /content/train/images/PXL_20250327_083832658_jpg.rf.5ff3e7b29f4887a2778559bac0ab1d89.jpg  \n",
            " extracting: /content/train/images/PXL_20250327_083832658_jpg.rf.9b10c7604cde91c3346e2413861a0ce8.jpg  \n",
            " extracting: /content/train/images/PXL_20250327_083834721_jpg.rf.3b45b70bb438fb746e2e0cac511227d6.jpg  \n",
            " extracting: /content/train/images/PXL_20250327_083834721_jpg.rf.97f4e112a67ea5a01deabc0221ea674e.jpg  \n",
            " extracting: /content/train/images/PXL_20250327_083834721_jpg.rf.dd048b5d27d9f3c803f9ef1d28c74a98.jpg  \n",
            " extracting: /content/train/images/PXL_20250327_083846546_jpg.rf.44ebe7af9f092067fa3d7a850e3fbca7.jpg  \n",
            " extracting: /content/train/images/PXL_20250327_083846546_jpg.rf.5db328eeabc85312389404bacf511725.jpg  \n",
            " extracting: /content/train/images/PXL_20250327_083846546_jpg.rf.ce53349f5a9dbd61848fd88aa8bfa309.jpg  \n",
            " extracting: /content/train/images/PXL_20250327_083848583_jpg.rf.00163045ff2a1b73adf6fcbc49a43522.jpg  \n",
            " extracting: /content/train/images/PXL_20250327_083848583_jpg.rf.2667d0a6c7675c289307f8bb5ba069fe.jpg  \n",
            " extracting: /content/train/images/PXL_20250327_083848583_jpg.rf.8cc3e73ef277d84787c0c2b29b661577.jpg  \n",
            " extracting: /content/train/images/PXL_20250327_083852697_jpg.rf.0bd411ac2a755f1451b8d62ac9e9d7da.jpg  \n",
            " extracting: /content/train/images/PXL_20250327_083852697_jpg.rf.42f4b776c8bb9b780840a8ab48dd5e2d.jpg  \n",
            " extracting: /content/train/images/PXL_20250327_083852697_jpg.rf.fb520f3f4196c50a70dd85867ff74f69.jpg  \n",
            " extracting: /content/train/images/PXL_20250327_083857122_jpg.rf.7a898cbeb43754309ab9ec42b947acee.jpg  \n",
            " extracting: /content/train/images/PXL_20250327_083857122_jpg.rf.7e8edcc4ef3f0565bb6060d133dd0ff6.jpg  \n",
            " extracting: /content/train/images/PXL_20250327_083857122_jpg.rf.caa263a174b6ab839788ce1495d5ddf9.jpg  \n",
            " extracting: /content/train/images/PXL_20250327_083903740_jpg.rf.1cb4ed98ca71ccb1d1e22614837e89c3.jpg  \n",
            " extracting: /content/train/images/PXL_20250327_083903740_jpg.rf.3db1b967fc826e3e30417dd486592c0d.jpg  \n",
            " extracting: /content/train/images/PXL_20250327_083903740_jpg.rf.5afa2b32905509770dbeb7ea80d1f21f.jpg  \n",
            " extracting: /content/train/images/PXL_20250327_083906745_jpg.rf.7c5c4cfb49a39ba0c860b8e6b0a5f565.jpg  \n",
            " extracting: /content/train/images/PXL_20250327_083906745_jpg.rf.817f089d703e49093a07150081b443cc.jpg  \n",
            " extracting: /content/train/images/PXL_20250327_083906745_jpg.rf.e5fce1d2d9ff221b3847f3886c70a1c1.jpg  \n",
            " extracting: /content/train/images/PXL_20250327_083908830_jpg.rf.514ba289fb8af8b02209b3e851b87ce1.jpg  \n",
            " extracting: /content/train/images/PXL_20250327_083908830_jpg.rf.7b0a1dd1afd75b3a961c9be755e9126d.jpg  \n",
            " extracting: /content/train/images/PXL_20250327_083908830_jpg.rf.81b28ea4bc694695c0ceb007653f7dc3.jpg  \n",
            " extracting: /content/train/images/PXL_20250327_083911839_jpg.rf.64755f3ebed7fdb0c1fc2a321a4116e9.jpg  \n",
            " extracting: /content/train/images/PXL_20250327_083911839_jpg.rf.b85ea842321b3a61ff02cdadc5b098cf.jpg  \n",
            " extracting: /content/train/images/PXL_20250327_083911839_jpg.rf.cbd0f5ae68c974c2eaff56b5d2514155.jpg  \n",
            " extracting: /content/train/images/PXL_20250327_083913297_jpg.rf.318adfbaf69abfc2a6c55b2781788ea8.jpg  \n",
            " extracting: /content/train/images/PXL_20250327_083913297_jpg.rf.72d81323f8524db5dcd3b32a6c891941.jpg  \n",
            " extracting: /content/train/images/PXL_20250327_083913297_jpg.rf.d42b99164154e7ffd757a01f99bd37b4.jpg  \n",
            " extracting: /content/train/images/PXL_20250327_083918495_jpg.rf.7361e297cc4e876afd3effd186cba592.jpg  \n",
            " extracting: /content/train/images/PXL_20250327_083918495_jpg.rf.83d34238e6233130e1b70e46f811d5d6.jpg  \n",
            " extracting: /content/train/images/PXL_20250327_083918495_jpg.rf.b55fea498474b9dc06246306c3e137bd.jpg  \n",
            " extracting: /content/train/images/PXL_20250327_083934047_jpg.rf.22322c8fcfcd5ee0d7812d72c2c56324.jpg  \n",
            " extracting: /content/train/images/PXL_20250327_083934047_jpg.rf.82f1e8ef536a9b41458566c11a1b887f.jpg  \n",
            " extracting: /content/train/images/PXL_20250327_083934047_jpg.rf.9cc975fb80bf9a768ad65c13afe295f3.jpg  \n",
            " extracting: /content/train/images/PXL_20250327_083941098_jpg.rf.8406ede8729c02c755bac534c19ffa55.jpg  \n",
            " extracting: /content/train/images/PXL_20250327_083941098_jpg.rf.bbe0f9393b765d02f85241110273db2a.jpg  \n",
            " extracting: /content/train/images/PXL_20250327_083941098_jpg.rf.c9bf0f81ab0e5ca349b42acb69274e41.jpg  \n",
            " extracting: /content/train/images/PXL_20250327_083942475_jpg.rf.6bb651c7824d71ed4e6c7138adc94f4e.jpg  \n",
            " extracting: /content/train/images/PXL_20250327_083942475_jpg.rf.75739c4cecb53d6e55eb6ca506c3c297.jpg  \n",
            " extracting: /content/train/images/PXL_20250327_083942475_jpg.rf.ebb82c3b268bfd83e14ddbcca1fc4627.jpg  \n",
            " extracting: /content/train/images/PXL_20250327_083944463_jpg.rf.1a902ffdb90386fc332fbc43c59e6b7a.jpg  \n",
            " extracting: /content/train/images/PXL_20250327_083944463_jpg.rf.1b9ac9ab6b9e61e71e64ae012a828970.jpg  \n",
            " extracting: /content/train/images/PXL_20250327_083944463_jpg.rf.6182c7f9f78a30eb65343c79da13db53.jpg  \n",
            " extracting: /content/train/images/PXL_20250327_083948945_jpg.rf.000f68348d313bcc7712df7cfe92630d.jpg  \n",
            " extracting: /content/train/images/PXL_20250327_083948945_jpg.rf.5e048086158d885ec0bb045f6cbaeab3.jpg  \n",
            " extracting: /content/train/images/PXL_20250327_083948945_jpg.rf.feaf40245aec6962091158a827b76365.jpg  \n",
            " extracting: /content/train/images/PXL_20250327_083951345_jpg.rf.1d30c47535f939c70dcdb3a5bcc510bd.jpg  \n",
            " extracting: /content/train/images/PXL_20250327_083951345_jpg.rf.336bf090fd246f904bfae0ade77c7cce.jpg  \n",
            " extracting: /content/train/images/PXL_20250327_083951345_jpg.rf.c87fec36559944ab3c4a2d4b4c016fe5.jpg  \n",
            " extracting: /content/train/images/PXL_20250327_084000260_jpg.rf.5f7cf85d59ab1f44d04c5c42adb87c26.jpg  \n",
            " extracting: /content/train/images/PXL_20250327_084000260_jpg.rf.70d721934a10851fbb7350e1a17007d1.jpg  \n",
            " extracting: /content/train/images/PXL_20250327_084000260_jpg.rf.9b94f560c6a4b61891fe9cdcc763583d.jpg  \n",
            " extracting: /content/train/images/PXL_20250327_084004706_jpg.rf.2efc457cf3034447aeba7604479f7e1b.jpg  \n",
            " extracting: /content/train/images/PXL_20250327_084004706_jpg.rf.438c07be96f7b6d0807b3353593e0a5a.jpg  \n",
            " extracting: /content/train/images/PXL_20250327_084004706_jpg.rf.f7254c191db8f4900b04b93f978667de.jpg  \n",
            " extracting: /content/train/images/PXL_20250327_084008888_jpg.rf.28b3e8fba5f79bb4939d1fcaebdbe11a.jpg  \n",
            " extracting: /content/train/images/PXL_20250327_084008888_jpg.rf.56ae56426b7140534c88cee39fa37479.jpg  \n",
            " extracting: /content/train/images/PXL_20250327_084008888_jpg.rf.f050ec19b75d013ceb51ad5ed586b6fc.jpg  \n",
            " extracting: /content/train/images/PXL_20250327_084138676_jpg.rf.57117eef9169aea9e1fc26829eac637f.jpg  \n",
            " extracting: /content/train/images/PXL_20250327_084138676_jpg.rf.df7032d8324e24d918ac1deb009b5981.jpg  \n",
            " extracting: /content/train/images/PXL_20250327_084138676_jpg.rf.df87f3acad2b19fdf3b84c3b7c0c508c.jpg  \n",
            " extracting: /content/train/images/PXL_20250327_084140758_jpg.rf.377ef4a07be826f7ae23340c30efc1f3.jpg  \n",
            " extracting: /content/train/images/PXL_20250327_084140758_jpg.rf.39c5b7db2f900c99dee0e241f855d125.jpg  \n",
            " extracting: /content/train/images/PXL_20250327_084140758_jpg.rf.55632940d4ca8d3116d1490c70f8fb52.jpg  \n",
            " extracting: /content/train/images/PXL_20250327_084144455_jpg.rf.233aa02179d7bf76ae7645b8df3524c3.jpg  \n",
            " extracting: /content/train/images/PXL_20250327_084144455_jpg.rf.2d951446c3fb74ba3e273323ace5c420.jpg  \n",
            " extracting: /content/train/images/PXL_20250327_084144455_jpg.rf.f03604a47d30e2ec22d8acc191466559.jpg  \n",
            " extracting: /content/train/images/PXL_20250327_084146569_jpg.rf.32dd6900a67a7fbb1c2244771a22868d.jpg  \n",
            " extracting: /content/train/images/PXL_20250327_084146569_jpg.rf.57cf6f7dd726b00643c55a0554d7aade.jpg  \n",
            " extracting: /content/train/images/PXL_20250327_084146569_jpg.rf.ad45222fed1cf949d2780b9f14ed8807.jpg  \n",
            " extracting: /content/train/images/PXL_20250327_084147565_jpg.rf.05b0fae39bea359ab00f041d7a2e2361.jpg  \n",
            " extracting: /content/train/images/PXL_20250327_084147565_jpg.rf.4daa522096fcef5f3ebcd547183d0a4e.jpg  \n",
            " extracting: /content/train/images/PXL_20250327_084147565_jpg.rf.b109a914d7ea4a7829041275f379adf5.jpg  \n",
            " extracting: /content/train/images/PXL_20250327_084150221_jpg.rf.d04ef347fb40428b0d7053d6e27fb557.jpg  \n",
            " extracting: /content/train/images/PXL_20250327_084150221_jpg.rf.e2e49f1ece40a999662bbc0cd59df98f.jpg  \n",
            " extracting: /content/train/images/PXL_20250327_084150221_jpg.rf.fd8e99edc882577e1a90446630c0bb79.jpg  \n",
            " extracting: /content/train/images/PXL_20250327_084151650_jpg.rf.418e283a165ee39742ac868248e512a9.jpg  \n",
            " extracting: /content/train/images/PXL_20250327_084151650_jpg.rf.bfee0f9369acdbcaad4cf923ddd480e2.jpg  \n",
            " extracting: /content/train/images/PXL_20250327_084151650_jpg.rf.e8be44ea597289b9dc2cd880e3d5416c.jpg  \n",
            " extracting: /content/train/images/PXL_20250327_084156940_jpg.rf.1ea33f1e4db8e5791e4adfaa82017f0b.jpg  \n",
            " extracting: /content/train/images/PXL_20250327_084156940_jpg.rf.aebdf4ce3049dcd8e42dc9575b7ad2ca.jpg  \n",
            " extracting: /content/train/images/PXL_20250327_084156940_jpg.rf.ca0c3381fc8b47f36b861e14491eaba3.jpg  \n",
            " extracting: /content/train/images/PXL_20250327_084158562_jpg.rf.20cb1a96c9e16cb25c9a9f283d3eb74e.jpg  \n",
            " extracting: /content/train/images/PXL_20250327_084158562_jpg.rf.441a8da9205b7383141c9ce76172b223.jpg  \n",
            " extracting: /content/train/images/PXL_20250327_084158562_jpg.rf.73ae8c7eabd0826b2ed1bac6c2bb8a7b.jpg  \n",
            " extracting: /content/train/images/PXL_20250327_084159595_jpg.rf.2d29072d6338cdf0b7cbdf4147b3065b.jpg  \n",
            " extracting: /content/train/images/PXL_20250327_084159595_jpg.rf.5a96b62fdd118ccc21bcf1ebe3ad2b07.jpg  \n",
            " extracting: /content/train/images/PXL_20250327_084159595_jpg.rf.608da6ca0ff4cd4d9ac8d472af0df5db.jpg  \n",
            " extracting: /content/train/images/PXL_20250327_084201875_jpg.rf.0d96df92fd56714372fd50c2c67334f8.jpg  \n",
            " extracting: /content/train/images/PXL_20250327_084201875_jpg.rf.362d4dc647a895850e412b22d8ffbb4e.jpg  \n",
            " extracting: /content/train/images/PXL_20250327_084201875_jpg.rf.5e56173e33227a9b9312cfa03b24b142.jpg  \n",
            " extracting: /content/train/images/PXL_20250327_084206081_jpg.rf.4ea8efc0aa3d47d180d8fbce743c4893.jpg  \n",
            " extracting: /content/train/images/PXL_20250327_084206081_jpg.rf.af601ed70b8f2f82a8364137781b5b96.jpg  \n",
            " extracting: /content/train/images/PXL_20250327_084206081_jpg.rf.d45a57dfe326d31bfefb37993e5d2961.jpg  \n",
            " extracting: /content/train/images/PXL_20250327_084211437_jpg.rf.42e82845a98f56c83b0e8678a386906d.jpg  \n",
            " extracting: /content/train/images/PXL_20250327_084211437_jpg.rf.5620edaec7a65650526d2280b6b34190.jpg  \n",
            " extracting: /content/train/images/PXL_20250327_084211437_jpg.rf.a1c287df659a7e3e3003bb6a1db578bc.jpg  \n",
            " extracting: /content/train/images/PXL_20250327_084217544_jpg.rf.34b248d00d462a27ff7f5d59511d2a40.jpg  \n",
            " extracting: /content/train/images/PXL_20250327_084217544_jpg.rf.84c220640630b6cd5836eb1a39c98dec.jpg  \n",
            " extracting: /content/train/images/PXL_20250327_084217544_jpg.rf.c8d7e39acede83c2ef407e4b8a1734b9.jpg  \n",
            " extracting: /content/train/images/PXL_20250327_084220917_jpg.rf.222003d5bd852542f9c2a5e2f545a33e.jpg  \n",
            " extracting: /content/train/images/PXL_20250327_084220917_jpg.rf.51d04ee971c628d13529638b04270572.jpg  \n",
            " extracting: /content/train/images/PXL_20250327_084220917_jpg.rf.6955daa2ce27b29c3213f5950f11c268.jpg  \n",
            " extracting: /content/train/images/PXL_20250327_084229648_jpg.rf.2f5ded55167639e90a94a95d291c45cb.jpg  \n",
            " extracting: /content/train/images/PXL_20250327_084229648_jpg.rf.cd2d03efe4d046e23032b96e0a482813.jpg  \n",
            " extracting: /content/train/images/PXL_20250327_084229648_jpg.rf.d7dd3a88f0938780e81c592273c592d0.jpg  \n",
            " extracting: /content/train/images/PXL_20250327_084237533_jpg.rf.3a2ef966b15be334619dbfe027277102.jpg  \n",
            " extracting: /content/train/images/PXL_20250327_084237533_jpg.rf.43ac59b6167c8aff5f7874cc869444c7.jpg  \n",
            " extracting: /content/train/images/PXL_20250327_084237533_jpg.rf.51fd65fe67ccc669fa9373244e0c4d57.jpg  \n",
            " extracting: /content/train/images/PXL_20250327_084246466_jpg.rf.7d7fa5ebe5d70f6366d7bf6a2119e0d0.jpg  \n",
            " extracting: /content/train/images/PXL_20250327_084246466_jpg.rf.b4da29d608b484a287b7eca53a98312e.jpg  \n",
            " extracting: /content/train/images/PXL_20250327_084246466_jpg.rf.dea1ee3e335ff119878a5691c1eebb3c.jpg  \n",
            " extracting: /content/train/images/PXL_20250327_084252659_jpg.rf.16c3152302291585cb2d188fb312cc02.jpg  \n",
            " extracting: /content/train/images/PXL_20250327_084252659_jpg.rf.2dde1e14222880bfe36f42d800abafe9.jpg  \n",
            " extracting: /content/train/images/PXL_20250327_084252659_jpg.rf.5f6156862464641dd478724fb85b2dd3.jpg  \n",
            " extracting: /content/train/images/PXL_20250327_084254407_jpg.rf.61c8fbf8c76ba9ea05639fa1797b6720.jpg  \n",
            " extracting: /content/train/images/PXL_20250327_084254407_jpg.rf.993449b97aba291b4aa07dc935a80501.jpg  \n",
            " extracting: /content/train/images/PXL_20250327_084254407_jpg.rf.f2865e5711e140f25f0d3927d8b8181c.jpg  \n",
            " extracting: /content/train/images/PXL_20250327_084256117_jpg.rf.76993bd736063deccd67a87b26003c0d.jpg  \n",
            " extracting: /content/train/images/PXL_20250327_084256117_jpg.rf.ad924e984913e8abc1398c29c1f54f80.jpg  \n",
            " extracting: /content/train/images/PXL_20250327_084256117_jpg.rf.f5aa46649fe7b033a734ffbbf475dc05.jpg  \n",
            " extracting: /content/train/images/PXL_20250327_084258446_jpg.rf.33fbc679b5013717f8e71caefe7fabff.jpg  \n",
            " extracting: /content/train/images/PXL_20250327_084258446_jpg.rf.73d52159dc57f53360b9e81e47104e7b.jpg  \n",
            " extracting: /content/train/images/PXL_20250327_084258446_jpg.rf.b5a5ccc011d6e9f0ceecd07670f82e82.jpg  \n",
            " extracting: /content/train/images/PXL_20250327_084322444_jpg.rf.4f9eb7abf3f2eed209114ecc5c1ddfcc.jpg  \n",
            " extracting: /content/train/images/PXL_20250327_084322444_jpg.rf.8dba8424c9f4cad5664899254e50385a.jpg  \n",
            " extracting: /content/train/images/PXL_20250327_084322444_jpg.rf.cbcbefb49ac9b092f7e213e9efe61835.jpg  \n",
            " extracting: /content/train/images/PXL_20250327_084325018_jpg.rf.2082c850647f3debf4ad70c0ce12a1d3.jpg  \n",
            " extracting: /content/train/images/PXL_20250327_084325018_jpg.rf.cc15c74583dedb89325415f4eacc8637.jpg  \n",
            " extracting: /content/train/images/PXL_20250327_084325018_jpg.rf.ffb99999139fa552c652d2aaed7ed79a.jpg  \n",
            " extracting: /content/train/images/PXL_20250327_084327637_jpg.rf.045ac3f43a9680232d2758c7082d9d48.jpg  \n",
            " extracting: /content/train/images/PXL_20250327_084327637_jpg.rf.3d33672e652bcac0a3f4b021f6e2b561.jpg  \n",
            " extracting: /content/train/images/PXL_20250327_084327637_jpg.rf.ff7df19eb92c6d13cc50553fc47aa72d.jpg  \n",
            " extracting: /content/train/images/PXL_20250327_144150056_MP_jpg.rf.110b60826a157687d83d4bf89c613a4e.jpg  \n",
            " extracting: /content/train/images/PXL_20250327_144150056_MP_jpg.rf.92dd605d99d7a36d9fb8f17eba98592b.jpg  \n",
            " extracting: /content/train/images/PXL_20250327_144150056_MP_jpg.rf.c58ed458adc385da0173777e94ddc7ab.jpg  \n",
            " extracting: /content/train/images/PXL_20250327_150311088_jpg.rf.8b215f13217d2ec9f5d548d4eb07e8b6.jpg  \n",
            " extracting: /content/train/images/PXL_20250327_150311088_jpg.rf.97bafa095d4e7a2bc3be12e4b535819a.jpg  \n",
            " extracting: /content/train/images/PXL_20250327_150311088_jpg.rf.f2b4430ed615de4592826e57d1ddaef1.jpg  \n",
            " extracting: /content/train/images/PXL_20250327_150356180_jpg.rf.bbd7248736654fc027a1711005e45318.jpg  \n",
            " extracting: /content/train/images/PXL_20250327_150356180_jpg.rf.cb45143d259dd829ef420823c4f6086a.jpg  \n",
            " extracting: /content/train/images/PXL_20250327_150356180_jpg.rf.d0ffd322a0494a35fe1bc931e3a55b25.jpg  \n",
            " extracting: /content/train/images/PXL_20250327_150359152_jpg.rf.29e048bcf283d6fcedb21651917e87c2.jpg  \n",
            " extracting: /content/train/images/PXL_20250327_150359152_jpg.rf.c51f737d5903fcdca509efc22b6b11dd.jpg  \n",
            " extracting: /content/train/images/PXL_20250327_150359152_jpg.rf.ce7927aaf2f27014c54b1d33c4a28504.jpg  \n",
            " extracting: /content/train/images/PXL_20250327_152757643_MP_jpg.rf.170c60ef469fdff627c9877bdbfa8e58.jpg  \n",
            " extracting: /content/train/images/PXL_20250327_152757643_MP_jpg.rf.ae9a9e9bfd9f0af8002077e2780798fb.jpg  \n",
            " extracting: /content/train/images/PXL_20250327_152757643_MP_jpg.rf.e8edce18c1ca9f2749f6339ff74b174b.jpg  \n",
            " extracting: /content/train/images/PXL_20250327_152801203_MP_jpg.rf.901186b655e44870ea53fbdd18bfcad7.jpg  \n",
            " extracting: /content/train/images/PXL_20250327_152801203_MP_jpg.rf.aea80d4cbb655e516e7b5cb32b9f7c2a.jpg  \n",
            " extracting: /content/train/images/PXL_20250327_152801203_MP_jpg.rf.cb703db41d8f4212b94fd6f602690c66.jpg  \n",
            " extracting: /content/train/images/PXL_20250327_152803892_MP_jpg.rf.13fb0b15af60c5925e6412876bbec2ea.jpg  \n",
            " extracting: /content/train/images/PXL_20250327_152803892_MP_jpg.rf.796336990f5ddd543a0aeaa75e59450e.jpg  \n",
            " extracting: /content/train/images/PXL_20250327_152803892_MP_jpg.rf.86280ae8fa4715903e4917b1be9220fe.jpg  \n",
            " extracting: /content/train/images/PXL_20250327_152805704_MP_jpg.rf.0c9f738a504ee3deaff9ac51d20de661.jpg  \n",
            " extracting: /content/train/images/PXL_20250327_152805704_MP_jpg.rf.57ec9323938c0270ea675a9605b258c1.jpg  \n",
            " extracting: /content/train/images/PXL_20250327_152805704_MP_jpg.rf.595eee4561b3deb0bbb5e77d83b02469.jpg  \n",
            " extracting: /content/train/images/PXL_20250327_152808612_MP_jpg.rf.1bc364132bf3eaa553a268dd033b3014.jpg  \n",
            " extracting: /content/train/images/PXL_20250327_152808612_MP_jpg.rf.51072b6209392a4c7b70812273548bd9.jpg  \n",
            " extracting: /content/train/images/PXL_20250327_152808612_MP_jpg.rf.718d0b877c46e5f397406a5b4f50f041.jpg  \n",
            " extracting: /content/train/images/PXL_20250327_152811181_MP_jpg.rf.5c9895ec85ecec528e338556ac19cf58.jpg  \n",
            " extracting: /content/train/images/PXL_20250327_152811181_MP_jpg.rf.74592f27c3995eb02e0df802be2f446f.jpg  \n",
            " extracting: /content/train/images/PXL_20250327_152811181_MP_jpg.rf.7ea33b2b89bce6c14e61e297ffb9f0b1.jpg  \n",
            " extracting: /content/train/images/PXL_20250327_152813730_MP_jpg.rf.37eb03f592efaa577b05e3e0e1fc050a.jpg  \n",
            " extracting: /content/train/images/PXL_20250327_152813730_MP_jpg.rf.d81303fb546d1c2e4c6b8931294e261e.jpg  \n",
            " extracting: /content/train/images/PXL_20250327_152813730_MP_jpg.rf.ea4542809d9c815dd20b49b32a1a5a2b.jpg  \n",
            " extracting: /content/train/images/PXL_20250327_152819631_MP_jpg.rf.52e763e0855c182e6971c4a1563a8eee.jpg  \n",
            " extracting: /content/train/images/PXL_20250327_152819631_MP_jpg.rf.79114c7cfc1aeb61a4a743cb7e3043af.jpg  \n",
            " extracting: /content/train/images/PXL_20250327_152819631_MP_jpg.rf.dab70135acb8ed1613f5523537c7a4ce.jpg  \n",
            " extracting: /content/train/images/PXL_20250327_152822947_MP_jpg.rf.88c262afc903885e2139d846027d659a.jpg  \n",
            " extracting: /content/train/images/PXL_20250327_152822947_MP_jpg.rf.cc6a2159c3597a60d60f4ab6b65e2a6c.jpg  \n",
            " extracting: /content/train/images/PXL_20250327_152822947_MP_jpg.rf.f37f0094b9bd138d018ad316623eb560.jpg  \n",
            " extracting: /content/train/images/PXL_20250327_152826628_MP_jpg.rf.3eb83456e43c729af3935e5d9fb56ec1.jpg  \n",
            " extracting: /content/train/images/PXL_20250327_152826628_MP_jpg.rf.d268f6e7d390fd6c68ee2851042ee99b.jpg  \n",
            " extracting: /content/train/images/PXL_20250327_152826628_MP_jpg.rf.ddab078f1c3f1273f5ed0d7257dd9c1b.jpg  \n",
            " extracting: /content/train/images/PXL_20250327_152833753_MP_jpg.rf.9d46e324e05318329d5d17adf7b3a0b7.jpg  \n",
            " extracting: /content/train/images/PXL_20250327_152833753_MP_jpg.rf.ad1ea053583fb60ae94b9450b605ac2d.jpg  \n",
            " extracting: /content/train/images/PXL_20250327_152833753_MP_jpg.rf.c89cee4e13546b7cc3c52e051527d030.jpg  \n",
            " extracting: /content/train/images/PXL_20250327_152837382_MP_jpg.rf.23de83acb863ce66325a2f2b7fc61832.jpg  \n",
            " extracting: /content/train/images/PXL_20250327_152837382_MP_jpg.rf.61f58411b755ed3bbda3f451aaa7da9f.jpg  \n",
            " extracting: /content/train/images/PXL_20250327_152837382_MP_jpg.rf.734f8ac0e9533e62df0c95377bb1c1aa.jpg  \n",
            " extracting: /content/train/images/PXL_20250327_152840485_MP_jpg.rf.1031cbd9e84331e14a9ca4b98f72769d.jpg  \n",
            " extracting: /content/train/images/PXL_20250327_152840485_MP_jpg.rf.59f8c2e1ef341160c36616d9dd861bba.jpg  \n",
            " extracting: /content/train/images/PXL_20250327_152840485_MP_jpg.rf.be0f59e65d612cb6453a3f132f359293.jpg  \n",
            " extracting: /content/train/images/PXL_20250327_152843337_MP_jpg.rf.2722e742ee21ffa24862efb4024bbb1a.jpg  \n",
            " extracting: /content/train/images/PXL_20250327_152843337_MP_jpg.rf.9aa2188b9bfff46382a3c52fa12e4067.jpg  \n",
            " extracting: /content/train/images/PXL_20250327_152843337_MP_jpg.rf.cb2ee18b1fdd2020a56e69a330a87674.jpg  \n",
            " extracting: /content/train/images/PXL_20250327_152846481_MP_jpg.rf.07f9005d818172660bd6d220b149a788.jpg  \n",
            " extracting: /content/train/images/PXL_20250327_152846481_MP_jpg.rf.31c14a94c14c1cec4e0a81aef4eb68ed.jpg  \n",
            " extracting: /content/train/images/PXL_20250327_152846481_MP_jpg.rf.9eaa64a2de09463e3b8939777b23eb5c.jpg  \n",
            " extracting: /content/train/images/PXL_20250327_152850136_MP_jpg.rf.33dfe944f588fddbeb60912bc9459991.jpg  \n",
            " extracting: /content/train/images/PXL_20250327_152850136_MP_jpg.rf.725379481248c505b97fd9ed52f52e02.jpg  \n",
            " extracting: /content/train/images/PXL_20250327_152850136_MP_jpg.rf.ac20208195324053dcdb9d4ed9a22471.jpg  \n",
            " extracting: /content/train/images/PXL_20250327_152853535_MP_jpg.rf.5f52af2b5f605de66d61579d5bc87722.jpg  \n",
            " extracting: /content/train/images/PXL_20250327_152853535_MP_jpg.rf.88da9951ac80c84abfdbb0f17b3f918a.jpg  \n",
            " extracting: /content/train/images/PXL_20250327_152853535_MP_jpg.rf.c73e246bb6276ffd08d3bc019193b6ac.jpg  \n",
            " extracting: /content/train/images/PXL_20250327_152856848_MP_jpg.rf.1bf2a0ad8f13b2bafb9e4bf6945aff36.jpg  \n",
            " extracting: /content/train/images/PXL_20250327_152856848_MP_jpg.rf.95cc48e82723d835fc9ccd8ce94dccad.jpg  \n",
            " extracting: /content/train/images/PXL_20250327_152856848_MP_jpg.rf.dd77d1256964f09844d8513249639061.jpg  \n",
            " extracting: /content/train/images/PXL_20250327_152902297_MP_jpg.rf.6ccd275460bc64531342083d525d6758.jpg  \n",
            " extracting: /content/train/images/PXL_20250327_152902297_MP_jpg.rf.b45b425c388014e211d72561adb323b7.jpg  \n",
            " extracting: /content/train/images/PXL_20250327_152902297_MP_jpg.rf.e44005d98b98507cffa70adb2f96b3f1.jpg  \n",
            " extracting: /content/train/images/PXL_20250327_152904682_MP_jpg.rf.5ca5b3e502d3c0e498ed08084bb96d56.jpg  \n",
            " extracting: /content/train/images/PXL_20250327_152904682_MP_jpg.rf.aae3667e82c55f552185ad4416468090.jpg  \n",
            " extracting: /content/train/images/PXL_20250327_152904682_MP_jpg.rf.f9ec235eb843929ee0ce24714f150db2.jpg  \n",
            " extracting: /content/train/images/PXL_20250327_152906621_MP_jpg.rf.9e2959078d41e4c0edce66d7784ecb5b.jpg  \n",
            " extracting: /content/train/images/PXL_20250327_152906621_MP_jpg.rf.a2f8d987e5364d2554021310cc9ce899.jpg  \n",
            " extracting: /content/train/images/PXL_20250327_152906621_MP_jpg.rf.be2540373d4343d3e55682ccc033ca26.jpg  \n",
            " extracting: /content/train/images/PXL_20250327_152908874_MP_jpg.rf.8278b8a5ac7e1d32b392bc8c80ac85ef.jpg  \n",
            " extracting: /content/train/images/PXL_20250327_152908874_MP_jpg.rf.c136d1559b73f93db7f2395a5f044cc3.jpg  \n",
            " extracting: /content/train/images/PXL_20250327_152908874_MP_jpg.rf.f987392556a868a70c94ecf6161c03ee.jpg  \n",
            " extracting: /content/train/images/PXL_20250327_152911129_MP_jpg.rf.21855d63fc88b93f503b76237db0942b.jpg  \n",
            " extracting: /content/train/images/PXL_20250327_152911129_MP_jpg.rf.9115eadf9abc1dc26b9b7805e6f91626.jpg  \n",
            " extracting: /content/train/images/PXL_20250327_152911129_MP_jpg.rf.fdf2eb6144a637558f1eff1685fcadcc.jpg  \n",
            " extracting: /content/train/images/PXL_20250327_152913409_MP_jpg.rf.25d5bb2f86c3e03fd6f3d137fc9be01d.jpg  \n",
            " extracting: /content/train/images/PXL_20250327_152913409_MP_jpg.rf.26aa9827992d2fd73760a082e97d1ba2.jpg  \n",
            " extracting: /content/train/images/PXL_20250327_152913409_MP_jpg.rf.f29ca8dfc1d1e2eff08ffd2c2d5047a6.jpg  \n",
            " extracting: /content/train/images/PXL_20250327_152924693_jpg.rf.566a419b652b8014e6eab64d8b16eda3.jpg  \n",
            " extracting: /content/train/images/PXL_20250327_152924693_jpg.rf.7498e2f0856e1e17403a527531a24cde.jpg  \n",
            " extracting: /content/train/images/PXL_20250327_152924693_jpg.rf.f857c2034de4b2ad6ee0a12198fb686e.jpg  \n",
            " extracting: /content/train/images/PXL_20250327_152929042_jpg.rf.5b8494149dc83d2e139726c2cc71836c.jpg  \n",
            " extracting: /content/train/images/PXL_20250327_152929042_jpg.rf.9be09122c7c25343fde294bfd70cca6b.jpg  \n",
            " extracting: /content/train/images/PXL_20250327_152929042_jpg.rf.ac8334b2ffa7cb87f4bc799d744723bc.jpg  \n",
            " extracting: /content/train/images/PXL_20250327_152934661_jpg.rf.055606ca486ba84e6ccfa86ec6b82bfd.jpg  \n",
            " extracting: /content/train/images/PXL_20250327_152934661_jpg.rf.6d04aa8e7f44e07b328967bcf92ee9e2.jpg  \n",
            " extracting: /content/train/images/PXL_20250327_152934661_jpg.rf.83f3c0c3d88c8fe79653687636ce3516.jpg  \n",
            " extracting: /content/train/images/PXL_20250327_152939840_jpg.rf.055aec7c86aad5abcb3b0d94b457ba51.jpg  \n",
            " extracting: /content/train/images/PXL_20250327_152939840_jpg.rf.19fae2e4146f4267a3b2f95d2a35176e.jpg  \n",
            " extracting: /content/train/images/PXL_20250327_152939840_jpg.rf.1f7afadf570f1be539e85c3c9b838eb3.jpg  \n",
            " extracting: /content/train/images/PXL_20250327_152944682_jpg.rf.9d9686eed543cf1b0e5c8b713818b825.jpg  \n",
            " extracting: /content/train/images/PXL_20250327_152944682_jpg.rf.c447cc3c01e7f142ed30e7af0527dbb6.jpg  \n",
            " extracting: /content/train/images/PXL_20250327_152944682_jpg.rf.c6e7968fd11f1b56cae1430e0624e611.jpg  \n",
            " extracting: /content/train/images/PXL_20250327_152946958_jpg.rf.2b1eafaf753265e3e9570470130bf15a.jpg  \n",
            " extracting: /content/train/images/PXL_20250327_152946958_jpg.rf.6855fa813dab384c5ea1bbdd50fecdb8.jpg  \n",
            " extracting: /content/train/images/PXL_20250327_152946958_jpg.rf.b86e3a53da7ee7bfb29c3a58db98058d.jpg  \n",
            " extracting: /content/train/images/PXL_20250327_152948880_jpg.rf.0a869f4a41d6a7027aaa6288b2e98867.jpg  \n",
            " extracting: /content/train/images/PXL_20250327_152948880_jpg.rf.d1d471b44907f3e3b6930cfbbd2080a2.jpg  \n",
            " extracting: /content/train/images/PXL_20250327_152948880_jpg.rf.e12b7cd51d08a8365aa3fd8ed15ecbc8.jpg  \n",
            " extracting: /content/train/images/PXL_20250327_152953824_jpg.rf.5d44b28bb61f443fb8853273907ad4b0.jpg  \n",
            " extracting: /content/train/images/PXL_20250327_152953824_jpg.rf.959fd4dc3e84b1c63f75556ca07d33c1.jpg  \n",
            " extracting: /content/train/images/PXL_20250327_152953824_jpg.rf.e43e7a1bcb8a4a1d288507606d79e947.jpg  \n",
            " extracting: /content/train/images/PXL_20250327_152957449_jpg.rf.41f95caadc0c1a0ef05a0a95888f94db.jpg  \n",
            " extracting: /content/train/images/PXL_20250327_152957449_jpg.rf.6dcfbc84b5be032b03037b6b2b2139df.jpg  \n",
            " extracting: /content/train/images/PXL_20250327_152957449_jpg.rf.937ba9806fbcf44799bd89fd42b017ac.jpg  \n",
            " extracting: /content/train/images/PXL_20250327_152959730_jpg.rf.026183a59ec8071f0b5362d13dd219ab.jpg  \n",
            " extracting: /content/train/images/PXL_20250327_152959730_jpg.rf.66fdb95df811f9ab17ef27ac634fad84.jpg  \n",
            " extracting: /content/train/images/PXL_20250327_152959730_jpg.rf.834f7fb4dc141378eae3dd97ed1148c7.jpg  \n",
            " extracting: /content/train/images/PXL_20250327_153018283_jpg.rf.3406a82192d946497f6d528743e15176.jpg  \n",
            " extracting: /content/train/images/PXL_20250327_153018283_jpg.rf.50ec51c1a5d35bb02b2697c34dfdf574.jpg  \n",
            " extracting: /content/train/images/PXL_20250327_153018283_jpg.rf.cce93c7211f48dd6de0c0f6184b32bb1.jpg  \n",
            " extracting: /content/train/images/PXL_20250327_153023139_jpg.rf.32021274ea684c423b02112d181faf62.jpg  \n",
            " extracting: /content/train/images/PXL_20250327_153023139_jpg.rf.504c1ec5411700ed5e538fe37a40fc5a.jpg  \n",
            " extracting: /content/train/images/PXL_20250327_153023139_jpg.rf.71f70477c5b24b008eeaf582b322dac4.jpg  \n",
            " extracting: /content/train/images/PXL_20250327_153040120_jpg.rf.4a12d0661352d146d624106a7386223c.jpg  \n",
            " extracting: /content/train/images/PXL_20250327_153040120_jpg.rf.c0d43da464b39e6f68849fee40563522.jpg  \n",
            " extracting: /content/train/images/PXL_20250327_153040120_jpg.rf.cf2fc465806a4b6b6dae11eb22cd236c.jpg  \n",
            " extracting: /content/train/images/PXL_20250327_153041894_jpg.rf.9e0a097d32582324dc5623488d0fc3d0.jpg  \n",
            " extracting: /content/train/images/PXL_20250327_153041894_jpg.rf.aa341a2648cdd151dacac8bd402cccdd.jpg  \n",
            " extracting: /content/train/images/PXL_20250327_153041894_jpg.rf.c8cfd49e0b7e33de41512094f7f8a81c.jpg  \n",
            " extracting: /content/train/images/PXL_20250327_153049044_jpg.rf.89f725b4d6952a7ab89989e3bcea863a.jpg  \n",
            " extracting: /content/train/images/PXL_20250327_153049044_jpg.rf.b47854f2615fe93069b9a8f730c69454.jpg  \n",
            " extracting: /content/train/images/PXL_20250327_153049044_jpg.rf.f1c5901850ab8507d91ef9a0dcc6c501.jpg  \n",
            " extracting: /content/train/images/PXL_20250327_153055493_jpg.rf.3ca254d1fb36bf0b046391c491eba698.jpg  \n",
            " extracting: /content/train/images/PXL_20250327_153055493_jpg.rf.bf911f9d3ad65766c1655a817443f64e.jpg  \n",
            " extracting: /content/train/images/PXL_20250327_153055493_jpg.rf.d124cac33e8f6e47c843a64389c7bce0.jpg  \n",
            " extracting: /content/train/images/PXL_20250327_153104104_jpg.rf.4e09d05faa7d1fffd19e767baed443ce.jpg  \n",
            " extracting: /content/train/images/PXL_20250327_153104104_jpg.rf.5bf3f42e69f9393d80f9d9e8cf1885dc.jpg  \n",
            " extracting: /content/train/images/PXL_20250327_153104104_jpg.rf.68247ce7ff12ba42266cd43d1397f91d.jpg  \n",
            " extracting: /content/train/images/PXL_20250327_153113843_jpg.rf.132137e3c41f21a87e9716d6e94706a5.jpg  \n",
            " extracting: /content/train/images/PXL_20250327_153113843_jpg.rf.192e74976652f1038c3f0986bff89b35.jpg  \n",
            " extracting: /content/train/images/PXL_20250327_153113843_jpg.rf.19a64691995fd38808ba9a1abe226eb9.jpg  \n",
            " extracting: /content/train/images/PXL_20250327_153116251_jpg.rf.1755abf62008fd4b99770ecb125768f1.jpg  \n",
            " extracting: /content/train/images/PXL_20250327_153116251_jpg.rf.658b00e787c3b84ce8b87ab13b23b43a.jpg  \n",
            " extracting: /content/train/images/PXL_20250327_153116251_jpg.rf.c053f675921728f9b189b666fdff6dd0.jpg  \n",
            " extracting: /content/train/images/PXL_20250327_153126422_jpg.rf.bbaba4f6f0b14a5ea5d7c7c817d006f3.jpg  \n",
            " extracting: /content/train/images/PXL_20250327_153126422_jpg.rf.c2670e10c680b2fe1c615f93c6b87383.jpg  \n",
            " extracting: /content/train/images/PXL_20250327_153126422_jpg.rf.c73dff13588104d09bcc56a0e44c662d.jpg  \n",
            " extracting: /content/train/images/PXL_20250327_153129739_jpg.rf.2b24e06dac7e830aad3a5e62f3768c43.jpg  \n",
            " extracting: /content/train/images/PXL_20250327_153129739_jpg.rf.97eedd8eefdff3c798baffcc4c050b7a.jpg  \n",
            " extracting: /content/train/images/PXL_20250327_153129739_jpg.rf.b100430e4cc4b7eef416169a3fbbc346.jpg  \n",
            " extracting: /content/train/images/PXL_20250327_153132373_jpg.rf.429d395ddb4fbde09df6b5bdcdfd7251.jpg  \n",
            " extracting: /content/train/images/PXL_20250327_153132373_jpg.rf.5dafe899c6c6e614c70815c28006104b.jpg  \n",
            " extracting: /content/train/images/PXL_20250327_153132373_jpg.rf.92ce011bf7f4e4c1214dd204435bc699.jpg  \n",
            " extracting: /content/train/images/PXL_20250327_153159135_jpg.rf.2699f8e2f0c6edebee0aaba3fc9c616e.jpg  \n",
            " extracting: /content/train/images/PXL_20250327_153159135_jpg.rf.6e58e22d26a6ecaa09f171296088372d.jpg  \n",
            " extracting: /content/train/images/PXL_20250327_153159135_jpg.rf.d07e64386231081fd5c3c43bd1748f3e.jpg  \n",
            " extracting: /content/train/images/PXL_20250327_153202873_jpg.rf.1f8af74e2ac24f4e490ee2724463e6ab.jpg  \n",
            " extracting: /content/train/images/PXL_20250327_153202873_jpg.rf.2b237017bde73c0ddfecf64c07db5c1b.jpg  \n",
            " extracting: /content/train/images/PXL_20250327_153202873_jpg.rf.3aca0b4b94b717b71571cf2a0a828aff.jpg  \n",
            " extracting: /content/train/images/PXL_20250327_153206267_jpg.rf.1adecf59654f8b08d8e00c8775f40eb2.jpg  \n",
            " extracting: /content/train/images/PXL_20250327_153206267_jpg.rf.4e53a6d34903b2e5d2f380fc8d7aa6a2.jpg  \n",
            " extracting: /content/train/images/PXL_20250327_153206267_jpg.rf.64082f787a9eb81af319982c48faeb29.jpg  \n",
            " extracting: /content/train/images/PXL_20250327_153217848_jpg.rf.d25b04e95a1b952ec63825e12bfbbb1b.jpg  \n",
            " extracting: /content/train/images/PXL_20250327_153217848_jpg.rf.db6c56e373cd65a9a006501f1c975151.jpg  \n",
            " extracting: /content/train/images/PXL_20250327_153217848_jpg.rf.eb3e8b609d64fcce0586776e73e8570b.jpg  \n",
            " extracting: /content/train/images/PXL_20250327_153219483_jpg.rf.3be5d8a45fd78a019744507abda98ad8.jpg  \n",
            " extracting: /content/train/images/PXL_20250327_153219483_jpg.rf.5212049cf7a6570c674a215146f9993f.jpg  \n",
            " extracting: /content/train/images/PXL_20250327_153219483_jpg.rf.fc5a9c2d29293bac33a426780ba3bb3b.jpg  \n",
            " extracting: /content/train/images/PXL_20250327_153223710_jpg.rf.151eacf8e1401548954681684fab7bc9.jpg  \n",
            " extracting: /content/train/images/PXL_20250327_153223710_jpg.rf.386e48080b1a913f2c9d8f0c42397be0.jpg  \n",
            " extracting: /content/train/images/PXL_20250327_153223710_jpg.rf.5fa92dd13897efbce22835a4aa9355ba.jpg  \n",
            " extracting: /content/train/images/PXL_20250327_153235775_jpg.rf.7f568528459c4fd8e68b781414029e96.jpg  \n",
            " extracting: /content/train/images/PXL_20250327_153235775_jpg.rf.813ce3fca37b7fc7ac232be0939de16f.jpg  \n",
            " extracting: /content/train/images/PXL_20250327_153235775_jpg.rf.cf247715a5bceece5ba68d82c3bc5537.jpg  \n",
            " extracting: /content/train/images/PXL_20250327_153259881_jpg.rf.3b3006650b39d971d39787cd623bf910.jpg  \n",
            " extracting: /content/train/images/PXL_20250327_153259881_jpg.rf.9548991d284feb6649216891ec553a53.jpg  \n",
            " extracting: /content/train/images/PXL_20250327_153259881_jpg.rf.bd274465136ad5083c44bbd548d0f9fc.jpg  \n",
            " extracting: /content/train/images/PXL_20250327_153303941_jpg.rf.c24125e4c016f0d96e321713fbaa9b9e.jpg  \n",
            " extracting: /content/train/images/PXL_20250327_153303941_jpg.rf.c653fd362886360e3f5033e2231a71de.jpg  \n",
            " extracting: /content/train/images/PXL_20250327_153303941_jpg.rf.e6d4ba94f6bc6e7ec7aa08da1db09dfd.jpg  \n",
            " extracting: /content/train/images/PXL_20250327_153310826_jpg.rf.227c5590f07eae09f68afd278647bfe6.jpg  \n",
            " extracting: /content/train/images/PXL_20250327_153310826_jpg.rf.22a7f4eb3c4b6df3cfb05c020f799a36.jpg  \n",
            " extracting: /content/train/images/PXL_20250327_153310826_jpg.rf.30af066d399bce9c445a5e337c383feb.jpg  \n",
            " extracting: /content/train/images/PXL_20250327_153318582_jpg.rf.4862105586bb4eeee79576edb27cb95a.jpg  \n",
            " extracting: /content/train/images/PXL_20250327_153318582_jpg.rf.c4623fbc9bf8e5d232018a54fbc87ea9.jpg  \n",
            " extracting: /content/train/images/PXL_20250327_153318582_jpg.rf.db9010b571899379ec04c46a3dab7b81.jpg  \n",
            " extracting: /content/train/images/PXL_20250327_153319828_jpg.rf.661fb745623a0b5b3bed2b66126b52ee.jpg  \n",
            " extracting: /content/train/images/PXL_20250327_153319828_jpg.rf.ae2d4b26594213cbf5d8137a40e36eb1.jpg  \n",
            " extracting: /content/train/images/PXL_20250327_153319828_jpg.rf.e30dc55b01bd68345a3f382ebb1cf9ac.jpg  \n",
            " extracting: /content/train/images/PXL_20250327_153323963_jpg.rf.87dc82c400c015468f178fa5a5d6ab68.jpg  \n",
            " extracting: /content/train/images/PXL_20250327_153323963_jpg.rf.e47586c3ffadc811fd84228e3375b44f.jpg  \n",
            " extracting: /content/train/images/PXL_20250327_153323963_jpg.rf.fdcc65dddd1587c63f6c8a9a38c186d5.jpg  \n",
            " extracting: /content/train/images/PXL_20250327_153325277_jpg.rf.1040365cad5eeb4acbdce142d4770f0a.jpg  \n",
            " extracting: /content/train/images/PXL_20250327_153325277_jpg.rf.8fbd0f07f8c8275bea84adf1ef4d62da.jpg  \n",
            " extracting: /content/train/images/PXL_20250327_153325277_jpg.rf.b9007f76b497fd1306e055a44f5a9ddb.jpg  \n",
            " extracting: /content/train/images/PXL_20250327_153327565_jpg.rf.245c74d6386064e035c48631aca23688.jpg  \n",
            " extracting: /content/train/images/PXL_20250327_153327565_jpg.rf.25a068c3001b15675df6fe5cc29c1aa1.jpg  \n",
            " extracting: /content/train/images/PXL_20250327_153327565_jpg.rf.429971fafa8d993bd3fea9f008b0fef4.jpg  \n",
            " extracting: /content/train/images/PXL_20250327_153328922_jpg.rf.19b92a5d93dfb1b54a08b1c3e4f0297c.jpg  \n",
            " extracting: /content/train/images/PXL_20250327_153328922_jpg.rf.8e525731917bf95898d07767857757a2.jpg  \n",
            " extracting: /content/train/images/PXL_20250327_153328922_jpg.rf.bf6491bea7be826343076f38b341bc8f.jpg  \n",
            " extracting: /content/train/images/PXL_20250327_153329945_jpg.rf.207196c80513ab8903bf260036274ed7.jpg  \n",
            " extracting: /content/train/images/PXL_20250327_153329945_jpg.rf.3a250aff122ea17f356091c491071085.jpg  \n",
            " extracting: /content/train/images/PXL_20250327_153329945_jpg.rf.496a2394d83c99e2bb3786cb8a71fce8.jpg  \n",
            " extracting: /content/train/images/PXL_20250327_153342761_jpg.rf.2102efa6f8df8f90fba91373c5f9920a.jpg  \n",
            " extracting: /content/train/images/PXL_20250327_153342761_jpg.rf.3aa9ed76b77698db335daeb736754159.jpg  \n",
            " extracting: /content/train/images/PXL_20250327_153342761_jpg.rf.7410c1c7c5779b64e1211aa6ce49344b.jpg  \n",
            " extracting: /content/train/images/PXL_20250327_153344919_jpg.rf.3953cd478768b80ac045a8891c1b5817.jpg  \n",
            " extracting: /content/train/images/PXL_20250327_153344919_jpg.rf.5b516925210f48d22da453c6feb4ae3b.jpg  \n",
            " extracting: /content/train/images/PXL_20250327_153344919_jpg.rf.769f9d46a4aac9b5e0aa7c87b5ae9228.jpg  \n",
            " extracting: /content/train/images/PXL_20250327_153444083_jpg.rf.01d03e1ed85ef5bc706574ecccd5d682.jpg  \n",
            " extracting: /content/train/images/PXL_20250327_153444083_jpg.rf.c26a0a873bb46f3a3be587496d614932.jpg  \n",
            " extracting: /content/train/images/PXL_20250327_153444083_jpg.rf.e8bdd6c03019ad484b8fe857529f5a25.jpg  \n",
            " extracting: /content/train/images/PXL_20250327_153511354_jpg.rf.1009f564d745bb2053c43863b1bf7d3b.jpg  \n",
            " extracting: /content/train/images/PXL_20250327_153511354_jpg.rf.1023a4c576c8843977f9b1895891b51e.jpg  \n",
            " extracting: /content/train/images/PXL_20250327_153511354_jpg.rf.85c68497c47d6fdd4f7ab75c680e63ee.jpg  \n",
            " extracting: /content/train/images/PXL_20250327_153514093_jpg.rf.1d1d96c9aa21689cc9954c82cb20ed7a.jpg  \n",
            " extracting: /content/train/images/PXL_20250327_153514093_jpg.rf.5cc7a4e79becaedc1a1959a451015666.jpg  \n",
            " extracting: /content/train/images/PXL_20250327_153514093_jpg.rf.752011bb5503d45134e6dc962ed6c79d.jpg  \n",
            " extracting: /content/train/images/PXL_20250327_153525108_jpg.rf.42bcc081ef760cd16d836c017d098f7a.jpg  \n",
            " extracting: /content/train/images/PXL_20250327_153525108_jpg.rf.4a1764c3531ba9ce63dead32368fb834.jpg  \n",
            " extracting: /content/train/images/PXL_20250327_153525108_jpg.rf.fcb6a7ce1ff3fc98f3295ddb321a4998.jpg  \n",
            " extracting: /content/train/images/PXL_20250327_153532990_jpg.rf.07a71c1c49117b4ebb1c06cc6409dc64.jpg  \n",
            " extracting: /content/train/images/PXL_20250327_153532990_jpg.rf.6ec3dc0ecc639fafa9dcf9f73f11f583.jpg  \n",
            " extracting: /content/train/images/PXL_20250327_153532990_jpg.rf.9cb0616dfe39b457d0c97f80eb9fa456.jpg  \n",
            " extracting: /content/train/images/PXL_20250327_153538647_jpg.rf.13e6829525b031525093dcd6dbab9e23.jpg  \n",
            " extracting: /content/train/images/PXL_20250327_153538647_jpg.rf.a9f1e330c79281df86ca142d8bf5446c.jpg  \n",
            " extracting: /content/train/images/PXL_20250327_153538647_jpg.rf.aeb0287990162f12fc668d9504bd489b.jpg  \n",
            " extracting: /content/train/images/PXL_20250327_153539929_jpg.rf.6a89c494392aab11f982208acfdc201e.jpg  \n",
            " extracting: /content/train/images/PXL_20250327_153539929_jpg.rf.a529884966eda3134aea5b8b1fd730fc.jpg  \n",
            " extracting: /content/train/images/PXL_20250327_153539929_jpg.rf.a9ef16054dc0f573cce605f935b86521.jpg  \n",
            " extracting: /content/train/images/PXL_20250327_153551529_jpg.rf.96016aa8179ff1fd4f832caeef8a9e30.jpg  \n",
            " extracting: /content/train/images/PXL_20250327_153551529_jpg.rf.9d8d2edde18a2416647275518e12fe87.jpg  \n",
            " extracting: /content/train/images/PXL_20250327_153551529_jpg.rf.fa35529a705722891108910c743c8a4d.jpg  \n",
            " extracting: /content/train/images/PXL_20250327_153607332_jpg.rf.446ed7123b8aefdaf0e19aeb44029151.jpg  \n",
            " extracting: /content/train/images/PXL_20250327_153607332_jpg.rf.7dfe357074f79ab93a28a179297b9a7b.jpg  \n",
            " extracting: /content/train/images/PXL_20250327_153607332_jpg.rf.97fa88d3846c0d61f12ca5fd9efa32e5.jpg  \n",
            " extracting: /content/train/images/PXL_20250327_153622540_jpg.rf.4c40e1b9ed435f3542f9293385d70a8b.jpg  \n",
            " extracting: /content/train/images/PXL_20250327_153622540_jpg.rf.81dcc6b9b8a08b96935543b34195cc1f.jpg  \n",
            " extracting: /content/train/images/PXL_20250327_153622540_jpg.rf.ac94a75c5d5cb65377403831bd8a2f64.jpg  \n",
            " extracting: /content/train/images/PXL_20250327_153629071_jpg.rf.1d0bbf44a54c780f9231a9cd8bb0456f.jpg  \n",
            " extracting: /content/train/images/PXL_20250327_153629071_jpg.rf.3efa394b8242fb893a0a43b249354f7f.jpg  \n",
            " extracting: /content/train/images/PXL_20250327_153629071_jpg.rf.caa980e3ff3f1149a5ff4fe612d1e04e.jpg  \n",
            " extracting: /content/train/images/PXL_20250327_153635235_jpg.rf.4af387e112b36debe0eb084d4181ea06.jpg  \n",
            " extracting: /content/train/images/PXL_20250327_153635235_jpg.rf.80ebde1fe865526f11a228dcac36962b.jpg  \n",
            " extracting: /content/train/images/PXL_20250327_153635235_jpg.rf.a3ff18c99fc3384d6cdfa39ec63a9f74.jpg  \n",
            " extracting: /content/train/images/PXL_20250327_153643393_jpg.rf.3815bf2cdb89514ca8be4a28a7ca678c.jpg  \n",
            " extracting: /content/train/images/PXL_20250327_153643393_jpg.rf.8b5a65f82918ae2bb7c371b634c41430.jpg  \n",
            " extracting: /content/train/images/PXL_20250327_153643393_jpg.rf.b5adeda3b606520ca71dc8f0099d8e13.jpg  \n",
            " extracting: /content/train/images/PXL_20250327_153645596_jpg.rf.20ae33718b02edcee904831298e7879e.jpg  \n",
            " extracting: /content/train/images/PXL_20250327_153645596_jpg.rf.5e0d9c57dee3f2f41bdf51e9ae77539f.jpg  \n",
            " extracting: /content/train/images/PXL_20250327_153645596_jpg.rf.c410c50948a3b6d27594ab9cf411d280.jpg  \n",
            " extracting: /content/train/images/PXL_20250327_153650246_jpg.rf.2d495994d40d2af5fb5f9d22d98d5b3f.jpg  \n",
            " extracting: /content/train/images/PXL_20250327_153650246_jpg.rf.9ede21099cfa7a489d409b904db20394.jpg  \n",
            " extracting: /content/train/images/PXL_20250327_153650246_jpg.rf.c3fe357b678f3346558116fc35a9f8c9.jpg  \n",
            " extracting: /content/train/images/PXL_20250327_153658455_jpg.rf.75bb04694bdefaebf87ec543265147ff.jpg  \n",
            " extracting: /content/train/images/PXL_20250327_153658455_jpg.rf.7c968f844e2b391166087159039bf85a.jpg  \n",
            " extracting: /content/train/images/PXL_20250327_153658455_jpg.rf.f6e8545184531f0db498df9c276aad51.jpg  \n",
            " extracting: /content/train/images/PXL_20250327_153715662_jpg.rf.6feb91df54f263647d4843e3a6db0f52.jpg  \n",
            " extracting: /content/train/images/PXL_20250327_153715662_jpg.rf.8e75769b555b46b3c72bb0277a16dad7.jpg  \n",
            " extracting: /content/train/images/PXL_20250327_153715662_jpg.rf.c6e05eda55bfe88c249a6158e320f096.jpg  \n",
            " extracting: /content/train/images/PXL_20250327_153722169_jpg.rf.6ccc2f766deba08739e133dd840b6925.jpg  \n",
            " extracting: /content/train/images/PXL_20250327_153722169_jpg.rf.78260ee4a2b9b91727da8fb2290980a4.jpg  \n",
            " extracting: /content/train/images/PXL_20250327_153722169_jpg.rf.e6a16d189aebb96fa976c269c004a6df.jpg  \n",
            " extracting: /content/train/images/PXL_20250327_153736342_jpg.rf.029b76b6bf827a805d0ed41db708239b.jpg  \n",
            " extracting: /content/train/images/PXL_20250327_153736342_jpg.rf.56ffdb0560053f29c37458e66ed1bb33.jpg  \n",
            " extracting: /content/train/images/PXL_20250327_153736342_jpg.rf.62054f9700f15fbdf104ace0d625f89d.jpg  \n",
            " extracting: /content/train/images/PXL_20250327_153740915_jpg.rf.1cb819612f6908ee5a0be02bde3a5bf4.jpg  \n",
            " extracting: /content/train/images/PXL_20250327_153740915_jpg.rf.86df3c2660110940b07603843102f286.jpg  \n",
            " extracting: /content/train/images/PXL_20250327_153740915_jpg.rf.ef78e169ec59e8818a625992f07fc3f0.jpg  \n",
            " extracting: /content/train/images/PXL_20250327_153742163_jpg.rf.4eabdaee2810b9aeb31f2a79f486e986.jpg  \n",
            " extracting: /content/train/images/PXL_20250327_153742163_jpg.rf.8e5b0e22f0faff5bedd17b7bb8b851b0.jpg  \n",
            " extracting: /content/train/images/PXL_20250327_153742163_jpg.rf.940d154802e5483617360e55b0b82778.jpg  \n",
            " extracting: /content/train/images/PXL_20250327_153934780_jpg.rf.2a2e803cc6c753b66bb9e42477f425bf.jpg  \n",
            " extracting: /content/train/images/PXL_20250327_153934780_jpg.rf.79162b7db74071abf40b2a16b2e5cc4b.jpg  \n",
            " extracting: /content/train/images/PXL_20250327_153934780_jpg.rf.f3ac3bf856c5ea9cddb1d80e2158323a.jpg  \n",
            " extracting: /content/train/images/PXL_20250327_154240281_jpg.rf.55ab35952555dcf0788c2baac684ab86.jpg  \n",
            " extracting: /content/train/images/PXL_20250327_154240281_jpg.rf.591e0c997d89756cf859ab580afb5763.jpg  \n",
            " extracting: /content/train/images/PXL_20250327_154240281_jpg.rf.718f757c4bc645d5b8c8b4b5681bbecb.jpg  \n",
            "   creating: /content/train/labels/\n",
            "  inflating: /content/train/labels/IMG-20250327-WA0008_jpg.rf.25906f4c17700bcd9e43affc68d3906e.txt  \n",
            "  inflating: /content/train/labels/IMG-20250327-WA0008_jpg.rf.6885c27e764b8c45593d429c570c93e4.txt  \n",
            "  inflating: /content/train/labels/IMG-20250327-WA0008_jpg.rf.ee355ee88da601de32a6541d131622e6.txt  \n",
            "  inflating: /content/train/labels/IMG-20250327-WA0011_jpg.rf.04177f845fa73a76fd52f4fd8165837d.txt  \n",
            "  inflating: /content/train/labels/IMG-20250327-WA0011_jpg.rf.733adf7fb7242c1c645ef52736e943d9.txt  \n",
            "  inflating: /content/train/labels/IMG-20250327-WA0011_jpg.rf.efae5a1936e62c4143d2dfab9b3d6aa6.txt  \n",
            "  inflating: /content/train/labels/PXL_20250327_083629744_MP_jpg.rf.21c524cf90588439df74e0e3ec01c211.txt  \n",
            "  inflating: /content/train/labels/PXL_20250327_083629744_MP_jpg.rf.4bf64df2367fc6832a6cc31557d259e6.txt  \n",
            "  inflating: /content/train/labels/PXL_20250327_083629744_MP_jpg.rf.c24b8d693e1aa3d37dabe1c24bd44f57.txt  \n",
            "  inflating: /content/train/labels/PXL_20250327_083653315_MP_jpg.rf.52508d8f5b302c1b8d266dcef489eb26.txt  \n",
            "  inflating: /content/train/labels/PXL_20250327_083653315_MP_jpg.rf.7c5932e03fe0c30dcc57befc1fca0aa5.txt  \n",
            "  inflating: /content/train/labels/PXL_20250327_083653315_MP_jpg.rf.fc0c3b09527123250d8c3886e445219c.txt  \n",
            "  inflating: /content/train/labels/PXL_20250327_083654284_jpg.rf.4de125c1468d45521df3bac3b8954eca.txt  \n",
            "  inflating: /content/train/labels/PXL_20250327_083654284_jpg.rf.5eb285b8dadd50b69a2fb332ece23512.txt  \n",
            "  inflating: /content/train/labels/PXL_20250327_083654284_jpg.rf.d4b33683956288adc0044fcc99d40037.txt  \n",
            "  inflating: /content/train/labels/PXL_20250327_083655332_jpg.rf.0dc1cc93062ba34a39a70788456f4b00.txt  \n",
            "  inflating: /content/train/labels/PXL_20250327_083655332_jpg.rf.2586ce8ee741d5c00906bea5102f997e.txt  \n",
            "  inflating: /content/train/labels/PXL_20250327_083655332_jpg.rf.3945a3d14cafa4b576c62f7857139323.txt  \n",
            "  inflating: /content/train/labels/PXL_20250327_083656135_jpg.rf.042eda0484381f424414ab5f8544fdc1.txt  \n",
            "  inflating: /content/train/labels/PXL_20250327_083656135_jpg.rf.1b42200bce099ca0d1807d4826e605d9.txt  \n",
            "  inflating: /content/train/labels/PXL_20250327_083656135_jpg.rf.effb4aee561212006fafab62290d0cac.txt  \n",
            "  inflating: /content/train/labels/PXL_20250327_083658141_MP_jpg.rf.5f9e08b6b10b785b2bf3176ee795b07e.txt  \n",
            "  inflating: /content/train/labels/PXL_20250327_083658141_MP_jpg.rf.c407176534b398bcf7e10a03a4b76870.txt  \n",
            "  inflating: /content/train/labels/PXL_20250327_083658141_MP_jpg.rf.f9d68037ed45a3888ce59bb0dc1d7be1.txt  \n",
            "  inflating: /content/train/labels/PXL_20250327_083659888_MP_jpg.rf.06bccca1e472a28958b2ef7f9e21f518.txt  \n",
            "  inflating: /content/train/labels/PXL_20250327_083659888_MP_jpg.rf.1cdae50659587b04e48fcd8f7abbbcc7.txt  \n",
            "  inflating: /content/train/labels/PXL_20250327_083659888_MP_jpg.rf.3d844d9daea9132bbfc9102a94299bde.txt  \n",
            "  inflating: /content/train/labels/PXL_20250327_083701251_jpg.rf.2733981a021885fcdbcda46537341893.txt  \n",
            "  inflating: /content/train/labels/PXL_20250327_083701251_jpg.rf.b0b958c7750bc269eeff34d2e32fb9fe.txt  \n",
            "  inflating: /content/train/labels/PXL_20250327_083701251_jpg.rf.ebbfdb7acbc43901c251f3730ee943f7.txt  \n",
            "  inflating: /content/train/labels/PXL_20250327_083702448_jpg.rf.d0fc095418eba2be3e851bca99afa624.txt  \n",
            "  inflating: /content/train/labels/PXL_20250327_083702448_jpg.rf.f09aa532ea5439dbbbd58205e8970647.txt  \n",
            "  inflating: /content/train/labels/PXL_20250327_083702448_jpg.rf.fd06f0c405827c90a244a088dff7e447.txt  \n",
            "  inflating: /content/train/labels/PXL_20250327_083703485_jpg.rf.34d26c83a0620956c460c7303b3053b8.txt  \n",
            "  inflating: /content/train/labels/PXL_20250327_083703485_jpg.rf.8d4cc05c5bb12da496320f003f230e57.txt  \n",
            "  inflating: /content/train/labels/PXL_20250327_083703485_jpg.rf.eba4f3690af58ab84c5a2b9d3bbd8c78.txt  \n",
            "  inflating: /content/train/labels/PXL_20250327_083704483_jpg.rf.0fb466a85826e4f019f4956340264f0e.txt  \n",
            "  inflating: /content/train/labels/PXL_20250327_083704483_jpg.rf.3a85b277d34ea63c839dd3b5786f79e1.txt  \n",
            "  inflating: /content/train/labels/PXL_20250327_083704483_jpg.rf.b9099f1b7d45c101fa51e75e063190cd.txt  \n",
            "  inflating: /content/train/labels/PXL_20250327_083705652_jpg.rf.28370a107c8099a628f8e105e9aebe43.txt  \n",
            "  inflating: /content/train/labels/PXL_20250327_083705652_jpg.rf.3df0eb53edd39ed7cba204d3c6fb8d6d.txt  \n",
            "  inflating: /content/train/labels/PXL_20250327_083705652_jpg.rf.7b744edce61b5478e007040ca24bbfeb.txt  \n",
            "  inflating: /content/train/labels/PXL_20250327_083706748_jpg.rf.5f6a216e3b8189328aadb9f674514c26.txt  \n",
            "  inflating: /content/train/labels/PXL_20250327_083706748_jpg.rf.9e2bfdde60393f7eadd1d0f84965a6a8.txt  \n",
            "  inflating: /content/train/labels/PXL_20250327_083706748_jpg.rf.f8dd7383acef7bcf94d30ec3459bcd62.txt  \n",
            "  inflating: /content/train/labels/PXL_20250327_083708105_jpg.rf.1b6575382f3578806efe59488e0a0edf.txt  \n",
            "  inflating: /content/train/labels/PXL_20250327_083708105_jpg.rf.9e839de1e9d54417c638c1ace9da5d3f.txt  \n",
            "  inflating: /content/train/labels/PXL_20250327_083708105_jpg.rf.d554832a4a2a28781d0d6c394f2b916b.txt  \n",
            "  inflating: /content/train/labels/PXL_20250327_083709296_jpg.rf.639c72a442c98ba6da1961c9faa037b3.txt  \n",
            "  inflating: /content/train/labels/PXL_20250327_083709296_jpg.rf.77f651a31ad46575bb0b9fb2e499844e.txt  \n",
            "  inflating: /content/train/labels/PXL_20250327_083709296_jpg.rf.b3dda0d0fba35dc4a6d9f3eee3f04f64.txt  \n",
            "  inflating: /content/train/labels/PXL_20250327_083710431_jpg.rf.723409971c60eb980b7ef96cb39b045d.txt  \n",
            "  inflating: /content/train/labels/PXL_20250327_083710431_jpg.rf.8f71bf232cb7db467b22655b08d7a35c.txt  \n",
            "  inflating: /content/train/labels/PXL_20250327_083710431_jpg.rf.f855a79782a779bccdb174b968abedbf.txt  \n",
            "  inflating: /content/train/labels/PXL_20250327_083712039_MP_jpg.rf.b2ec1d51e3d941627be1517320f70321.txt  \n",
            "  inflating: /content/train/labels/PXL_20250327_083712039_MP_jpg.rf.b5c1fc7dab50400f65a8ce48d9771d45.txt  \n",
            "  inflating: /content/train/labels/PXL_20250327_083712039_MP_jpg.rf.b63bc8b485b2099e44a8211fdb3b004f.txt  \n",
            "  inflating: /content/train/labels/PXL_20250327_083713355_jpg.rf.1db35771d1544f8774baec58d556eafa.txt  \n",
            "  inflating: /content/train/labels/PXL_20250327_083713355_jpg.rf.1fa45c01651d2af1898e4f223b69a379.txt  \n",
            "  inflating: /content/train/labels/PXL_20250327_083713355_jpg.rf.c715f911cea383cbf25419ebf37401a0.txt  \n",
            "  inflating: /content/train/labels/PXL_20250327_083714233_jpg.rf.42a65f770851b064cbf08bf5072d43ac.txt  \n",
            "  inflating: /content/train/labels/PXL_20250327_083714233_jpg.rf.5e3fd61b93320ed586ceb1c392fbeb60.txt  \n",
            "  inflating: /content/train/labels/PXL_20250327_083714233_jpg.rf.8add9173205f07ed9c241db1fc504e7c.txt  \n",
            "  inflating: /content/train/labels/PXL_20250327_083715088_jpg.rf.2e0c1d3074fd2ebd067072ad64dffe43.txt  \n",
            "  inflating: /content/train/labels/PXL_20250327_083715088_jpg.rf.547f6babc76755f18d03ed0d9bf78b09.txt  \n",
            "  inflating: /content/train/labels/PXL_20250327_083715088_jpg.rf.bcf2abb41c0a61a9f552c2f8bfd5d36e.txt  \n",
            "  inflating: /content/train/labels/PXL_20250327_083715935_jpg.rf.391741db0c35006a4e831a7d0c41e759.txt  \n",
            "  inflating: /content/train/labels/PXL_20250327_083715935_jpg.rf.3c1feb9b42305a2d41c2efaca51187de.txt  \n",
            "  inflating: /content/train/labels/PXL_20250327_083715935_jpg.rf.8528dc577c66f476c22b72faad86b1fe.txt  \n",
            "  inflating: /content/train/labels/PXL_20250327_083716765_jpg.rf.1f720b4343158c2dc47f637aa0258644.txt  \n",
            "  inflating: /content/train/labels/PXL_20250327_083716765_jpg.rf.6696e21293b97a2a3bb3a41099fc3d55.txt  \n",
            "  inflating: /content/train/labels/PXL_20250327_083716765_jpg.rf.91f20e51dd7a4570d9d846a5e9d97016.txt  \n",
            "  inflating: /content/train/labels/PXL_20250327_083717801_jpg.rf.a847d320de86e322051d17e7528e6e95.txt  \n",
            "  inflating: /content/train/labels/PXL_20250327_083717801_jpg.rf.ab3d1fa0c615e3e892a92c7874aec8c8.txt  \n",
            "  inflating: /content/train/labels/PXL_20250327_083717801_jpg.rf.e005d9e1ce0a4cb199970a726f18322b.txt  \n",
            "  inflating: /content/train/labels/PXL_20250327_083718559_jpg.rf.ced321c14fa47d7ca01b1ba16d873bb6.txt  \n",
            "  inflating: /content/train/labels/PXL_20250327_083718559_jpg.rf.d4afa6719da661813ab662b89de2fc2c.txt  \n",
            "  inflating: /content/train/labels/PXL_20250327_083718559_jpg.rf.e94c111f1b709b3686074b160284ffa2.txt  \n",
            "  inflating: /content/train/labels/PXL_20250327_083719237_jpg.rf.303266e01004dafdf0b9776df877d7e3.txt  \n",
            "  inflating: /content/train/labels/PXL_20250327_083719237_jpg.rf.59845a89a29c295263d216c21d324bae.txt  \n",
            "  inflating: /content/train/labels/PXL_20250327_083719237_jpg.rf.d324e471efc12b20a7678fe117127e97.txt  \n",
            "  inflating: /content/train/labels/PXL_20250327_083720551_jpg.rf.5a62e1e600f75ea6a45728731f9b045d.txt  \n",
            "  inflating: /content/train/labels/PXL_20250327_083720551_jpg.rf.68763c2cf78d727f91ad50015f521ae7.txt  \n",
            "  inflating: /content/train/labels/PXL_20250327_083720551_jpg.rf.a580f7865f67e205594265fd6c3ce8d4.txt  \n",
            "  inflating: /content/train/labels/PXL_20250327_083721212_jpg.rf.a5fa724c09173112e9c79e02d220a7e6.txt  \n",
            "  inflating: /content/train/labels/PXL_20250327_083721212_jpg.rf.e5cdf90bd4f272360f4fd3757f87f759.txt  \n",
            "  inflating: /content/train/labels/PXL_20250327_083721212_jpg.rf.e619994832862a53a832efd0c45b1b6b.txt  \n",
            "  inflating: /content/train/labels/PXL_20250327_083722465_jpg.rf.23bd02b46c0a0245d92d707fbe709c70.txt  \n",
            "  inflating: /content/train/labels/PXL_20250327_083722465_jpg.rf.487184f6d12e2de196d2ead2e6e92b7a.txt  \n",
            "  inflating: /content/train/labels/PXL_20250327_083722465_jpg.rf.e124645e443c052cc7cf55839051f49a.txt  \n",
            "  inflating: /content/train/labels/PXL_20250327_083724219_jpg.rf.7fd66fe2ba8faa0cc94c8467bab7c176.txt  \n",
            "  inflating: /content/train/labels/PXL_20250327_083724219_jpg.rf.ab03aaf21c6929d45aa36baa54e88c34.txt  \n",
            "  inflating: /content/train/labels/PXL_20250327_083724219_jpg.rf.ca97d9f87f1c39bdfac933c8a2945937.txt  \n",
            "  inflating: /content/train/labels/PXL_20250327_083726503_jpg.rf.9735382687ae83af8ee21f10ef918cc9.txt  \n",
            "  inflating: /content/train/labels/PXL_20250327_083726503_jpg.rf.98a97aaa84e27161a758a2bf176ca40d.txt  \n",
            "  inflating: /content/train/labels/PXL_20250327_083726503_jpg.rf.dc325f97ce0ceda318dfa330feb97bbf.txt  \n",
            "  inflating: /content/train/labels/PXL_20250327_083727751_jpg.rf.17ee45edf53edefa20bbd376ead3c7e4.txt  \n",
            "  inflating: /content/train/labels/PXL_20250327_083727751_jpg.rf.6d37f75a894b3beaa3fd676bca8e3e76.txt  \n",
            "  inflating: /content/train/labels/PXL_20250327_083727751_jpg.rf.f113e3929f438003a63fa6c7345c6586.txt  \n",
            "  inflating: /content/train/labels/PXL_20250327_083729048_jpg.rf.1af45da4f3086d77882cf1f56532cf22.txt  \n",
            "  inflating: /content/train/labels/PXL_20250327_083729048_jpg.rf.89a1864cbef7d33fabb5aa06218e99d9.txt  \n",
            "  inflating: /content/train/labels/PXL_20250327_083729048_jpg.rf.d0814cb5069d6e456b7c7e1a9c124cc7.txt  \n",
            "  inflating: /content/train/labels/PXL_20250327_083730360_jpg.rf.1394f9c2d5de8965d7aefaa54231adf4.txt  \n",
            "  inflating: /content/train/labels/PXL_20250327_083730360_jpg.rf.65c852a6a1446999ec4f51e96dff0fad.txt  \n",
            "  inflating: /content/train/labels/PXL_20250327_083730360_jpg.rf.6cdaf04827049396c5da344e7da12504.txt  \n",
            "  inflating: /content/train/labels/PXL_20250327_083731525_jpg.rf.45e3f315823ef20abd8f694bd662d3b4.txt  \n",
            "  inflating: /content/train/labels/PXL_20250327_083731525_jpg.rf.aef9df0cab4406c6933aa4a6da5819ee.txt  \n",
            "  inflating: /content/train/labels/PXL_20250327_083731525_jpg.rf.e008f633d3748ec5f46a8594fbc3ecc7.txt  \n",
            "  inflating: /content/train/labels/PXL_20250327_083733161_jpg.rf.08e84c0cb239edc99d8e5f16bb405431.txt  \n",
            "  inflating: /content/train/labels/PXL_20250327_083733161_jpg.rf.8dabe9f86c0e73bbd652cdf728ed9c94.txt  \n",
            "  inflating: /content/train/labels/PXL_20250327_083733161_jpg.rf.b61df40692dfb52d8594cd37cab8a848.txt  \n",
            "  inflating: /content/train/labels/PXL_20250327_083734248_jpg.rf.6853e173ad93543e89b4948025878178.txt  \n",
            "  inflating: /content/train/labels/PXL_20250327_083734248_jpg.rf.bec049b3ed26fe8f4d74ef5bddea9b77.txt  \n",
            "  inflating: /content/train/labels/PXL_20250327_083734248_jpg.rf.c89e8e8400d1291b6ec2071e84c129be.txt  \n",
            "  inflating: /content/train/labels/PXL_20250327_083735257_jpg.rf.166461acdd022a0b6e8c4230653a4ef4.txt  \n",
            "  inflating: /content/train/labels/PXL_20250327_083735257_jpg.rf.46a677e4e62f239b1e74c9459310e2da.txt  \n",
            "  inflating: /content/train/labels/PXL_20250327_083735257_jpg.rf.eb348b24a5493aa08874e418323f76d6.txt  \n",
            "  inflating: /content/train/labels/PXL_20250327_083736488_jpg.rf.16cfacbdae946a0916ff20b6f047608a.txt  \n",
            "  inflating: /content/train/labels/PXL_20250327_083736488_jpg.rf.866f511bc8c971a6a15c6bc64b14cd80.txt  \n",
            "  inflating: /content/train/labels/PXL_20250327_083736488_jpg.rf.f3ffc489a70b900356a3620d39a91fa3.txt  \n",
            "  inflating: /content/train/labels/PXL_20250327_083738211_jpg.rf.3b41e5cb6922a6efd171360a913a1d24.txt  \n",
            "  inflating: /content/train/labels/PXL_20250327_083738211_jpg.rf.6935e5f02afffa29a82b6b6df201a761.txt  \n",
            "  inflating: /content/train/labels/PXL_20250327_083738211_jpg.rf.fc04cb9b0652c74a4c81284499e5fd9b.txt  \n",
            "  inflating: /content/train/labels/PXL_20250327_083739225_jpg.rf.20a177753ad59716548142a2d605c131.txt  \n",
            "  inflating: /content/train/labels/PXL_20250327_083739225_jpg.rf.ef1b05d68bfe9e577f89a5e1a6bf9354.txt  \n",
            "  inflating: /content/train/labels/PXL_20250327_083739225_jpg.rf.f6373a8476921839add5e013f3284c37.txt  \n",
            "  inflating: /content/train/labels/PXL_20250327_083741315_jpg.rf.80e7b1ddb2dbd15130419326f68704b3.txt  \n",
            "  inflating: /content/train/labels/PXL_20250327_083741315_jpg.rf.98bb5a61f5254b2b3c421142fec4196b.txt  \n",
            "  inflating: /content/train/labels/PXL_20250327_083741315_jpg.rf.eb71cd1481d2958b63ec8132c2186099.txt  \n",
            "  inflating: /content/train/labels/PXL_20250327_083742777_jpg.rf.56667075bca7a1f83e3cb1c47b41fe8b.txt  \n",
            "  inflating: /content/train/labels/PXL_20250327_083742777_jpg.rf.dcaeea6721cf3e69ba8ee00d75be34fa.txt  \n",
            "  inflating: /content/train/labels/PXL_20250327_083742777_jpg.rf.e808ddcb6dc908b2688f13d41b7ca293.txt  \n",
            "  inflating: /content/train/labels/PXL_20250327_083743948_jpg.rf.03f5b5c5b1af41def132c76f75735cb3.txt  \n",
            "  inflating: /content/train/labels/PXL_20250327_083743948_jpg.rf.f03eb68d312dbe26bd228052d454ceec.txt  \n",
            "  inflating: /content/train/labels/PXL_20250327_083743948_jpg.rf.f65aced995b4703f76d0b0284d109d0b.txt  \n",
            "  inflating: /content/train/labels/PXL_20250327_083746033_jpg.rf.5ef3d9a29ececdd71c1e490613f6f736.txt  \n",
            "  inflating: /content/train/labels/PXL_20250327_083746033_jpg.rf.ac4aa96a9f476dd1a7494c48726cd5d0.txt  \n",
            "  inflating: /content/train/labels/PXL_20250327_083746033_jpg.rf.bee2c5b3bdc492dff4e7af3712246362.txt  \n",
            "  inflating: /content/train/labels/PXL_20250327_083747640_jpg.rf.5d6dffe0b3d7bf330395818bd8ddf6ae.txt  \n",
            "  inflating: /content/train/labels/PXL_20250327_083747640_jpg.rf.75d4c5dafb402ea4393693a9c4549ad8.txt  \n",
            "  inflating: /content/train/labels/PXL_20250327_083747640_jpg.rf.d2d199b9958203f093e1c891740dfc46.txt  \n",
            "  inflating: /content/train/labels/PXL_20250327_083749677_jpg.rf.c1811446fe32ddcc1049b4684ac79697.txt  \n",
            "  inflating: /content/train/labels/PXL_20250327_083749677_jpg.rf.da796c65b9f6947d24533dd899702a3c.txt  \n",
            "  inflating: /content/train/labels/PXL_20250327_083749677_jpg.rf.fe8b7daac10bc2ebe342c1aae47db086.txt  \n",
            "  inflating: /content/train/labels/PXL_20250327_083751079_jpg.rf.a8f437ca9d6810f94861e4b74d75bdc0.txt  \n",
            "  inflating: /content/train/labels/PXL_20250327_083751079_jpg.rf.acec93c65b3a72c739c704665d264ef6.txt  \n",
            "  inflating: /content/train/labels/PXL_20250327_083751079_jpg.rf.ef19f36dfc225d186749cf90566262ec.txt  \n",
            "  inflating: /content/train/labels/PXL_20250327_083752275_jpg.rf.1d212de16d0a7ca2da5fdc5e4f8cc0e0.txt  \n",
            "  inflating: /content/train/labels/PXL_20250327_083752275_jpg.rf.2b73c8fd2fb8b587ff35bc79e1d8da0a.txt  \n",
            "  inflating: /content/train/labels/PXL_20250327_083752275_jpg.rf.4481d9a581a2213ebf8e977a1154c034.txt  \n",
            "  inflating: /content/train/labels/PXL_20250327_083754146_jpg.rf.5b6a6f10cde21e5c43d2f1b1b366cdb6.txt  \n",
            "  inflating: /content/train/labels/PXL_20250327_083754146_jpg.rf.61d1983372a1d50f8b52f91047f0e40f.txt  \n",
            "  inflating: /content/train/labels/PXL_20250327_083754146_jpg.rf.fcf7e0e8f4ab034d8356a1c21b95c066.txt  \n",
            "  inflating: /content/train/labels/PXL_20250327_083756260_jpg.rf.2bec3148e6781bd0b0b8289ae9df8c20.txt  \n",
            "  inflating: /content/train/labels/PXL_20250327_083756260_jpg.rf.30e5f76171ebee604c1321e600b28854.txt  \n",
            "  inflating: /content/train/labels/PXL_20250327_083756260_jpg.rf.fed785c0415d7b5c3452acd608da38d3.txt  \n",
            "  inflating: /content/train/labels/PXL_20250327_083758985_jpg.rf.459f9ded1ebc1e605502f606e79db314.txt  \n",
            "  inflating: /content/train/labels/PXL_20250327_083758985_jpg.rf.486463a48e095b1e089d1a93caa7f998.txt  \n",
            "  inflating: /content/train/labels/PXL_20250327_083758985_jpg.rf.9d8545600f56e06cef419fd7c38f63d5.txt  \n",
            "  inflating: /content/train/labels/PXL_20250327_083802821_jpg.rf.c46bceca503217a34113d1b9343680ba.txt  \n",
            "  inflating: /content/train/labels/PXL_20250327_083802821_jpg.rf.df3b7716da16bfd0677b3d8a7cdd4dec.txt  \n",
            "  inflating: /content/train/labels/PXL_20250327_083802821_jpg.rf.e74b1747446fe1e691667c5153507263.txt  \n",
            "  inflating: /content/train/labels/PXL_20250327_083805380_jpg.rf.8f3c9f4b338266868b012bfff541e404.txt  \n",
            "  inflating: /content/train/labels/PXL_20250327_083805380_jpg.rf.b910f580b201d25952a4480a3a60c097.txt  \n",
            "  inflating: /content/train/labels/PXL_20250327_083805380_jpg.rf.bff5b8d5063f75f547413fbcdfb51528.txt  \n",
            "  inflating: /content/train/labels/PXL_20250327_083806856_jpg.rf.28ff961f59000aa182433979f576e8fb.txt  \n",
            "  inflating: /content/train/labels/PXL_20250327_083806856_jpg.rf.38d5fa2ce63df5425715f5bfc3431e65.txt  \n",
            "  inflating: /content/train/labels/PXL_20250327_083806856_jpg.rf.4714fecbbe7963dde8d878094ec10932.txt  \n",
            "  inflating: /content/train/labels/PXL_20250327_083809808_jpg.rf.227e3eb77628bf46b39c7d00ebe391c4.txt  \n",
            "  inflating: /content/train/labels/PXL_20250327_083809808_jpg.rf.59e773f907d1cbb2c30492858cbe6537.txt  \n",
            "  inflating: /content/train/labels/PXL_20250327_083809808_jpg.rf.aa256ce25059ca0ad33aef5351110c26.txt  \n",
            "  inflating: /content/train/labels/PXL_20250327_083812172_jpg.rf.3e5f320dea26a7925a4ab3d6f477bb3e.txt  \n",
            "  inflating: /content/train/labels/PXL_20250327_083812172_jpg.rf.9c418b3225a3fbc33fedec38c8c46228.txt  \n",
            "  inflating: /content/train/labels/PXL_20250327_083812172_jpg.rf.b7274da61ec6edb5cddc34a6bb6fda20.txt  \n",
            "  inflating: /content/train/labels/PXL_20250327_083818485_jpg.rf.03d8900b7494e26649eebce2557f05a7.txt  \n",
            "  inflating: /content/train/labels/PXL_20250327_083818485_jpg.rf.7a3743fb89fec1ef2684ec921e9c15cc.txt  \n",
            "  inflating: /content/train/labels/PXL_20250327_083818485_jpg.rf.affcd8faf2c98ed7bce8862882c3facb.txt  \n",
            "  inflating: /content/train/labels/PXL_20250327_083820584_jpg.rf.4dacddaab9cccd47e764f0e81a65db75.txt  \n",
            "  inflating: /content/train/labels/PXL_20250327_083820584_jpg.rf.7830c4dfca5914779cfe08176486c479.txt  \n",
            "  inflating: /content/train/labels/PXL_20250327_083820584_jpg.rf.c03d3181b5364050c0b958562afb8b2b.txt  \n",
            "  inflating: /content/train/labels/PXL_20250327_083822372_jpg.rf.687d67ec5d2d191604908cf627fc34d9.txt  \n",
            "  inflating: /content/train/labels/PXL_20250327_083822372_jpg.rf.a497a2ac98ed83c060e43c0faa429874.txt  \n",
            "  inflating: /content/train/labels/PXL_20250327_083822372_jpg.rf.f7a592d94f2964bc5e5f083a9c9b6592.txt  \n",
            "  inflating: /content/train/labels/PXL_20250327_083828210_jpg.rf.12c4dc6cb5101f26b7fadaa6057511b0.txt  \n",
            "  inflating: /content/train/labels/PXL_20250327_083828210_jpg.rf.7c143879e54f0f50d2f3cba09bfbfc87.txt  \n",
            "  inflating: /content/train/labels/PXL_20250327_083828210_jpg.rf.faaf9e5e0cf0c78355ad48688fafa92e.txt  \n",
            "  inflating: /content/train/labels/PXL_20250327_083832658_jpg.rf.0e434a42368e96a979dfdc6e8866daa4.txt  \n",
            "  inflating: /content/train/labels/PXL_20250327_083832658_jpg.rf.5ff3e7b29f4887a2778559bac0ab1d89.txt  \n",
            "  inflating: /content/train/labels/PXL_20250327_083832658_jpg.rf.9b10c7604cde91c3346e2413861a0ce8.txt  \n",
            "  inflating: /content/train/labels/PXL_20250327_083834721_jpg.rf.3b45b70bb438fb746e2e0cac511227d6.txt  \n",
            "  inflating: /content/train/labels/PXL_20250327_083834721_jpg.rf.97f4e112a67ea5a01deabc0221ea674e.txt  \n",
            "  inflating: /content/train/labels/PXL_20250327_083834721_jpg.rf.dd048b5d27d9f3c803f9ef1d28c74a98.txt  \n",
            "  inflating: /content/train/labels/PXL_20250327_083846546_jpg.rf.44ebe7af9f092067fa3d7a850e3fbca7.txt  \n",
            "  inflating: /content/train/labels/PXL_20250327_083846546_jpg.rf.5db328eeabc85312389404bacf511725.txt  \n",
            "  inflating: /content/train/labels/PXL_20250327_083846546_jpg.rf.ce53349f5a9dbd61848fd88aa8bfa309.txt  \n",
            "  inflating: /content/train/labels/PXL_20250327_083848583_jpg.rf.00163045ff2a1b73adf6fcbc49a43522.txt  \n",
            "  inflating: /content/train/labels/PXL_20250327_083848583_jpg.rf.2667d0a6c7675c289307f8bb5ba069fe.txt  \n",
            "  inflating: /content/train/labels/PXL_20250327_083848583_jpg.rf.8cc3e73ef277d84787c0c2b29b661577.txt  \n",
            "  inflating: /content/train/labels/PXL_20250327_083852697_jpg.rf.0bd411ac2a755f1451b8d62ac9e9d7da.txt  \n",
            "  inflating: /content/train/labels/PXL_20250327_083852697_jpg.rf.42f4b776c8bb9b780840a8ab48dd5e2d.txt  \n",
            "  inflating: /content/train/labels/PXL_20250327_083852697_jpg.rf.fb520f3f4196c50a70dd85867ff74f69.txt  \n",
            "  inflating: /content/train/labels/PXL_20250327_083857122_jpg.rf.7a898cbeb43754309ab9ec42b947acee.txt  \n",
            "  inflating: /content/train/labels/PXL_20250327_083857122_jpg.rf.7e8edcc4ef3f0565bb6060d133dd0ff6.txt  \n",
            "  inflating: /content/train/labels/PXL_20250327_083857122_jpg.rf.caa263a174b6ab839788ce1495d5ddf9.txt  \n",
            "  inflating: /content/train/labels/PXL_20250327_083903740_jpg.rf.1cb4ed98ca71ccb1d1e22614837e89c3.txt  \n",
            "  inflating: /content/train/labels/PXL_20250327_083903740_jpg.rf.3db1b967fc826e3e30417dd486592c0d.txt  \n",
            "  inflating: /content/train/labels/PXL_20250327_083903740_jpg.rf.5afa2b32905509770dbeb7ea80d1f21f.txt  \n",
            "  inflating: /content/train/labels/PXL_20250327_083906745_jpg.rf.7c5c4cfb49a39ba0c860b8e6b0a5f565.txt  \n",
            "  inflating: /content/train/labels/PXL_20250327_083906745_jpg.rf.817f089d703e49093a07150081b443cc.txt  \n",
            "  inflating: /content/train/labels/PXL_20250327_083906745_jpg.rf.e5fce1d2d9ff221b3847f3886c70a1c1.txt  \n",
            "  inflating: /content/train/labels/PXL_20250327_083908830_jpg.rf.514ba289fb8af8b02209b3e851b87ce1.txt  \n",
            "  inflating: /content/train/labels/PXL_20250327_083908830_jpg.rf.7b0a1dd1afd75b3a961c9be755e9126d.txt  \n",
            "  inflating: /content/train/labels/PXL_20250327_083908830_jpg.rf.81b28ea4bc694695c0ceb007653f7dc3.txt  \n",
            "  inflating: /content/train/labels/PXL_20250327_083911839_jpg.rf.64755f3ebed7fdb0c1fc2a321a4116e9.txt  \n",
            "  inflating: /content/train/labels/PXL_20250327_083911839_jpg.rf.b85ea842321b3a61ff02cdadc5b098cf.txt  \n",
            "  inflating: /content/train/labels/PXL_20250327_083911839_jpg.rf.cbd0f5ae68c974c2eaff56b5d2514155.txt  \n",
            "  inflating: /content/train/labels/PXL_20250327_083913297_jpg.rf.318adfbaf69abfc2a6c55b2781788ea8.txt  \n",
            "  inflating: /content/train/labels/PXL_20250327_083913297_jpg.rf.72d81323f8524db5dcd3b32a6c891941.txt  \n",
            "  inflating: /content/train/labels/PXL_20250327_083913297_jpg.rf.d42b99164154e7ffd757a01f99bd37b4.txt  \n",
            "  inflating: /content/train/labels/PXL_20250327_083918495_jpg.rf.7361e297cc4e876afd3effd186cba592.txt  \n",
            "  inflating: /content/train/labels/PXL_20250327_083918495_jpg.rf.83d34238e6233130e1b70e46f811d5d6.txt  \n",
            "  inflating: /content/train/labels/PXL_20250327_083918495_jpg.rf.b55fea498474b9dc06246306c3e137bd.txt  \n",
            "  inflating: /content/train/labels/PXL_20250327_083934047_jpg.rf.22322c8fcfcd5ee0d7812d72c2c56324.txt  \n",
            "  inflating: /content/train/labels/PXL_20250327_083934047_jpg.rf.82f1e8ef536a9b41458566c11a1b887f.txt  \n",
            "  inflating: /content/train/labels/PXL_20250327_083934047_jpg.rf.9cc975fb80bf9a768ad65c13afe295f3.txt  \n",
            "  inflating: /content/train/labels/PXL_20250327_083941098_jpg.rf.8406ede8729c02c755bac534c19ffa55.txt  \n",
            "  inflating: /content/train/labels/PXL_20250327_083941098_jpg.rf.bbe0f9393b765d02f85241110273db2a.txt  \n",
            "  inflating: /content/train/labels/PXL_20250327_083941098_jpg.rf.c9bf0f81ab0e5ca349b42acb69274e41.txt  \n",
            "  inflating: /content/train/labels/PXL_20250327_083942475_jpg.rf.6bb651c7824d71ed4e6c7138adc94f4e.txt  \n",
            "  inflating: /content/train/labels/PXL_20250327_083942475_jpg.rf.75739c4cecb53d6e55eb6ca506c3c297.txt  \n",
            "  inflating: /content/train/labels/PXL_20250327_083942475_jpg.rf.ebb82c3b268bfd83e14ddbcca1fc4627.txt  \n",
            "  inflating: /content/train/labels/PXL_20250327_083944463_jpg.rf.1a902ffdb90386fc332fbc43c59e6b7a.txt  \n",
            "  inflating: /content/train/labels/PXL_20250327_083944463_jpg.rf.1b9ac9ab6b9e61e71e64ae012a828970.txt  \n",
            "  inflating: /content/train/labels/PXL_20250327_083944463_jpg.rf.6182c7f9f78a30eb65343c79da13db53.txt  \n",
            "  inflating: /content/train/labels/PXL_20250327_083948945_jpg.rf.000f68348d313bcc7712df7cfe92630d.txt  \n",
            "  inflating: /content/train/labels/PXL_20250327_083948945_jpg.rf.5e048086158d885ec0bb045f6cbaeab3.txt  \n",
            "  inflating: /content/train/labels/PXL_20250327_083948945_jpg.rf.feaf40245aec6962091158a827b76365.txt  \n",
            "  inflating: /content/train/labels/PXL_20250327_083951345_jpg.rf.1d30c47535f939c70dcdb3a5bcc510bd.txt  \n",
            "  inflating: /content/train/labels/PXL_20250327_083951345_jpg.rf.336bf090fd246f904bfae0ade77c7cce.txt  \n",
            "  inflating: /content/train/labels/PXL_20250327_083951345_jpg.rf.c87fec36559944ab3c4a2d4b4c016fe5.txt  \n",
            "  inflating: /content/train/labels/PXL_20250327_084000260_jpg.rf.5f7cf85d59ab1f44d04c5c42adb87c26.txt  \n",
            "  inflating: /content/train/labels/PXL_20250327_084000260_jpg.rf.70d721934a10851fbb7350e1a17007d1.txt  \n",
            "  inflating: /content/train/labels/PXL_20250327_084000260_jpg.rf.9b94f560c6a4b61891fe9cdcc763583d.txt  \n",
            "  inflating: /content/train/labels/PXL_20250327_084004706_jpg.rf.2efc457cf3034447aeba7604479f7e1b.txt  \n",
            "  inflating: /content/train/labels/PXL_20250327_084004706_jpg.rf.438c07be96f7b6d0807b3353593e0a5a.txt  \n",
            "  inflating: /content/train/labels/PXL_20250327_084004706_jpg.rf.f7254c191db8f4900b04b93f978667de.txt  \n",
            "  inflating: /content/train/labels/PXL_20250327_084008888_jpg.rf.28b3e8fba5f79bb4939d1fcaebdbe11a.txt  \n",
            "  inflating: /content/train/labels/PXL_20250327_084008888_jpg.rf.56ae56426b7140534c88cee39fa37479.txt  \n",
            "  inflating: /content/train/labels/PXL_20250327_084008888_jpg.rf.f050ec19b75d013ceb51ad5ed586b6fc.txt  \n",
            "  inflating: /content/train/labels/PXL_20250327_084138676_jpg.rf.57117eef9169aea9e1fc26829eac637f.txt  \n",
            "  inflating: /content/train/labels/PXL_20250327_084138676_jpg.rf.df7032d8324e24d918ac1deb009b5981.txt  \n",
            "  inflating: /content/train/labels/PXL_20250327_084138676_jpg.rf.df87f3acad2b19fdf3b84c3b7c0c508c.txt  \n",
            "  inflating: /content/train/labels/PXL_20250327_084140758_jpg.rf.377ef4a07be826f7ae23340c30efc1f3.txt  \n",
            "  inflating: /content/train/labels/PXL_20250327_084140758_jpg.rf.39c5b7db2f900c99dee0e241f855d125.txt  \n",
            "  inflating: /content/train/labels/PXL_20250327_084140758_jpg.rf.55632940d4ca8d3116d1490c70f8fb52.txt  \n",
            "  inflating: /content/train/labels/PXL_20250327_084144455_jpg.rf.233aa02179d7bf76ae7645b8df3524c3.txt  \n",
            "  inflating: /content/train/labels/PXL_20250327_084144455_jpg.rf.2d951446c3fb74ba3e273323ace5c420.txt  \n",
            "  inflating: /content/train/labels/PXL_20250327_084144455_jpg.rf.f03604a47d30e2ec22d8acc191466559.txt  \n",
            "  inflating: /content/train/labels/PXL_20250327_084146569_jpg.rf.32dd6900a67a7fbb1c2244771a22868d.txt  \n",
            "  inflating: /content/train/labels/PXL_20250327_084146569_jpg.rf.57cf6f7dd726b00643c55a0554d7aade.txt  \n",
            "  inflating: /content/train/labels/PXL_20250327_084146569_jpg.rf.ad45222fed1cf949d2780b9f14ed8807.txt  \n",
            "  inflating: /content/train/labels/PXL_20250327_084147565_jpg.rf.05b0fae39bea359ab00f041d7a2e2361.txt  \n",
            "  inflating: /content/train/labels/PXL_20250327_084147565_jpg.rf.4daa522096fcef5f3ebcd547183d0a4e.txt  \n",
            "  inflating: /content/train/labels/PXL_20250327_084147565_jpg.rf.b109a914d7ea4a7829041275f379adf5.txt  \n",
            "  inflating: /content/train/labels/PXL_20250327_084150221_jpg.rf.d04ef347fb40428b0d7053d6e27fb557.txt  \n",
            "  inflating: /content/train/labels/PXL_20250327_084150221_jpg.rf.e2e49f1ece40a999662bbc0cd59df98f.txt  \n",
            "  inflating: /content/train/labels/PXL_20250327_084150221_jpg.rf.fd8e99edc882577e1a90446630c0bb79.txt  \n",
            "  inflating: /content/train/labels/PXL_20250327_084151650_jpg.rf.418e283a165ee39742ac868248e512a9.txt  \n",
            "  inflating: /content/train/labels/PXL_20250327_084151650_jpg.rf.bfee0f9369acdbcaad4cf923ddd480e2.txt  \n",
            "  inflating: /content/train/labels/PXL_20250327_084151650_jpg.rf.e8be44ea597289b9dc2cd880e3d5416c.txt  \n",
            "  inflating: /content/train/labels/PXL_20250327_084156940_jpg.rf.1ea33f1e4db8e5791e4adfaa82017f0b.txt  \n",
            "  inflating: /content/train/labels/PXL_20250327_084156940_jpg.rf.aebdf4ce3049dcd8e42dc9575b7ad2ca.txt  \n",
            "  inflating: /content/train/labels/PXL_20250327_084156940_jpg.rf.ca0c3381fc8b47f36b861e14491eaba3.txt  \n",
            "  inflating: /content/train/labels/PXL_20250327_084158562_jpg.rf.20cb1a96c9e16cb25c9a9f283d3eb74e.txt  \n",
            "  inflating: /content/train/labels/PXL_20250327_084158562_jpg.rf.441a8da9205b7383141c9ce76172b223.txt  \n",
            "  inflating: /content/train/labels/PXL_20250327_084158562_jpg.rf.73ae8c7eabd0826b2ed1bac6c2bb8a7b.txt  \n",
            "  inflating: /content/train/labels/PXL_20250327_084159595_jpg.rf.2d29072d6338cdf0b7cbdf4147b3065b.txt  \n",
            "  inflating: /content/train/labels/PXL_20250327_084159595_jpg.rf.5a96b62fdd118ccc21bcf1ebe3ad2b07.txt  \n",
            "  inflating: /content/train/labels/PXL_20250327_084159595_jpg.rf.608da6ca0ff4cd4d9ac8d472af0df5db.txt  \n",
            "  inflating: /content/train/labels/PXL_20250327_084201875_jpg.rf.0d96df92fd56714372fd50c2c67334f8.txt  \n",
            "  inflating: /content/train/labels/PXL_20250327_084201875_jpg.rf.362d4dc647a895850e412b22d8ffbb4e.txt  \n",
            "  inflating: /content/train/labels/PXL_20250327_084201875_jpg.rf.5e56173e33227a9b9312cfa03b24b142.txt  \n",
            "  inflating: /content/train/labels/PXL_20250327_084206081_jpg.rf.4ea8efc0aa3d47d180d8fbce743c4893.txt  \n",
            "  inflating: /content/train/labels/PXL_20250327_084206081_jpg.rf.af601ed70b8f2f82a8364137781b5b96.txt  \n",
            "  inflating: /content/train/labels/PXL_20250327_084206081_jpg.rf.d45a57dfe326d31bfefb37993e5d2961.txt  \n",
            "  inflating: /content/train/labels/PXL_20250327_084211437_jpg.rf.42e82845a98f56c83b0e8678a386906d.txt  \n",
            "  inflating: /content/train/labels/PXL_20250327_084211437_jpg.rf.5620edaec7a65650526d2280b6b34190.txt  \n",
            "  inflating: /content/train/labels/PXL_20250327_084211437_jpg.rf.a1c287df659a7e3e3003bb6a1db578bc.txt  \n",
            "  inflating: /content/train/labels/PXL_20250327_084217544_jpg.rf.34b248d00d462a27ff7f5d59511d2a40.txt  \n",
            "  inflating: /content/train/labels/PXL_20250327_084217544_jpg.rf.84c220640630b6cd5836eb1a39c98dec.txt  \n",
            "  inflating: /content/train/labels/PXL_20250327_084217544_jpg.rf.c8d7e39acede83c2ef407e4b8a1734b9.txt  \n",
            "  inflating: /content/train/labels/PXL_20250327_084220917_jpg.rf.222003d5bd852542f9c2a5e2f545a33e.txt  \n",
            "  inflating: /content/train/labels/PXL_20250327_084220917_jpg.rf.51d04ee971c628d13529638b04270572.txt  \n",
            "  inflating: /content/train/labels/PXL_20250327_084220917_jpg.rf.6955daa2ce27b29c3213f5950f11c268.txt  \n",
            "  inflating: /content/train/labels/PXL_20250327_084229648_jpg.rf.2f5ded55167639e90a94a95d291c45cb.txt  \n",
            "  inflating: /content/train/labels/PXL_20250327_084229648_jpg.rf.cd2d03efe4d046e23032b96e0a482813.txt  \n",
            "  inflating: /content/train/labels/PXL_20250327_084229648_jpg.rf.d7dd3a88f0938780e81c592273c592d0.txt  \n",
            "  inflating: /content/train/labels/PXL_20250327_084237533_jpg.rf.3a2ef966b15be334619dbfe027277102.txt  \n",
            "  inflating: /content/train/labels/PXL_20250327_084237533_jpg.rf.43ac59b6167c8aff5f7874cc869444c7.txt  \n",
            "  inflating: /content/train/labels/PXL_20250327_084237533_jpg.rf.51fd65fe67ccc669fa9373244e0c4d57.txt  \n",
            "  inflating: /content/train/labels/PXL_20250327_084246466_jpg.rf.7d7fa5ebe5d70f6366d7bf6a2119e0d0.txt  \n",
            "  inflating: /content/train/labels/PXL_20250327_084246466_jpg.rf.b4da29d608b484a287b7eca53a98312e.txt  \n",
            "  inflating: /content/train/labels/PXL_20250327_084246466_jpg.rf.dea1ee3e335ff119878a5691c1eebb3c.txt  \n",
            "  inflating: /content/train/labels/PXL_20250327_084252659_jpg.rf.16c3152302291585cb2d188fb312cc02.txt  \n",
            "  inflating: /content/train/labels/PXL_20250327_084252659_jpg.rf.2dde1e14222880bfe36f42d800abafe9.txt  \n",
            "  inflating: /content/train/labels/PXL_20250327_084252659_jpg.rf.5f6156862464641dd478724fb85b2dd3.txt  \n",
            "  inflating: /content/train/labels/PXL_20250327_084254407_jpg.rf.61c8fbf8c76ba9ea05639fa1797b6720.txt  \n",
            "  inflating: /content/train/labels/PXL_20250327_084254407_jpg.rf.993449b97aba291b4aa07dc935a80501.txt  \n",
            "  inflating: /content/train/labels/PXL_20250327_084254407_jpg.rf.f2865e5711e140f25f0d3927d8b8181c.txt  \n",
            "  inflating: /content/train/labels/PXL_20250327_084256117_jpg.rf.76993bd736063deccd67a87b26003c0d.txt  \n",
            "  inflating: /content/train/labels/PXL_20250327_084256117_jpg.rf.ad924e984913e8abc1398c29c1f54f80.txt  \n",
            "  inflating: /content/train/labels/PXL_20250327_084256117_jpg.rf.f5aa46649fe7b033a734ffbbf475dc05.txt  \n",
            "  inflating: /content/train/labels/PXL_20250327_084258446_jpg.rf.33fbc679b5013717f8e71caefe7fabff.txt  \n",
            "  inflating: /content/train/labels/PXL_20250327_084258446_jpg.rf.73d52159dc57f53360b9e81e47104e7b.txt  \n",
            "  inflating: /content/train/labels/PXL_20250327_084258446_jpg.rf.b5a5ccc011d6e9f0ceecd07670f82e82.txt  \n",
            "  inflating: /content/train/labels/PXL_20250327_084322444_jpg.rf.4f9eb7abf3f2eed209114ecc5c1ddfcc.txt  \n",
            "  inflating: /content/train/labels/PXL_20250327_084322444_jpg.rf.8dba8424c9f4cad5664899254e50385a.txt  \n",
            "  inflating: /content/train/labels/PXL_20250327_084322444_jpg.rf.cbcbefb49ac9b092f7e213e9efe61835.txt  \n",
            "  inflating: /content/train/labels/PXL_20250327_084325018_jpg.rf.2082c850647f3debf4ad70c0ce12a1d3.txt  \n",
            "  inflating: /content/train/labels/PXL_20250327_084325018_jpg.rf.cc15c74583dedb89325415f4eacc8637.txt  \n",
            "  inflating: /content/train/labels/PXL_20250327_084325018_jpg.rf.ffb99999139fa552c652d2aaed7ed79a.txt  \n",
            "  inflating: /content/train/labels/PXL_20250327_084327637_jpg.rf.045ac3f43a9680232d2758c7082d9d48.txt  \n",
            "  inflating: /content/train/labels/PXL_20250327_084327637_jpg.rf.3d33672e652bcac0a3f4b021f6e2b561.txt  \n",
            "  inflating: /content/train/labels/PXL_20250327_084327637_jpg.rf.ff7df19eb92c6d13cc50553fc47aa72d.txt  \n",
            "  inflating: /content/train/labels/PXL_20250327_144150056_MP_jpg.rf.110b60826a157687d83d4bf89c613a4e.txt  \n",
            "  inflating: /content/train/labels/PXL_20250327_144150056_MP_jpg.rf.92dd605d99d7a36d9fb8f17eba98592b.txt  \n",
            "  inflating: /content/train/labels/PXL_20250327_144150056_MP_jpg.rf.c58ed458adc385da0173777e94ddc7ab.txt  \n",
            "  inflating: /content/train/labels/PXL_20250327_150311088_jpg.rf.8b215f13217d2ec9f5d548d4eb07e8b6.txt  \n",
            "  inflating: /content/train/labels/PXL_20250327_150311088_jpg.rf.97bafa095d4e7a2bc3be12e4b535819a.txt  \n",
            "  inflating: /content/train/labels/PXL_20250327_150311088_jpg.rf.f2b4430ed615de4592826e57d1ddaef1.txt  \n",
            "  inflating: /content/train/labels/PXL_20250327_150356180_jpg.rf.bbd7248736654fc027a1711005e45318.txt  \n",
            "  inflating: /content/train/labels/PXL_20250327_150356180_jpg.rf.cb45143d259dd829ef420823c4f6086a.txt  \n",
            "  inflating: /content/train/labels/PXL_20250327_150356180_jpg.rf.d0ffd322a0494a35fe1bc931e3a55b25.txt  \n",
            "  inflating: /content/train/labels/PXL_20250327_150359152_jpg.rf.29e048bcf283d6fcedb21651917e87c2.txt  \n",
            "  inflating: /content/train/labels/PXL_20250327_150359152_jpg.rf.c51f737d5903fcdca509efc22b6b11dd.txt  \n",
            "  inflating: /content/train/labels/PXL_20250327_150359152_jpg.rf.ce7927aaf2f27014c54b1d33c4a28504.txt  \n",
            "  inflating: /content/train/labels/PXL_20250327_152757643_MP_jpg.rf.170c60ef469fdff627c9877bdbfa8e58.txt  \n",
            "  inflating: /content/train/labels/PXL_20250327_152757643_MP_jpg.rf.ae9a9e9bfd9f0af8002077e2780798fb.txt  \n",
            "  inflating: /content/train/labels/PXL_20250327_152757643_MP_jpg.rf.e8edce18c1ca9f2749f6339ff74b174b.txt  \n",
            "  inflating: /content/train/labels/PXL_20250327_152801203_MP_jpg.rf.901186b655e44870ea53fbdd18bfcad7.txt  \n",
            "  inflating: /content/train/labels/PXL_20250327_152801203_MP_jpg.rf.aea80d4cbb655e516e7b5cb32b9f7c2a.txt  \n",
            "  inflating: /content/train/labels/PXL_20250327_152801203_MP_jpg.rf.cb703db41d8f4212b94fd6f602690c66.txt  \n",
            "  inflating: /content/train/labels/PXL_20250327_152803892_MP_jpg.rf.13fb0b15af60c5925e6412876bbec2ea.txt  \n",
            "  inflating: /content/train/labels/PXL_20250327_152803892_MP_jpg.rf.796336990f5ddd543a0aeaa75e59450e.txt  \n",
            "  inflating: /content/train/labels/PXL_20250327_152803892_MP_jpg.rf.86280ae8fa4715903e4917b1be9220fe.txt  \n",
            "  inflating: /content/train/labels/PXL_20250327_152805704_MP_jpg.rf.0c9f738a504ee3deaff9ac51d20de661.txt  \n",
            "  inflating: /content/train/labels/PXL_20250327_152805704_MP_jpg.rf.57ec9323938c0270ea675a9605b258c1.txt  \n",
            "  inflating: /content/train/labels/PXL_20250327_152805704_MP_jpg.rf.595eee4561b3deb0bbb5e77d83b02469.txt  \n",
            "  inflating: /content/train/labels/PXL_20250327_152808612_MP_jpg.rf.1bc364132bf3eaa553a268dd033b3014.txt  \n",
            "  inflating: /content/train/labels/PXL_20250327_152808612_MP_jpg.rf.51072b6209392a4c7b70812273548bd9.txt  \n",
            "  inflating: /content/train/labels/PXL_20250327_152808612_MP_jpg.rf.718d0b877c46e5f397406a5b4f50f041.txt  \n",
            "  inflating: /content/train/labels/PXL_20250327_152811181_MP_jpg.rf.5c9895ec85ecec528e338556ac19cf58.txt  \n",
            "  inflating: /content/train/labels/PXL_20250327_152811181_MP_jpg.rf.74592f27c3995eb02e0df802be2f446f.txt  \n",
            "  inflating: /content/train/labels/PXL_20250327_152811181_MP_jpg.rf.7ea33b2b89bce6c14e61e297ffb9f0b1.txt  \n",
            "  inflating: /content/train/labels/PXL_20250327_152813730_MP_jpg.rf.37eb03f592efaa577b05e3e0e1fc050a.txt  \n",
            "  inflating: /content/train/labels/PXL_20250327_152813730_MP_jpg.rf.d81303fb546d1c2e4c6b8931294e261e.txt  \n",
            "  inflating: /content/train/labels/PXL_20250327_152813730_MP_jpg.rf.ea4542809d9c815dd20b49b32a1a5a2b.txt  \n",
            "  inflating: /content/train/labels/PXL_20250327_152819631_MP_jpg.rf.52e763e0855c182e6971c4a1563a8eee.txt  \n",
            "  inflating: /content/train/labels/PXL_20250327_152819631_MP_jpg.rf.79114c7cfc1aeb61a4a743cb7e3043af.txt  \n",
            "  inflating: /content/train/labels/PXL_20250327_152819631_MP_jpg.rf.dab70135acb8ed1613f5523537c7a4ce.txt  \n",
            "  inflating: /content/train/labels/PXL_20250327_152822947_MP_jpg.rf.88c262afc903885e2139d846027d659a.txt  \n",
            "  inflating: /content/train/labels/PXL_20250327_152822947_MP_jpg.rf.cc6a2159c3597a60d60f4ab6b65e2a6c.txt  \n",
            "  inflating: /content/train/labels/PXL_20250327_152822947_MP_jpg.rf.f37f0094b9bd138d018ad316623eb560.txt  \n",
            "  inflating: /content/train/labels/PXL_20250327_152826628_MP_jpg.rf.3eb83456e43c729af3935e5d9fb56ec1.txt  \n",
            "  inflating: /content/train/labels/PXL_20250327_152826628_MP_jpg.rf.d268f6e7d390fd6c68ee2851042ee99b.txt  \n",
            "  inflating: /content/train/labels/PXL_20250327_152826628_MP_jpg.rf.ddab078f1c3f1273f5ed0d7257dd9c1b.txt  \n",
            "  inflating: /content/train/labels/PXL_20250327_152833753_MP_jpg.rf.9d46e324e05318329d5d17adf7b3a0b7.txt  \n",
            "  inflating: /content/train/labels/PXL_20250327_152833753_MP_jpg.rf.ad1ea053583fb60ae94b9450b605ac2d.txt  \n",
            "  inflating: /content/train/labels/PXL_20250327_152833753_MP_jpg.rf.c89cee4e13546b7cc3c52e051527d030.txt  \n",
            "  inflating: /content/train/labels/PXL_20250327_152837382_MP_jpg.rf.23de83acb863ce66325a2f2b7fc61832.txt  \n",
            "  inflating: /content/train/labels/PXL_20250327_152837382_MP_jpg.rf.61f58411b755ed3bbda3f451aaa7da9f.txt  \n",
            "  inflating: /content/train/labels/PXL_20250327_152837382_MP_jpg.rf.734f8ac0e9533e62df0c95377bb1c1aa.txt  \n",
            "  inflating: /content/train/labels/PXL_20250327_152840485_MP_jpg.rf.1031cbd9e84331e14a9ca4b98f72769d.txt  \n",
            "  inflating: /content/train/labels/PXL_20250327_152840485_MP_jpg.rf.59f8c2e1ef341160c36616d9dd861bba.txt  \n",
            "  inflating: /content/train/labels/PXL_20250327_152840485_MP_jpg.rf.be0f59e65d612cb6453a3f132f359293.txt  \n",
            "  inflating: /content/train/labels/PXL_20250327_152843337_MP_jpg.rf.2722e742ee21ffa24862efb4024bbb1a.txt  \n",
            "  inflating: /content/train/labels/PXL_20250327_152843337_MP_jpg.rf.9aa2188b9bfff46382a3c52fa12e4067.txt  \n",
            "  inflating: /content/train/labels/PXL_20250327_152843337_MP_jpg.rf.cb2ee18b1fdd2020a56e69a330a87674.txt  \n",
            "  inflating: /content/train/labels/PXL_20250327_152846481_MP_jpg.rf.07f9005d818172660bd6d220b149a788.txt  \n",
            "  inflating: /content/train/labels/PXL_20250327_152846481_MP_jpg.rf.31c14a94c14c1cec4e0a81aef4eb68ed.txt  \n",
            "  inflating: /content/train/labels/PXL_20250327_152846481_MP_jpg.rf.9eaa64a2de09463e3b8939777b23eb5c.txt  \n",
            "  inflating: /content/train/labels/PXL_20250327_152850136_MP_jpg.rf.33dfe944f588fddbeb60912bc9459991.txt  \n",
            "  inflating: /content/train/labels/PXL_20250327_152850136_MP_jpg.rf.725379481248c505b97fd9ed52f52e02.txt  \n",
            "  inflating: /content/train/labels/PXL_20250327_152850136_MP_jpg.rf.ac20208195324053dcdb9d4ed9a22471.txt  \n",
            "  inflating: /content/train/labels/PXL_20250327_152853535_MP_jpg.rf.5f52af2b5f605de66d61579d5bc87722.txt  \n",
            "  inflating: /content/train/labels/PXL_20250327_152853535_MP_jpg.rf.88da9951ac80c84abfdbb0f17b3f918a.txt  \n",
            "  inflating: /content/train/labels/PXL_20250327_152853535_MP_jpg.rf.c73e246bb6276ffd08d3bc019193b6ac.txt  \n",
            "  inflating: /content/train/labels/PXL_20250327_152856848_MP_jpg.rf.1bf2a0ad8f13b2bafb9e4bf6945aff36.txt  \n",
            "  inflating: /content/train/labels/PXL_20250327_152856848_MP_jpg.rf.95cc48e82723d835fc9ccd8ce94dccad.txt  \n",
            "  inflating: /content/train/labels/PXL_20250327_152856848_MP_jpg.rf.dd77d1256964f09844d8513249639061.txt  \n",
            "  inflating: /content/train/labels/PXL_20250327_152902297_MP_jpg.rf.6ccd275460bc64531342083d525d6758.txt  \n",
            "  inflating: /content/train/labels/PXL_20250327_152902297_MP_jpg.rf.b45b425c388014e211d72561adb323b7.txt  \n",
            "  inflating: /content/train/labels/PXL_20250327_152902297_MP_jpg.rf.e44005d98b98507cffa70adb2f96b3f1.txt  \n",
            "  inflating: /content/train/labels/PXL_20250327_152904682_MP_jpg.rf.5ca5b3e502d3c0e498ed08084bb96d56.txt  \n",
            "  inflating: /content/train/labels/PXL_20250327_152904682_MP_jpg.rf.aae3667e82c55f552185ad4416468090.txt  \n",
            "  inflating: /content/train/labels/PXL_20250327_152904682_MP_jpg.rf.f9ec235eb843929ee0ce24714f150db2.txt  \n",
            "  inflating: /content/train/labels/PXL_20250327_152906621_MP_jpg.rf.9e2959078d41e4c0edce66d7784ecb5b.txt  \n",
            "  inflating: /content/train/labels/PXL_20250327_152906621_MP_jpg.rf.a2f8d987e5364d2554021310cc9ce899.txt  \n",
            "  inflating: /content/train/labels/PXL_20250327_152906621_MP_jpg.rf.be2540373d4343d3e55682ccc033ca26.txt  \n",
            "  inflating: /content/train/labels/PXL_20250327_152908874_MP_jpg.rf.8278b8a5ac7e1d32b392bc8c80ac85ef.txt  \n",
            "  inflating: /content/train/labels/PXL_20250327_152908874_MP_jpg.rf.c136d1559b73f93db7f2395a5f044cc3.txt  \n",
            "  inflating: /content/train/labels/PXL_20250327_152908874_MP_jpg.rf.f987392556a868a70c94ecf6161c03ee.txt  \n",
            "  inflating: /content/train/labels/PXL_20250327_152911129_MP_jpg.rf.21855d63fc88b93f503b76237db0942b.txt  \n",
            "  inflating: /content/train/labels/PXL_20250327_152911129_MP_jpg.rf.9115eadf9abc1dc26b9b7805e6f91626.txt  \n",
            "  inflating: /content/train/labels/PXL_20250327_152911129_MP_jpg.rf.fdf2eb6144a637558f1eff1685fcadcc.txt  \n",
            "  inflating: /content/train/labels/PXL_20250327_152913409_MP_jpg.rf.25d5bb2f86c3e03fd6f3d137fc9be01d.txt  \n",
            "  inflating: /content/train/labels/PXL_20250327_152913409_MP_jpg.rf.26aa9827992d2fd73760a082e97d1ba2.txt  \n",
            "  inflating: /content/train/labels/PXL_20250327_152913409_MP_jpg.rf.f29ca8dfc1d1e2eff08ffd2c2d5047a6.txt  \n",
            "  inflating: /content/train/labels/PXL_20250327_152924693_jpg.rf.566a419b652b8014e6eab64d8b16eda3.txt  \n",
            "  inflating: /content/train/labels/PXL_20250327_152924693_jpg.rf.7498e2f0856e1e17403a527531a24cde.txt  \n",
            "  inflating: /content/train/labels/PXL_20250327_152924693_jpg.rf.f857c2034de4b2ad6ee0a12198fb686e.txt  \n",
            "  inflating: /content/train/labels/PXL_20250327_152929042_jpg.rf.5b8494149dc83d2e139726c2cc71836c.txt  \n",
            "  inflating: /content/train/labels/PXL_20250327_152929042_jpg.rf.9be09122c7c25343fde294bfd70cca6b.txt  \n",
            "  inflating: /content/train/labels/PXL_20250327_152929042_jpg.rf.ac8334b2ffa7cb87f4bc799d744723bc.txt  \n",
            "  inflating: /content/train/labels/PXL_20250327_152934661_jpg.rf.055606ca486ba84e6ccfa86ec6b82bfd.txt  \n",
            "  inflating: /content/train/labels/PXL_20250327_152934661_jpg.rf.6d04aa8e7f44e07b328967bcf92ee9e2.txt  \n",
            "  inflating: /content/train/labels/PXL_20250327_152934661_jpg.rf.83f3c0c3d88c8fe79653687636ce3516.txt  \n",
            "  inflating: /content/train/labels/PXL_20250327_152939840_jpg.rf.055aec7c86aad5abcb3b0d94b457ba51.txt  \n",
            "  inflating: /content/train/labels/PXL_20250327_152939840_jpg.rf.19fae2e4146f4267a3b2f95d2a35176e.txt  \n",
            "  inflating: /content/train/labels/PXL_20250327_152939840_jpg.rf.1f7afadf570f1be539e85c3c9b838eb3.txt  \n",
            "  inflating: /content/train/labels/PXL_20250327_152944682_jpg.rf.9d9686eed543cf1b0e5c8b713818b825.txt  \n",
            "  inflating: /content/train/labels/PXL_20250327_152944682_jpg.rf.c447cc3c01e7f142ed30e7af0527dbb6.txt  \n",
            "  inflating: /content/train/labels/PXL_20250327_152944682_jpg.rf.c6e7968fd11f1b56cae1430e0624e611.txt  \n",
            "  inflating: /content/train/labels/PXL_20250327_152946958_jpg.rf.2b1eafaf753265e3e9570470130bf15a.txt  \n",
            "  inflating: /content/train/labels/PXL_20250327_152946958_jpg.rf.6855fa813dab384c5ea1bbdd50fecdb8.txt  \n",
            "  inflating: /content/train/labels/PXL_20250327_152946958_jpg.rf.b86e3a53da7ee7bfb29c3a58db98058d.txt  \n",
            "  inflating: /content/train/labels/PXL_20250327_152948880_jpg.rf.0a869f4a41d6a7027aaa6288b2e98867.txt  \n",
            "  inflating: /content/train/labels/PXL_20250327_152948880_jpg.rf.d1d471b44907f3e3b6930cfbbd2080a2.txt  \n",
            "  inflating: /content/train/labels/PXL_20250327_152948880_jpg.rf.e12b7cd51d08a8365aa3fd8ed15ecbc8.txt  \n",
            "  inflating: /content/train/labels/PXL_20250327_152953824_jpg.rf.5d44b28bb61f443fb8853273907ad4b0.txt  \n",
            "  inflating: /content/train/labels/PXL_20250327_152953824_jpg.rf.959fd4dc3e84b1c63f75556ca07d33c1.txt  \n",
            "  inflating: /content/train/labels/PXL_20250327_152953824_jpg.rf.e43e7a1bcb8a4a1d288507606d79e947.txt  \n",
            "  inflating: /content/train/labels/PXL_20250327_152957449_jpg.rf.41f95caadc0c1a0ef05a0a95888f94db.txt  \n",
            "  inflating: /content/train/labels/PXL_20250327_152957449_jpg.rf.6dcfbc84b5be032b03037b6b2b2139df.txt  \n",
            "  inflating: /content/train/labels/PXL_20250327_152957449_jpg.rf.937ba9806fbcf44799bd89fd42b017ac.txt  \n",
            "  inflating: /content/train/labels/PXL_20250327_152959730_jpg.rf.026183a59ec8071f0b5362d13dd219ab.txt  \n",
            "  inflating: /content/train/labels/PXL_20250327_152959730_jpg.rf.66fdb95df811f9ab17ef27ac634fad84.txt  \n",
            "  inflating: /content/train/labels/PXL_20250327_152959730_jpg.rf.834f7fb4dc141378eae3dd97ed1148c7.txt  \n",
            "  inflating: /content/train/labels/PXL_20250327_153018283_jpg.rf.3406a82192d946497f6d528743e15176.txt  \n",
            "  inflating: /content/train/labels/PXL_20250327_153018283_jpg.rf.50ec51c1a5d35bb02b2697c34dfdf574.txt  \n",
            "  inflating: /content/train/labels/PXL_20250327_153018283_jpg.rf.cce93c7211f48dd6de0c0f6184b32bb1.txt  \n",
            "  inflating: /content/train/labels/PXL_20250327_153023139_jpg.rf.32021274ea684c423b02112d181faf62.txt  \n",
            "  inflating: /content/train/labels/PXL_20250327_153023139_jpg.rf.504c1ec5411700ed5e538fe37a40fc5a.txt  \n",
            "  inflating: /content/train/labels/PXL_20250327_153023139_jpg.rf.71f70477c5b24b008eeaf582b322dac4.txt  \n",
            "  inflating: /content/train/labels/PXL_20250327_153040120_jpg.rf.4a12d0661352d146d624106a7386223c.txt  \n",
            "  inflating: /content/train/labels/PXL_20250327_153040120_jpg.rf.c0d43da464b39e6f68849fee40563522.txt  \n",
            "  inflating: /content/train/labels/PXL_20250327_153040120_jpg.rf.cf2fc465806a4b6b6dae11eb22cd236c.txt  \n",
            "  inflating: /content/train/labels/PXL_20250327_153041894_jpg.rf.9e0a097d32582324dc5623488d0fc3d0.txt  \n",
            "  inflating: /content/train/labels/PXL_20250327_153041894_jpg.rf.aa341a2648cdd151dacac8bd402cccdd.txt  \n",
            "  inflating: /content/train/labels/PXL_20250327_153041894_jpg.rf.c8cfd49e0b7e33de41512094f7f8a81c.txt  \n",
            "  inflating: /content/train/labels/PXL_20250327_153049044_jpg.rf.89f725b4d6952a7ab89989e3bcea863a.txt  \n",
            "  inflating: /content/train/labels/PXL_20250327_153049044_jpg.rf.b47854f2615fe93069b9a8f730c69454.txt  \n",
            "  inflating: /content/train/labels/PXL_20250327_153049044_jpg.rf.f1c5901850ab8507d91ef9a0dcc6c501.txt  \n",
            "  inflating: /content/train/labels/PXL_20250327_153055493_jpg.rf.3ca254d1fb36bf0b046391c491eba698.txt  \n",
            "  inflating: /content/train/labels/PXL_20250327_153055493_jpg.rf.bf911f9d3ad65766c1655a817443f64e.txt  \n",
            "  inflating: /content/train/labels/PXL_20250327_153055493_jpg.rf.d124cac33e8f6e47c843a64389c7bce0.txt  \n",
            "  inflating: /content/train/labels/PXL_20250327_153104104_jpg.rf.4e09d05faa7d1fffd19e767baed443ce.txt  \n",
            "  inflating: /content/train/labels/PXL_20250327_153104104_jpg.rf.5bf3f42e69f9393d80f9d9e8cf1885dc.txt  \n",
            "  inflating: /content/train/labels/PXL_20250327_153104104_jpg.rf.68247ce7ff12ba42266cd43d1397f91d.txt  \n",
            "  inflating: /content/train/labels/PXL_20250327_153113843_jpg.rf.132137e3c41f21a87e9716d6e94706a5.txt  \n",
            "  inflating: /content/train/labels/PXL_20250327_153113843_jpg.rf.192e74976652f1038c3f0986bff89b35.txt  \n",
            "  inflating: /content/train/labels/PXL_20250327_153113843_jpg.rf.19a64691995fd38808ba9a1abe226eb9.txt  \n",
            "  inflating: /content/train/labels/PXL_20250327_153116251_jpg.rf.1755abf62008fd4b99770ecb125768f1.txt  \n",
            "  inflating: /content/train/labels/PXL_20250327_153116251_jpg.rf.658b00e787c3b84ce8b87ab13b23b43a.txt  \n",
            "  inflating: /content/train/labels/PXL_20250327_153116251_jpg.rf.c053f675921728f9b189b666fdff6dd0.txt  \n",
            "  inflating: /content/train/labels/PXL_20250327_153126422_jpg.rf.bbaba4f6f0b14a5ea5d7c7c817d006f3.txt  \n",
            "  inflating: /content/train/labels/PXL_20250327_153126422_jpg.rf.c2670e10c680b2fe1c615f93c6b87383.txt  \n",
            "  inflating: /content/train/labels/PXL_20250327_153126422_jpg.rf.c73dff13588104d09bcc56a0e44c662d.txt  \n",
            "  inflating: /content/train/labels/PXL_20250327_153129739_jpg.rf.2b24e06dac7e830aad3a5e62f3768c43.txt  \n",
            "  inflating: /content/train/labels/PXL_20250327_153129739_jpg.rf.97eedd8eefdff3c798baffcc4c050b7a.txt  \n",
            "  inflating: /content/train/labels/PXL_20250327_153129739_jpg.rf.b100430e4cc4b7eef416169a3fbbc346.txt  \n",
            "  inflating: /content/train/labels/PXL_20250327_153132373_jpg.rf.429d395ddb4fbde09df6b5bdcdfd7251.txt  \n",
            "  inflating: /content/train/labels/PXL_20250327_153132373_jpg.rf.5dafe899c6c6e614c70815c28006104b.txt  \n",
            "  inflating: /content/train/labels/PXL_20250327_153132373_jpg.rf.92ce011bf7f4e4c1214dd204435bc699.txt  \n",
            "  inflating: /content/train/labels/PXL_20250327_153159135_jpg.rf.2699f8e2f0c6edebee0aaba3fc9c616e.txt  \n",
            "  inflating: /content/train/labels/PXL_20250327_153159135_jpg.rf.6e58e22d26a6ecaa09f171296088372d.txt  \n",
            "  inflating: /content/train/labels/PXL_20250327_153159135_jpg.rf.d07e64386231081fd5c3c43bd1748f3e.txt  \n",
            "  inflating: /content/train/labels/PXL_20250327_153202873_jpg.rf.1f8af74e2ac24f4e490ee2724463e6ab.txt  \n",
            "  inflating: /content/train/labels/PXL_20250327_153202873_jpg.rf.2b237017bde73c0ddfecf64c07db5c1b.txt  \n",
            "  inflating: /content/train/labels/PXL_20250327_153202873_jpg.rf.3aca0b4b94b717b71571cf2a0a828aff.txt  \n",
            "  inflating: /content/train/labels/PXL_20250327_153206267_jpg.rf.1adecf59654f8b08d8e00c8775f40eb2.txt  \n",
            "  inflating: /content/train/labels/PXL_20250327_153206267_jpg.rf.4e53a6d34903b2e5d2f380fc8d7aa6a2.txt  \n",
            "  inflating: /content/train/labels/PXL_20250327_153206267_jpg.rf.64082f787a9eb81af319982c48faeb29.txt  \n",
            "  inflating: /content/train/labels/PXL_20250327_153217848_jpg.rf.d25b04e95a1b952ec63825e12bfbbb1b.txt  \n",
            "  inflating: /content/train/labels/PXL_20250327_153217848_jpg.rf.db6c56e373cd65a9a006501f1c975151.txt  \n",
            "  inflating: /content/train/labels/PXL_20250327_153217848_jpg.rf.eb3e8b609d64fcce0586776e73e8570b.txt  \n",
            "  inflating: /content/train/labels/PXL_20250327_153219483_jpg.rf.3be5d8a45fd78a019744507abda98ad8.txt  \n",
            "  inflating: /content/train/labels/PXL_20250327_153219483_jpg.rf.5212049cf7a6570c674a215146f9993f.txt  \n",
            "  inflating: /content/train/labels/PXL_20250327_153219483_jpg.rf.fc5a9c2d29293bac33a426780ba3bb3b.txt  \n",
            "  inflating: /content/train/labels/PXL_20250327_153223710_jpg.rf.151eacf8e1401548954681684fab7bc9.txt  \n",
            "  inflating: /content/train/labels/PXL_20250327_153223710_jpg.rf.386e48080b1a913f2c9d8f0c42397be0.txt  \n",
            "  inflating: /content/train/labels/PXL_20250327_153223710_jpg.rf.5fa92dd13897efbce22835a4aa9355ba.txt  \n",
            "  inflating: /content/train/labels/PXL_20250327_153235775_jpg.rf.7f568528459c4fd8e68b781414029e96.txt  \n",
            "  inflating: /content/train/labels/PXL_20250327_153235775_jpg.rf.813ce3fca37b7fc7ac232be0939de16f.txt  \n",
            "  inflating: /content/train/labels/PXL_20250327_153235775_jpg.rf.cf247715a5bceece5ba68d82c3bc5537.txt  \n",
            "  inflating: /content/train/labels/PXL_20250327_153259881_jpg.rf.3b3006650b39d971d39787cd623bf910.txt  \n",
            "  inflating: /content/train/labels/PXL_20250327_153259881_jpg.rf.9548991d284feb6649216891ec553a53.txt  \n",
            "  inflating: /content/train/labels/PXL_20250327_153259881_jpg.rf.bd274465136ad5083c44bbd548d0f9fc.txt  \n",
            "  inflating: /content/train/labels/PXL_20250327_153303941_jpg.rf.c24125e4c016f0d96e321713fbaa9b9e.txt  \n",
            "  inflating: /content/train/labels/PXL_20250327_153303941_jpg.rf.c653fd362886360e3f5033e2231a71de.txt  \n",
            "  inflating: /content/train/labels/PXL_20250327_153303941_jpg.rf.e6d4ba94f6bc6e7ec7aa08da1db09dfd.txt  \n",
            "  inflating: /content/train/labels/PXL_20250327_153310826_jpg.rf.227c5590f07eae09f68afd278647bfe6.txt  \n",
            "  inflating: /content/train/labels/PXL_20250327_153310826_jpg.rf.22a7f4eb3c4b6df3cfb05c020f799a36.txt  \n",
            "  inflating: /content/train/labels/PXL_20250327_153310826_jpg.rf.30af066d399bce9c445a5e337c383feb.txt  \n",
            "  inflating: /content/train/labels/PXL_20250327_153318582_jpg.rf.4862105586bb4eeee79576edb27cb95a.txt  \n",
            "  inflating: /content/train/labels/PXL_20250327_153318582_jpg.rf.c4623fbc9bf8e5d232018a54fbc87ea9.txt  \n",
            "  inflating: /content/train/labels/PXL_20250327_153318582_jpg.rf.db9010b571899379ec04c46a3dab7b81.txt  \n",
            "  inflating: /content/train/labels/PXL_20250327_153319828_jpg.rf.661fb745623a0b5b3bed2b66126b52ee.txt  \n",
            "  inflating: /content/train/labels/PXL_20250327_153319828_jpg.rf.ae2d4b26594213cbf5d8137a40e36eb1.txt  \n",
            "  inflating: /content/train/labels/PXL_20250327_153319828_jpg.rf.e30dc55b01bd68345a3f382ebb1cf9ac.txt  \n",
            "  inflating: /content/train/labels/PXL_20250327_153323963_jpg.rf.87dc82c400c015468f178fa5a5d6ab68.txt  \n",
            "  inflating: /content/train/labels/PXL_20250327_153323963_jpg.rf.e47586c3ffadc811fd84228e3375b44f.txt  \n",
            "  inflating: /content/train/labels/PXL_20250327_153323963_jpg.rf.fdcc65dddd1587c63f6c8a9a38c186d5.txt  \n",
            "  inflating: /content/train/labels/PXL_20250327_153325277_jpg.rf.1040365cad5eeb4acbdce142d4770f0a.txt  \n",
            "  inflating: /content/train/labels/PXL_20250327_153325277_jpg.rf.8fbd0f07f8c8275bea84adf1ef4d62da.txt  \n",
            "  inflating: /content/train/labels/PXL_20250327_153325277_jpg.rf.b9007f76b497fd1306e055a44f5a9ddb.txt  \n",
            "  inflating: /content/train/labels/PXL_20250327_153327565_jpg.rf.245c74d6386064e035c48631aca23688.txt  \n",
            "  inflating: /content/train/labels/PXL_20250327_153327565_jpg.rf.25a068c3001b15675df6fe5cc29c1aa1.txt  \n",
            "  inflating: /content/train/labels/PXL_20250327_153327565_jpg.rf.429971fafa8d993bd3fea9f008b0fef4.txt  \n",
            "  inflating: /content/train/labels/PXL_20250327_153328922_jpg.rf.19b92a5d93dfb1b54a08b1c3e4f0297c.txt  \n",
            "  inflating: /content/train/labels/PXL_20250327_153328922_jpg.rf.8e525731917bf95898d07767857757a2.txt  \n",
            "  inflating: /content/train/labels/PXL_20250327_153328922_jpg.rf.bf6491bea7be826343076f38b341bc8f.txt  \n",
            "  inflating: /content/train/labels/PXL_20250327_153329945_jpg.rf.207196c80513ab8903bf260036274ed7.txt  \n",
            "  inflating: /content/train/labels/PXL_20250327_153329945_jpg.rf.3a250aff122ea17f356091c491071085.txt  \n",
            "  inflating: /content/train/labels/PXL_20250327_153329945_jpg.rf.496a2394d83c99e2bb3786cb8a71fce8.txt  \n",
            "  inflating: /content/train/labels/PXL_20250327_153342761_jpg.rf.2102efa6f8df8f90fba91373c5f9920a.txt  \n",
            "  inflating: /content/train/labels/PXL_20250327_153342761_jpg.rf.3aa9ed76b77698db335daeb736754159.txt  \n",
            "  inflating: /content/train/labels/PXL_20250327_153342761_jpg.rf.7410c1c7c5779b64e1211aa6ce49344b.txt  \n",
            "  inflating: /content/train/labels/PXL_20250327_153344919_jpg.rf.3953cd478768b80ac045a8891c1b5817.txt  \n",
            "  inflating: /content/train/labels/PXL_20250327_153344919_jpg.rf.5b516925210f48d22da453c6feb4ae3b.txt  \n",
            "  inflating: /content/train/labels/PXL_20250327_153344919_jpg.rf.769f9d46a4aac9b5e0aa7c87b5ae9228.txt  \n",
            "  inflating: /content/train/labels/PXL_20250327_153444083_jpg.rf.01d03e1ed85ef5bc706574ecccd5d682.txt  \n",
            "  inflating: /content/train/labels/PXL_20250327_153444083_jpg.rf.c26a0a873bb46f3a3be587496d614932.txt  \n",
            "  inflating: /content/train/labels/PXL_20250327_153444083_jpg.rf.e8bdd6c03019ad484b8fe857529f5a25.txt  \n",
            "  inflating: /content/train/labels/PXL_20250327_153511354_jpg.rf.1009f564d745bb2053c43863b1bf7d3b.txt  \n",
            "  inflating: /content/train/labels/PXL_20250327_153511354_jpg.rf.1023a4c576c8843977f9b1895891b51e.txt  \n",
            "  inflating: /content/train/labels/PXL_20250327_153511354_jpg.rf.85c68497c47d6fdd4f7ab75c680e63ee.txt  \n",
            "  inflating: /content/train/labels/PXL_20250327_153514093_jpg.rf.1d1d96c9aa21689cc9954c82cb20ed7a.txt  \n",
            "  inflating: /content/train/labels/PXL_20250327_153514093_jpg.rf.5cc7a4e79becaedc1a1959a451015666.txt  \n",
            "  inflating: /content/train/labels/PXL_20250327_153514093_jpg.rf.752011bb5503d45134e6dc962ed6c79d.txt  \n",
            "  inflating: /content/train/labels/PXL_20250327_153525108_jpg.rf.42bcc081ef760cd16d836c017d098f7a.txt  \n",
            "  inflating: /content/train/labels/PXL_20250327_153525108_jpg.rf.4a1764c3531ba9ce63dead32368fb834.txt  \n",
            "  inflating: /content/train/labels/PXL_20250327_153525108_jpg.rf.fcb6a7ce1ff3fc98f3295ddb321a4998.txt  \n",
            "  inflating: /content/train/labels/PXL_20250327_153532990_jpg.rf.07a71c1c49117b4ebb1c06cc6409dc64.txt  \n",
            "  inflating: /content/train/labels/PXL_20250327_153532990_jpg.rf.6ec3dc0ecc639fafa9dcf9f73f11f583.txt  \n",
            "  inflating: /content/train/labels/PXL_20250327_153532990_jpg.rf.9cb0616dfe39b457d0c97f80eb9fa456.txt  \n",
            "  inflating: /content/train/labels/PXL_20250327_153538647_jpg.rf.13e6829525b031525093dcd6dbab9e23.txt  \n",
            "  inflating: /content/train/labels/PXL_20250327_153538647_jpg.rf.a9f1e330c79281df86ca142d8bf5446c.txt  \n",
            "  inflating: /content/train/labels/PXL_20250327_153538647_jpg.rf.aeb0287990162f12fc668d9504bd489b.txt  \n",
            "  inflating: /content/train/labels/PXL_20250327_153539929_jpg.rf.6a89c494392aab11f982208acfdc201e.txt  \n",
            "  inflating: /content/train/labels/PXL_20250327_153539929_jpg.rf.a529884966eda3134aea5b8b1fd730fc.txt  \n",
            "  inflating: /content/train/labels/PXL_20250327_153539929_jpg.rf.a9ef16054dc0f573cce605f935b86521.txt  \n",
            "  inflating: /content/train/labels/PXL_20250327_153551529_jpg.rf.96016aa8179ff1fd4f832caeef8a9e30.txt  \n",
            "  inflating: /content/train/labels/PXL_20250327_153551529_jpg.rf.9d8d2edde18a2416647275518e12fe87.txt  \n",
            "  inflating: /content/train/labels/PXL_20250327_153551529_jpg.rf.fa35529a705722891108910c743c8a4d.txt  \n",
            "  inflating: /content/train/labels/PXL_20250327_153607332_jpg.rf.446ed7123b8aefdaf0e19aeb44029151.txt  \n",
            "  inflating: /content/train/labels/PXL_20250327_153607332_jpg.rf.7dfe357074f79ab93a28a179297b9a7b.txt  \n",
            "  inflating: /content/train/labels/PXL_20250327_153607332_jpg.rf.97fa88d3846c0d61f12ca5fd9efa32e5.txt  \n",
            "  inflating: /content/train/labels/PXL_20250327_153622540_jpg.rf.4c40e1b9ed435f3542f9293385d70a8b.txt  \n",
            "  inflating: /content/train/labels/PXL_20250327_153622540_jpg.rf.81dcc6b9b8a08b96935543b34195cc1f.txt  \n",
            "  inflating: /content/train/labels/PXL_20250327_153622540_jpg.rf.ac94a75c5d5cb65377403831bd8a2f64.txt  \n",
            "  inflating: /content/train/labels/PXL_20250327_153629071_jpg.rf.1d0bbf44a54c780f9231a9cd8bb0456f.txt  \n",
            "  inflating: /content/train/labels/PXL_20250327_153629071_jpg.rf.3efa394b8242fb893a0a43b249354f7f.txt  \n",
            "  inflating: /content/train/labels/PXL_20250327_153629071_jpg.rf.caa980e3ff3f1149a5ff4fe612d1e04e.txt  \n",
            "  inflating: /content/train/labels/PXL_20250327_153635235_jpg.rf.4af387e112b36debe0eb084d4181ea06.txt  \n",
            "  inflating: /content/train/labels/PXL_20250327_153635235_jpg.rf.80ebde1fe865526f11a228dcac36962b.txt  \n",
            "  inflating: /content/train/labels/PXL_20250327_153635235_jpg.rf.a3ff18c99fc3384d6cdfa39ec63a9f74.txt  \n",
            "  inflating: /content/train/labels/PXL_20250327_153643393_jpg.rf.3815bf2cdb89514ca8be4a28a7ca678c.txt  \n",
            "  inflating: /content/train/labels/PXL_20250327_153643393_jpg.rf.8b5a65f82918ae2bb7c371b634c41430.txt  \n",
            "  inflating: /content/train/labels/PXL_20250327_153643393_jpg.rf.b5adeda3b606520ca71dc8f0099d8e13.txt  \n",
            "  inflating: /content/train/labels/PXL_20250327_153645596_jpg.rf.20ae33718b02edcee904831298e7879e.txt  \n",
            "  inflating: /content/train/labels/PXL_20250327_153645596_jpg.rf.5e0d9c57dee3f2f41bdf51e9ae77539f.txt  \n",
            "  inflating: /content/train/labels/PXL_20250327_153645596_jpg.rf.c410c50948a3b6d27594ab9cf411d280.txt  \n",
            "  inflating: /content/train/labels/PXL_20250327_153650246_jpg.rf.2d495994d40d2af5fb5f9d22d98d5b3f.txt  \n",
            "  inflating: /content/train/labels/PXL_20250327_153650246_jpg.rf.9ede21099cfa7a489d409b904db20394.txt  \n",
            "  inflating: /content/train/labels/PXL_20250327_153650246_jpg.rf.c3fe357b678f3346558116fc35a9f8c9.txt  \n",
            "  inflating: /content/train/labels/PXL_20250327_153658455_jpg.rf.75bb04694bdefaebf87ec543265147ff.txt  \n",
            "  inflating: /content/train/labels/PXL_20250327_153658455_jpg.rf.7c968f844e2b391166087159039bf85a.txt  \n",
            "  inflating: /content/train/labels/PXL_20250327_153658455_jpg.rf.f6e8545184531f0db498df9c276aad51.txt  \n",
            "  inflating: /content/train/labels/PXL_20250327_153715662_jpg.rf.6feb91df54f263647d4843e3a6db0f52.txt  \n",
            "  inflating: /content/train/labels/PXL_20250327_153715662_jpg.rf.8e75769b555b46b3c72bb0277a16dad7.txt  \n",
            "  inflating: /content/train/labels/PXL_20250327_153715662_jpg.rf.c6e05eda55bfe88c249a6158e320f096.txt  \n",
            "  inflating: /content/train/labels/PXL_20250327_153722169_jpg.rf.6ccc2f766deba08739e133dd840b6925.txt  \n",
            "  inflating: /content/train/labels/PXL_20250327_153722169_jpg.rf.78260ee4a2b9b91727da8fb2290980a4.txt  \n",
            "  inflating: /content/train/labels/PXL_20250327_153722169_jpg.rf.e6a16d189aebb96fa976c269c004a6df.txt  \n",
            "  inflating: /content/train/labels/PXL_20250327_153736342_jpg.rf.029b76b6bf827a805d0ed41db708239b.txt  \n",
            "  inflating: /content/train/labels/PXL_20250327_153736342_jpg.rf.56ffdb0560053f29c37458e66ed1bb33.txt  \n",
            "  inflating: /content/train/labels/PXL_20250327_153736342_jpg.rf.62054f9700f15fbdf104ace0d625f89d.txt  \n",
            "  inflating: /content/train/labels/PXL_20250327_153740915_jpg.rf.1cb819612f6908ee5a0be02bde3a5bf4.txt  \n",
            "  inflating: /content/train/labels/PXL_20250327_153740915_jpg.rf.86df3c2660110940b07603843102f286.txt  \n",
            "  inflating: /content/train/labels/PXL_20250327_153740915_jpg.rf.ef78e169ec59e8818a625992f07fc3f0.txt  \n",
            "  inflating: /content/train/labels/PXL_20250327_153742163_jpg.rf.4eabdaee2810b9aeb31f2a79f486e986.txt  \n",
            "  inflating: /content/train/labels/PXL_20250327_153742163_jpg.rf.8e5b0e22f0faff5bedd17b7bb8b851b0.txt  \n",
            "  inflating: /content/train/labels/PXL_20250327_153742163_jpg.rf.940d154802e5483617360e55b0b82778.txt  \n",
            "  inflating: /content/train/labels/PXL_20250327_153934780_jpg.rf.2a2e803cc6c753b66bb9e42477f425bf.txt  \n",
            "  inflating: /content/train/labels/PXL_20250327_153934780_jpg.rf.79162b7db74071abf40b2a16b2e5cc4b.txt  \n",
            "  inflating: /content/train/labels/PXL_20250327_153934780_jpg.rf.f3ac3bf856c5ea9cddb1d80e2158323a.txt  \n",
            "  inflating: /content/train/labels/PXL_20250327_154240281_jpg.rf.55ab35952555dcf0788c2baac684ab86.txt  \n",
            "  inflating: /content/train/labels/PXL_20250327_154240281_jpg.rf.591e0c997d89756cf859ab580afb5763.txt  \n",
            "  inflating: /content/train/labels/PXL_20250327_154240281_jpg.rf.718f757c4bc645d5b8c8b4b5681bbecb.txt  \n",
            "   creating: /content/valid/\n",
            "   creating: /content/valid/images/\n",
            " extracting: /content/valid/images/PXL_20250327_083842681_jpg.rf.75ca90f4b767b031c8a3b9c8618f1499.jpg  \n",
            " extracting: /content/valid/images/PXL_20250327_083849593_jpg.rf.c845cdefc862218fbd0a0883545d94d9.jpg  \n",
            " extracting: /content/valid/images/PXL_20250327_083900090_jpg.rf.c0aec6375e49f2c3706dcf147f6ea09d.jpg  \n",
            " extracting: /content/valid/images/PXL_20250327_083902637_jpg.rf.5bc4e6e9283720d5b2a1aca8bb507938.jpg  \n",
            " extracting: /content/valid/images/PXL_20250327_083920905_jpg.rf.05cc8f64688b6073354d978094eb0fac.jpg  \n",
            " extracting: /content/valid/images/PXL_20250327_083922638_jpg.rf.ec6b2ca994d1ba375ebc165486eb572d.jpg  \n",
            " extracting: /content/valid/images/PXL_20250327_083925181_jpg.rf.871b64a1a72bfece7a3005e71d6e6c37.jpg  \n",
            " extracting: /content/valid/images/PXL_20250327_083929192_jpg.rf.b401c076f7ad2d47eed331e6a7621cc3.jpg  \n",
            " extracting: /content/valid/images/PXL_20250327_083938436_jpg.rf.736100be69c21b6458990766962685f3.jpg  \n",
            " extracting: /content/valid/images/PXL_20250327_083946984_jpg.rf.9e5cf98cbfb82648f7802a82df1dea69.jpg  \n",
            " extracting: /content/valid/images/PXL_20250327_083953321_jpg.rf.fa0f3749bdd15aaa9edd0ffa46b49811.jpg  \n",
            " extracting: /content/valid/images/PXL_20250327_083958130_jpg.rf.5a5e4640c347127230dccafa90b6b54d.jpg  \n",
            " extracting: /content/valid/images/PXL_20250327_084010662_jpg.rf.91b93fa9e6e2f0970877c46779dacdf8.jpg  \n",
            " extracting: /content/valid/images/PXL_20250327_084133275_jpg.rf.7a639c67ee8ee2458d5341bffac984db.jpg  \n",
            " extracting: /content/valid/images/PXL_20250327_084134874_jpg.rf.cbbc4f68170ca6987aa1be6db676996d.jpg  \n",
            " extracting: /content/valid/images/PXL_20250327_084148395_jpg.rf.fac3d2223be3127ad7af46b795744c88.jpg  \n",
            " extracting: /content/valid/images/PXL_20250327_084152392_jpg.rf.0f619c4c22dafd82a8ea0f9c6c2dcccd.jpg  \n",
            " extracting: /content/valid/images/PXL_20250327_084154764_jpg.rf.387f2c7e4471689a581d61e1fa4c8a8a.jpg  \n",
            " extracting: /content/valid/images/PXL_20250327_084215234_jpg.rf.4cf6f245f642a4cb0ccecaeb221349ab.jpg  \n",
            " extracting: /content/valid/images/PXL_20250327_084224054_jpg.rf.0c3c9fcf2ac7eab461cec5b80516a74d.jpg  \n",
            " extracting: /content/valid/images/PXL_20250327_084226739_jpg.rf.cac63926c4f9882537f133e0a470e4d5.jpg  \n",
            " extracting: /content/valid/images/PXL_20250327_084243192_jpg.rf.ddd455c52a22e1d9388c998bc82e481b.jpg  \n",
            " extracting: /content/valid/images/PXL_20250327_084300978_jpg.rf.c8bf1f3de91556df1e7a051f44ac2be4.jpg  \n",
            " extracting: /content/valid/images/PXL_20250327_084304305_jpg.rf.1bb8fcd9b8a077b658d2b57b46671d2b.jpg  \n",
            " extracting: /content/valid/images/PXL_20250327_084323673_jpg.rf.b82628649a238a5758a88266491fe8c3.jpg  \n",
            "   creating: /content/valid/labels/\n",
            "  inflating: /content/valid/labels/PXL_20250327_083842681_jpg.rf.75ca90f4b767b031c8a3b9c8618f1499.txt  \n",
            "  inflating: /content/valid/labels/PXL_20250327_083849593_jpg.rf.c845cdefc862218fbd0a0883545d94d9.txt  \n",
            "  inflating: /content/valid/labels/PXL_20250327_083900090_jpg.rf.c0aec6375e49f2c3706dcf147f6ea09d.txt  \n",
            "  inflating: /content/valid/labels/PXL_20250327_083902637_jpg.rf.5bc4e6e9283720d5b2a1aca8bb507938.txt  \n",
            "  inflating: /content/valid/labels/PXL_20250327_083920905_jpg.rf.05cc8f64688b6073354d978094eb0fac.txt  \n",
            "  inflating: /content/valid/labels/PXL_20250327_083922638_jpg.rf.ec6b2ca994d1ba375ebc165486eb572d.txt  \n",
            "  inflating: /content/valid/labels/PXL_20250327_083925181_jpg.rf.871b64a1a72bfece7a3005e71d6e6c37.txt  \n",
            "  inflating: /content/valid/labels/PXL_20250327_083929192_jpg.rf.b401c076f7ad2d47eed331e6a7621cc3.txt  \n",
            "  inflating: /content/valid/labels/PXL_20250327_083938436_jpg.rf.736100be69c21b6458990766962685f3.txt  \n",
            "  inflating: /content/valid/labels/PXL_20250327_083946984_jpg.rf.9e5cf98cbfb82648f7802a82df1dea69.txt  \n",
            "  inflating: /content/valid/labels/PXL_20250327_083953321_jpg.rf.fa0f3749bdd15aaa9edd0ffa46b49811.txt  \n",
            "  inflating: /content/valid/labels/PXL_20250327_083958130_jpg.rf.5a5e4640c347127230dccafa90b6b54d.txt  \n",
            "  inflating: /content/valid/labels/PXL_20250327_084010662_jpg.rf.91b93fa9e6e2f0970877c46779dacdf8.txt  \n",
            "  inflating: /content/valid/labels/PXL_20250327_084133275_jpg.rf.7a639c67ee8ee2458d5341bffac984db.txt  \n",
            "  inflating: /content/valid/labels/PXL_20250327_084134874_jpg.rf.cbbc4f68170ca6987aa1be6db676996d.txt  \n",
            "  inflating: /content/valid/labels/PXL_20250327_084148395_jpg.rf.fac3d2223be3127ad7af46b795744c88.txt  \n",
            "  inflating: /content/valid/labels/PXL_20250327_084152392_jpg.rf.0f619c4c22dafd82a8ea0f9c6c2dcccd.txt  \n",
            "  inflating: /content/valid/labels/PXL_20250327_084154764_jpg.rf.387f2c7e4471689a581d61e1fa4c8a8a.txt  \n",
            "  inflating: /content/valid/labels/PXL_20250327_084215234_jpg.rf.4cf6f245f642a4cb0ccecaeb221349ab.txt  \n",
            "  inflating: /content/valid/labels/PXL_20250327_084224054_jpg.rf.0c3c9fcf2ac7eab461cec5b80516a74d.txt  \n",
            "  inflating: /content/valid/labels/PXL_20250327_084226739_jpg.rf.cac63926c4f9882537f133e0a470e4d5.txt  \n",
            "  inflating: /content/valid/labels/PXL_20250327_084243192_jpg.rf.ddd455c52a22e1d9388c998bc82e481b.txt  \n",
            "  inflating: /content/valid/labels/PXL_20250327_084300978_jpg.rf.c8bf1f3de91556df1e7a051f44ac2be4.txt  \n",
            "  inflating: /content/valid/labels/PXL_20250327_084304305_jpg.rf.1bb8fcd9b8a077b658d2b57b46671d2b.txt  \n",
            "  inflating: /content/valid/labels/PXL_20250327_084323673_jpg.rf.b82628649a238a5758a88266491fe8c3.txt  \n"
          ]
        }
      ],
      "source": [
        "# prompt: unzip files in same location\n",
        "\n",
        "!unzip \"My First Project.v2i.yolov8.zip\" -d \"/content/\"\n"
      ]
    },
    {
      "cell_type": "code",
      "source": [
        "pip install ultralytics\n"
      ],
      "metadata": {
        "colab": {
          "base_uri": "https://localhost:8080/"
        },
        "id": "nj5eyKDTFCA9",
        "outputId": "b4a6cfdd-f228-4ff6-8cda-1a81badcba0b"
      },
      "execution_count": null,
      "outputs": [
        {
          "output_type": "stream",
          "name": "stdout",
          "text": [
            "Collecting ultralytics\n",
            "  Downloading ultralytics-8.3.97-py3-none-any.whl.metadata (35 kB)\n",
            "Requirement already satisfied: numpy<=2.1.1,>=1.23.0 in /usr/local/lib/python3.11/dist-packages (from ultralytics) (2.0.2)\n",
            "Requirement already satisfied: matplotlib>=3.3.0 in /usr/local/lib/python3.11/dist-packages (from ultralytics) (3.10.0)\n",
            "Requirement already satisfied: opencv-python>=4.6.0 in /usr/local/lib/python3.11/dist-packages (from ultralytics) (4.11.0.86)\n",
            "Requirement already satisfied: pillow>=7.1.2 in /usr/local/lib/python3.11/dist-packages (from ultralytics) (11.1.0)\n",
            "Requirement already satisfied: pyyaml>=5.3.1 in /usr/local/lib/python3.11/dist-packages (from ultralytics) (6.0.2)\n",
            "Requirement already satisfied: requests>=2.23.0 in /usr/local/lib/python3.11/dist-packages (from ultralytics) (2.32.3)\n",
            "Requirement already satisfied: scipy>=1.4.1 in /usr/local/lib/python3.11/dist-packages (from ultralytics) (1.14.1)\n",
            "Requirement already satisfied: torch>=1.8.0 in /usr/local/lib/python3.11/dist-packages (from ultralytics) (2.6.0+cu124)\n",
            "Requirement already satisfied: torchvision>=0.9.0 in /usr/local/lib/python3.11/dist-packages (from ultralytics) (0.21.0+cu124)\n",
            "Requirement already satisfied: tqdm>=4.64.0 in /usr/local/lib/python3.11/dist-packages (from ultralytics) (4.67.1)\n",
            "Requirement already satisfied: psutil in /usr/local/lib/python3.11/dist-packages (from ultralytics) (5.9.5)\n",
            "Requirement already satisfied: py-cpuinfo in /usr/local/lib/python3.11/dist-packages (from ultralytics) (9.0.0)\n",
            "Requirement already satisfied: pandas>=1.1.4 in /usr/local/lib/python3.11/dist-packages (from ultralytics) (2.2.2)\n",
            "Requirement already satisfied: seaborn>=0.11.0 in /usr/local/lib/python3.11/dist-packages (from ultralytics) (0.13.2)\n",
            "Collecting ultralytics-thop>=2.0.0 (from ultralytics)\n",
            "  Downloading ultralytics_thop-2.0.14-py3-none-any.whl.metadata (9.4 kB)\n",
            "Requirement already satisfied: contourpy>=1.0.1 in /usr/local/lib/python3.11/dist-packages (from matplotlib>=3.3.0->ultralytics) (1.3.1)\n",
            "Requirement already satisfied: cycler>=0.10 in /usr/local/lib/python3.11/dist-packages (from matplotlib>=3.3.0->ultralytics) (0.12.1)\n",
            "Requirement already satisfied: fonttools>=4.22.0 in /usr/local/lib/python3.11/dist-packages (from matplotlib>=3.3.0->ultralytics) (4.56.0)\n",
            "Requirement already satisfied: kiwisolver>=1.3.1 in /usr/local/lib/python3.11/dist-packages (from matplotlib>=3.3.0->ultralytics) (1.4.8)\n",
            "Requirement already satisfied: packaging>=20.0 in /usr/local/lib/python3.11/dist-packages (from matplotlib>=3.3.0->ultralytics) (24.2)\n",
            "Requirement already satisfied: pyparsing>=2.3.1 in /usr/local/lib/python3.11/dist-packages (from matplotlib>=3.3.0->ultralytics) (3.2.1)\n",
            "Requirement already satisfied: python-dateutil>=2.7 in /usr/local/lib/python3.11/dist-packages (from matplotlib>=3.3.0->ultralytics) (2.8.2)\n",
            "Requirement already satisfied: pytz>=2020.1 in /usr/local/lib/python3.11/dist-packages (from pandas>=1.1.4->ultralytics) (2025.1)\n",
            "Requirement already satisfied: tzdata>=2022.7 in /usr/local/lib/python3.11/dist-packages (from pandas>=1.1.4->ultralytics) (2025.1)\n",
            "Requirement already satisfied: charset-normalizer<4,>=2 in /usr/local/lib/python3.11/dist-packages (from requests>=2.23.0->ultralytics) (3.4.1)\n",
            "Requirement already satisfied: idna<4,>=2.5 in /usr/local/lib/python3.11/dist-packages (from requests>=2.23.0->ultralytics) (3.10)\n",
            "Requirement already satisfied: urllib3<3,>=1.21.1 in /usr/local/lib/python3.11/dist-packages (from requests>=2.23.0->ultralytics) (2.3.0)\n",
            "Requirement already satisfied: certifi>=2017.4.17 in /usr/local/lib/python3.11/dist-packages (from requests>=2.23.0->ultralytics) (2025.1.31)\n",
            "Requirement already satisfied: filelock in /usr/local/lib/python3.11/dist-packages (from torch>=1.8.0->ultralytics) (3.18.0)\n",
            "Requirement already satisfied: typing-extensions>=4.10.0 in /usr/local/lib/python3.11/dist-packages (from torch>=1.8.0->ultralytics) (4.12.2)\n",
            "Requirement already satisfied: networkx in /usr/local/lib/python3.11/dist-packages (from torch>=1.8.0->ultralytics) (3.4.2)\n",
            "Requirement already satisfied: jinja2 in /usr/local/lib/python3.11/dist-packages (from torch>=1.8.0->ultralytics) (3.1.6)\n",
            "Requirement already satisfied: fsspec in /usr/local/lib/python3.11/dist-packages (from torch>=1.8.0->ultralytics) (2025.3.0)\n",
            "Collecting nvidia-cuda-nvrtc-cu12==12.4.127 (from torch>=1.8.0->ultralytics)\n",
            "  Downloading nvidia_cuda_nvrtc_cu12-12.4.127-py3-none-manylinux2014_x86_64.whl.metadata (1.5 kB)\n",
            "Collecting nvidia-cuda-runtime-cu12==12.4.127 (from torch>=1.8.0->ultralytics)\n",
            "  Downloading nvidia_cuda_runtime_cu12-12.4.127-py3-none-manylinux2014_x86_64.whl.metadata (1.5 kB)\n",
            "Collecting nvidia-cuda-cupti-cu12==12.4.127 (from torch>=1.8.0->ultralytics)\n",
            "  Downloading nvidia_cuda_cupti_cu12-12.4.127-py3-none-manylinux2014_x86_64.whl.metadata (1.6 kB)\n",
            "Collecting nvidia-cudnn-cu12==9.1.0.70 (from torch>=1.8.0->ultralytics)\n",
            "  Downloading nvidia_cudnn_cu12-9.1.0.70-py3-none-manylinux2014_x86_64.whl.metadata (1.6 kB)\n",
            "Collecting nvidia-cublas-cu12==12.4.5.8 (from torch>=1.8.0->ultralytics)\n",
            "  Downloading nvidia_cublas_cu12-12.4.5.8-py3-none-manylinux2014_x86_64.whl.metadata (1.5 kB)\n",
            "Collecting nvidia-cufft-cu12==11.2.1.3 (from torch>=1.8.0->ultralytics)\n",
            "  Downloading nvidia_cufft_cu12-11.2.1.3-py3-none-manylinux2014_x86_64.whl.metadata (1.5 kB)\n",
            "Collecting nvidia-curand-cu12==10.3.5.147 (from torch>=1.8.0->ultralytics)\n",
            "  Downloading nvidia_curand_cu12-10.3.5.147-py3-none-manylinux2014_x86_64.whl.metadata (1.5 kB)\n",
            "Collecting nvidia-cusolver-cu12==11.6.1.9 (from torch>=1.8.0->ultralytics)\n",
            "  Downloading nvidia_cusolver_cu12-11.6.1.9-py3-none-manylinux2014_x86_64.whl.metadata (1.6 kB)\n",
            "Collecting nvidia-cusparse-cu12==12.3.1.170 (from torch>=1.8.0->ultralytics)\n",
            "  Downloading nvidia_cusparse_cu12-12.3.1.170-py3-none-manylinux2014_x86_64.whl.metadata (1.6 kB)\n",
            "Requirement already satisfied: nvidia-cusparselt-cu12==0.6.2 in /usr/local/lib/python3.11/dist-packages (from torch>=1.8.0->ultralytics) (0.6.2)\n",
            "Requirement already satisfied: nvidia-nccl-cu12==2.21.5 in /usr/local/lib/python3.11/dist-packages (from torch>=1.8.0->ultralytics) (2.21.5)\n",
            "Requirement already satisfied: nvidia-nvtx-cu12==12.4.127 in /usr/local/lib/python3.11/dist-packages (from torch>=1.8.0->ultralytics) (12.4.127)\n",
            "Collecting nvidia-nvjitlink-cu12==12.4.127 (from torch>=1.8.0->ultralytics)\n",
            "  Downloading nvidia_nvjitlink_cu12-12.4.127-py3-none-manylinux2014_x86_64.whl.metadata (1.5 kB)\n",
            "Requirement already satisfied: triton==3.2.0 in /usr/local/lib/python3.11/dist-packages (from torch>=1.8.0->ultralytics) (3.2.0)\n",
            "Requirement already satisfied: sympy==1.13.1 in /usr/local/lib/python3.11/dist-packages (from torch>=1.8.0->ultralytics) (1.13.1)\n",
            "Requirement already satisfied: mpmath<1.4,>=1.1.0 in /usr/local/lib/python3.11/dist-packages (from sympy==1.13.1->torch>=1.8.0->ultralytics) (1.3.0)\n",
            "Requirement already satisfied: six>=1.5 in /usr/local/lib/python3.11/dist-packages (from python-dateutil>=2.7->matplotlib>=3.3.0->ultralytics) (1.17.0)\n",
            "Requirement already satisfied: MarkupSafe>=2.0 in /usr/local/lib/python3.11/dist-packages (from jinja2->torch>=1.8.0->ultralytics) (3.0.2)\n",
            "Downloading ultralytics-8.3.97-py3-none-any.whl (949 kB)\n",
            "\u001b[2K   \u001b[90m━━━━━━━━━━━━━━━━━━━━━━━━━━━━━━━━━━━━━━━━\u001b[0m \u001b[32m949.8/949.8 kB\u001b[0m \u001b[31m54.2 MB/s\u001b[0m eta \u001b[36m0:00:00\u001b[0m\n",
            "\u001b[?25hDownloading nvidia_cublas_cu12-12.4.5.8-py3-none-manylinux2014_x86_64.whl (363.4 MB)\n",
            "\u001b[2K   \u001b[90m━━━━━━━━━━━━━━━━━━━━━━━━━━━━━━━━━━━━━━━━\u001b[0m \u001b[32m363.4/363.4 MB\u001b[0m \u001b[31m3.8 MB/s\u001b[0m eta \u001b[36m0:00:00\u001b[0m\n",
            "\u001b[?25hDownloading nvidia_cuda_cupti_cu12-12.4.127-py3-none-manylinux2014_x86_64.whl (13.8 MB)\n",
            "\u001b[2K   \u001b[90m━━━━━━━━━━━━━━━━━━━━━━━━━━━━━━━━━━━━━━━━\u001b[0m \u001b[32m13.8/13.8 MB\u001b[0m \u001b[31m62.2 MB/s\u001b[0m eta \u001b[36m0:00:00\u001b[0m\n",
            "\u001b[?25hDownloading nvidia_cuda_nvrtc_cu12-12.4.127-py3-none-manylinux2014_x86_64.whl (24.6 MB)\n",
            "\u001b[2K   \u001b[90m━━━━━━━━━━━━━━━━━━━━━━━━━━━━━━━━━━━━━━━━\u001b[0m \u001b[32m24.6/24.6 MB\u001b[0m \u001b[31m35.1 MB/s\u001b[0m eta \u001b[36m0:00:00\u001b[0m\n",
            "\u001b[?25hDownloading nvidia_cuda_runtime_cu12-12.4.127-py3-none-manylinux2014_x86_64.whl (883 kB)\n",
            "\u001b[2K   \u001b[90m━━━━━━━━━━━━━━━━━━━━━━━━━━━━━━━━━━━━━━━━\u001b[0m \u001b[32m883.7/883.7 kB\u001b[0m \u001b[31m51.9 MB/s\u001b[0m eta \u001b[36m0:00:00\u001b[0m\n",
            "\u001b[?25hDownloading nvidia_cudnn_cu12-9.1.0.70-py3-none-manylinux2014_x86_64.whl (664.8 MB)\n",
            "\u001b[2K   \u001b[90m━━━━━━━━━━━━━━━━━━━━━━━━━━━━━━━━━━━━━━━━\u001b[0m \u001b[32m664.8/664.8 MB\u001b[0m \u001b[31m2.6 MB/s\u001b[0m eta \u001b[36m0:00:00\u001b[0m\n",
            "\u001b[?25hDownloading nvidia_cufft_cu12-11.2.1.3-py3-none-manylinux2014_x86_64.whl (211.5 MB)\n",
            "\u001b[2K   \u001b[90m━━━━━━━━━━━━━━━━━━━━━━━━━━━━━━━━━━━━━━━━\u001b[0m \u001b[32m211.5/211.5 MB\u001b[0m \u001b[31m6.1 MB/s\u001b[0m eta \u001b[36m0:00:00\u001b[0m\n",
            "\u001b[?25hDownloading nvidia_curand_cu12-10.3.5.147-py3-none-manylinux2014_x86_64.whl (56.3 MB)\n",
            "\u001b[2K   \u001b[90m━━━━━━━━━━━━━━━━━━━━━━━━━━━━━━━━━━━━━━━━\u001b[0m \u001b[32m56.3/56.3 MB\u001b[0m \u001b[31m12.4 MB/s\u001b[0m eta \u001b[36m0:00:00\u001b[0m\n",
            "\u001b[?25hDownloading nvidia_cusolver_cu12-11.6.1.9-py3-none-manylinux2014_x86_64.whl (127.9 MB)\n",
            "\u001b[2K   \u001b[90m━━━━━━━━━━━━━━━━━━━━━━━━━━━━━━━━━━━━━━━━\u001b[0m \u001b[32m127.9/127.9 MB\u001b[0m \u001b[31m7.3 MB/s\u001b[0m eta \u001b[36m0:00:00\u001b[0m\n",
            "\u001b[?25hDownloading nvidia_cusparse_cu12-12.3.1.170-py3-none-manylinux2014_x86_64.whl (207.5 MB)\n",
            "\u001b[2K   \u001b[90m━━━━━━━━━━━━━━━━━━━━━━━━━━━━━━━━━━━━━━━━\u001b[0m \u001b[32m207.5/207.5 MB\u001b[0m \u001b[31m5.9 MB/s\u001b[0m eta \u001b[36m0:00:00\u001b[0m\n",
            "\u001b[?25hDownloading nvidia_nvjitlink_cu12-12.4.127-py3-none-manylinux2014_x86_64.whl (21.1 MB)\n",
            "\u001b[2K   \u001b[90m━━━━━━━━━━━━━━━━━━━━━━━━━━━━━━━━━━━━━━━━\u001b[0m \u001b[32m21.1/21.1 MB\u001b[0m \u001b[31m74.7 MB/s\u001b[0m eta \u001b[36m0:00:00\u001b[0m\n",
            "\u001b[?25hDownloading ultralytics_thop-2.0.14-py3-none-any.whl (26 kB)\n",
            "Installing collected packages: nvidia-nvjitlink-cu12, nvidia-curand-cu12, nvidia-cufft-cu12, nvidia-cuda-runtime-cu12, nvidia-cuda-nvrtc-cu12, nvidia-cuda-cupti-cu12, nvidia-cublas-cu12, nvidia-cusparse-cu12, nvidia-cudnn-cu12, nvidia-cusolver-cu12, ultralytics-thop, ultralytics\n",
            "  Attempting uninstall: nvidia-nvjitlink-cu12\n",
            "    Found existing installation: nvidia-nvjitlink-cu12 12.5.82\n",
            "    Uninstalling nvidia-nvjitlink-cu12-12.5.82:\n",
            "      Successfully uninstalled nvidia-nvjitlink-cu12-12.5.82\n",
            "  Attempting uninstall: nvidia-curand-cu12\n",
            "    Found existing installation: nvidia-curand-cu12 10.3.6.82\n",
            "    Uninstalling nvidia-curand-cu12-10.3.6.82:\n",
            "      Successfully uninstalled nvidia-curand-cu12-10.3.6.82\n",
            "  Attempting uninstall: nvidia-cufft-cu12\n",
            "    Found existing installation: nvidia-cufft-cu12 11.2.3.61\n",
            "    Uninstalling nvidia-cufft-cu12-11.2.3.61:\n",
            "      Successfully uninstalled nvidia-cufft-cu12-11.2.3.61\n",
            "  Attempting uninstall: nvidia-cuda-runtime-cu12\n",
            "    Found existing installation: nvidia-cuda-runtime-cu12 12.5.82\n",
            "    Uninstalling nvidia-cuda-runtime-cu12-12.5.82:\n",
            "      Successfully uninstalled nvidia-cuda-runtime-cu12-12.5.82\n",
            "  Attempting uninstall: nvidia-cuda-nvrtc-cu12\n",
            "    Found existing installation: nvidia-cuda-nvrtc-cu12 12.5.82\n",
            "    Uninstalling nvidia-cuda-nvrtc-cu12-12.5.82:\n",
            "      Successfully uninstalled nvidia-cuda-nvrtc-cu12-12.5.82\n",
            "  Attempting uninstall: nvidia-cuda-cupti-cu12\n",
            "    Found existing installation: nvidia-cuda-cupti-cu12 12.5.82\n",
            "    Uninstalling nvidia-cuda-cupti-cu12-12.5.82:\n",
            "      Successfully uninstalled nvidia-cuda-cupti-cu12-12.5.82\n",
            "  Attempting uninstall: nvidia-cublas-cu12\n",
            "    Found existing installation: nvidia-cublas-cu12 12.5.3.2\n",
            "    Uninstalling nvidia-cublas-cu12-12.5.3.2:\n",
            "      Successfully uninstalled nvidia-cublas-cu12-12.5.3.2\n",
            "  Attempting uninstall: nvidia-cusparse-cu12\n",
            "    Found existing installation: nvidia-cusparse-cu12 12.5.1.3\n",
            "    Uninstalling nvidia-cusparse-cu12-12.5.1.3:\n",
            "      Successfully uninstalled nvidia-cusparse-cu12-12.5.1.3\n",
            "  Attempting uninstall: nvidia-cudnn-cu12\n",
            "    Found existing installation: nvidia-cudnn-cu12 9.3.0.75\n",
            "    Uninstalling nvidia-cudnn-cu12-9.3.0.75:\n",
            "      Successfully uninstalled nvidia-cudnn-cu12-9.3.0.75\n",
            "  Attempting uninstall: nvidia-cusolver-cu12\n",
            "    Found existing installation: nvidia-cusolver-cu12 11.6.3.83\n",
            "    Uninstalling nvidia-cusolver-cu12-11.6.3.83:\n",
            "      Successfully uninstalled nvidia-cusolver-cu12-11.6.3.83\n",
            "Successfully installed nvidia-cublas-cu12-12.4.5.8 nvidia-cuda-cupti-cu12-12.4.127 nvidia-cuda-nvrtc-cu12-12.4.127 nvidia-cuda-runtime-cu12-12.4.127 nvidia-cudnn-cu12-9.1.0.70 nvidia-cufft-cu12-11.2.1.3 nvidia-curand-cu12-10.3.5.147 nvidia-cusolver-cu12-11.6.1.9 nvidia-cusparse-cu12-12.3.1.170 nvidia-nvjitlink-cu12-12.4.127 ultralytics-8.3.97 ultralytics-thop-2.0.14\n"
          ]
        }
      ]
    },
    {
      "cell_type": "code",
      "source": [
        "from ultralytics import YOLO\n"
      ],
      "metadata": {
        "colab": {
          "base_uri": "https://localhost:8080/"
        },
        "id": "9xzrb2qjFYRw",
        "outputId": "b315622f-91cf-4825-b020-7dea1e486878"
      },
      "execution_count": null,
      "outputs": [
        {
          "output_type": "stream",
          "name": "stdout",
          "text": [
            "Creating new Ultralytics Settings v0.0.6 file ✅ \n",
            "View Ultralytics Settings with 'yolo settings' or at '/root/.config/Ultralytics/settings.json'\n",
            "Update Settings with 'yolo settings key=value', i.e. 'yolo settings runs_dir=path/to/dir'. For help see https://docs.ultralytics.com/quickstart/#ultralytics-settings.\n"
          ]
        }
      ]
    },
    {
      "cell_type": "code",
      "source": [
        "model = YOLO(\"yolov8s.pt\")  # Load YOLOv8 small model\n",
        "\n",
        "model.train(\n",
        "    data=\"/content/data.yaml\",\n",
        "    epochs=100,\n",
        "    batch=16,\n",
        "    imgsz=640,\n",
        "    device=\"cuda\"  # Use GPU if available\n",
        ")\n"
      ],
      "metadata": {
        "colab": {
          "base_uri": "https://localhost:8080/"
        },
        "id": "COTrMk_sFvKN",
        "outputId": "a3defd79-cf16-4757-a484-c48f2f492951"
      },
      "execution_count": null,
      "outputs": [
        {
          "output_type": "stream",
          "name": "stdout",
          "text": [
            "Ultralytics 8.3.97 🚀 Python-3.11.11 torch-2.6.0+cu124 CUDA:0 (Tesla T4, 15095MiB)\n",
            "\u001b[34m\u001b[1mengine/trainer: \u001b[0mtask=detect, mode=train, model=yolov8s.pt, data=/content/data.yaml, epochs=100, time=None, patience=100, batch=16, imgsz=640, save=True, save_period=-1, cache=False, device=cuda, workers=8, project=None, name=train2, exist_ok=False, pretrained=True, optimizer=auto, verbose=True, seed=0, deterministic=True, single_cls=False, rect=False, cos_lr=False, close_mosaic=10, resume=False, amp=True, fraction=1.0, profile=False, freeze=None, multi_scale=False, overlap_mask=True, mask_ratio=4, dropout=0.0, val=True, split=val, save_json=False, save_hybrid=False, conf=None, iou=0.7, max_det=300, half=False, dnn=False, plots=True, source=None, vid_stride=1, stream_buffer=False, visualize=False, augment=False, agnostic_nms=False, classes=None, retina_masks=False, embed=None, show=False, save_frames=False, save_txt=False, save_conf=False, save_crop=False, show_labels=True, show_conf=True, show_boxes=True, line_width=None, format=torchscript, keras=False, optimize=False, int8=False, dynamic=False, simplify=True, opset=None, workspace=None, nms=False, lr0=0.01, lrf=0.01, momentum=0.937, weight_decay=0.0005, warmup_epochs=3.0, warmup_momentum=0.8, warmup_bias_lr=0.1, box=7.5, cls=0.5, dfl=1.5, pose=12.0, kobj=1.0, nbs=64, hsv_h=0.015, hsv_s=0.7, hsv_v=0.4, degrees=0.0, translate=0.1, scale=0.5, shear=0.0, perspective=0.0, flipud=0.0, fliplr=0.5, bgr=0.0, mosaic=1.0, mixup=0.0, copy_paste=0.0, copy_paste_mode=flip, auto_augment=randaugment, erasing=0.4, crop_fraction=1.0, cfg=None, tracker=botsort.yaml, save_dir=runs/detect/train2\n",
            "Downloading https://ultralytics.com/assets/Arial.ttf to '/root/.config/Ultralytics/Arial.ttf'...\n"
          ]
        },
        {
          "output_type": "stream",
          "name": "stderr",
          "text": [
            "100%|██████████| 755k/755k [00:00<00:00, 90.2MB/s]\n"
          ]
        },
        {
          "output_type": "stream",
          "name": "stdout",
          "text": [
            "Overriding model.yaml nc=80 with nc=7\n",
            "\n",
            "                   from  n    params  module                                       arguments                     \n",
            "  0                  -1  1       928  ultralytics.nn.modules.conv.Conv             [3, 32, 3, 2]                 \n",
            "  1                  -1  1     18560  ultralytics.nn.modules.conv.Conv             [32, 64, 3, 2]                \n",
            "  2                  -1  1     29056  ultralytics.nn.modules.block.C2f             [64, 64, 1, True]             \n",
            "  3                  -1  1     73984  ultralytics.nn.modules.conv.Conv             [64, 128, 3, 2]               \n",
            "  4                  -1  2    197632  ultralytics.nn.modules.block.C2f             [128, 128, 2, True]           \n",
            "  5                  -1  1    295424  ultralytics.nn.modules.conv.Conv             [128, 256, 3, 2]              \n",
            "  6                  -1  2    788480  ultralytics.nn.modules.block.C2f             [256, 256, 2, True]           \n",
            "  7                  -1  1   1180672  ultralytics.nn.modules.conv.Conv             [256, 512, 3, 2]              \n",
            "  8                  -1  1   1838080  ultralytics.nn.modules.block.C2f             [512, 512, 1, True]           \n",
            "  9                  -1  1    656896  ultralytics.nn.modules.block.SPPF            [512, 512, 5]                 \n",
            " 10                  -1  1         0  torch.nn.modules.upsampling.Upsample         [None, 2, 'nearest']          \n",
            " 11             [-1, 6]  1         0  ultralytics.nn.modules.conv.Concat           [1]                           \n",
            " 12                  -1  1    591360  ultralytics.nn.modules.block.C2f             [768, 256, 1]                 \n",
            " 13                  -1  1         0  torch.nn.modules.upsampling.Upsample         [None, 2, 'nearest']          \n",
            " 14             [-1, 4]  1         0  ultralytics.nn.modules.conv.Concat           [1]                           \n",
            " 15                  -1  1    148224  ultralytics.nn.modules.block.C2f             [384, 128, 1]                 \n",
            " 16                  -1  1    147712  ultralytics.nn.modules.conv.Conv             [128, 128, 3, 2]              \n",
            " 17            [-1, 12]  1         0  ultralytics.nn.modules.conv.Concat           [1]                           \n",
            " 18                  -1  1    493056  ultralytics.nn.modules.block.C2f             [384, 256, 1]                 \n",
            " 19                  -1  1    590336  ultralytics.nn.modules.conv.Conv             [256, 256, 3, 2]              \n",
            " 20             [-1, 9]  1         0  ultralytics.nn.modules.conv.Concat           [1]                           \n",
            " 21                  -1  1   1969152  ultralytics.nn.modules.block.C2f             [768, 512, 1]                 \n",
            " 22        [15, 18, 21]  1   2118757  ultralytics.nn.modules.head.Detect           [7, [128, 256, 512]]          \n",
            "Model summary: 129 layers, 11,138,309 parameters, 11,138,293 gradients, 28.7 GFLOPs\n",
            "\n",
            "Transferred 349/355 items from pretrained weights\n",
            "\u001b[34m\u001b[1mTensorBoard: \u001b[0mStart with 'tensorboard --logdir runs/detect/train2', view at http://localhost:6006/\n",
            "Freezing layer 'model.22.dfl.conv.weight'\n",
            "\u001b[34m\u001b[1mAMP: \u001b[0mrunning Automatic Mixed Precision (AMP) checks...\n",
            "Downloading https://github.com/ultralytics/assets/releases/download/v8.3.0/yolo11n.pt to 'yolo11n.pt'...\n"
          ]
        },
        {
          "output_type": "stream",
          "name": "stderr",
          "text": [
            "100%|██████████| 5.35M/5.35M [00:00<00:00, 311MB/s]\n"
          ]
        },
        {
          "output_type": "stream",
          "name": "stdout",
          "text": [
            "\u001b[34m\u001b[1mAMP: \u001b[0mchecks passed ✅\n"
          ]
        },
        {
          "output_type": "stream",
          "name": "stderr",
          "text": [
            "\u001b[34m\u001b[1mtrain: \u001b[0mScanning /content/train/labels... 600 images, 0 backgrounds, 0 corrupt: 100%|██████████| 600/600 [00:00<00:00, 636.93it/s]\n"
          ]
        },
        {
          "output_type": "stream",
          "name": "stdout",
          "text": [
            "\u001b[34m\u001b[1mtrain: \u001b[0mNew cache created: /content/train/labels.cache\n",
            "\u001b[34m\u001b[1malbumentations: \u001b[0mBlur(p=0.01, blur_limit=(3, 7)), MedianBlur(p=0.01, blur_limit=(3, 7)), ToGray(p=0.01, num_output_channels=3, method='weighted_average'), CLAHE(p=0.01, clip_limit=(1.0, 4.0), tile_grid_size=(8, 8))\n"
          ]
        },
        {
          "output_type": "stream",
          "name": "stderr",
          "text": [
            "\u001b[34m\u001b[1mval: \u001b[0mScanning /content/valid/labels... 25 images, 0 backgrounds, 0 corrupt: 100%|██████████| 25/25 [00:00<00:00, 265.22it/s]"
          ]
        },
        {
          "output_type": "stream",
          "name": "stdout",
          "text": [
            "\u001b[34m\u001b[1mval: \u001b[0mNew cache created: /content/valid/labels.cache\n"
          ]
        },
        {
          "output_type": "stream",
          "name": "stderr",
          "text": [
            "\n"
          ]
        },
        {
          "output_type": "stream",
          "name": "stdout",
          "text": [
            "Plotting labels to runs/detect/train2/labels.jpg... \n",
            "\u001b[34m\u001b[1moptimizer:\u001b[0m 'optimizer=auto' found, ignoring 'lr0=0.01' and 'momentum=0.937' and determining best 'optimizer', 'lr0' and 'momentum' automatically... \n",
            "\u001b[34m\u001b[1moptimizer:\u001b[0m AdamW(lr=0.000909, momentum=0.9) with parameter groups 57 weight(decay=0.0), 64 weight(decay=0.0005), 63 bias(decay=0.0)\n",
            "\u001b[34m\u001b[1mTensorBoard: \u001b[0mmodel graph visualization added ✅\n",
            "Image sizes 640 train, 640 val\n",
            "Using 2 dataloader workers\n",
            "Logging results to \u001b[1mruns/detect/train2\u001b[0m\n",
            "Starting training for 100 epochs...\n",
            "\n",
            "      Epoch    GPU_mem   box_loss   cls_loss   dfl_loss  Instances       Size\n"
          ]
        },
        {
          "output_type": "stream",
          "name": "stderr",
          "text": [
            "      1/100       3.7G      2.052      3.053        1.7        110        640: 100%|██████████| 38/38 [00:13<00:00,  2.75it/s]\n",
            "                 Class     Images  Instances      Box(P          R      mAP50  mAP50-95): 100%|██████████| 1/1 [00:01<00:00,  1.38s/it]"
          ]
        },
        {
          "output_type": "stream",
          "name": "stdout",
          "text": [
            "                   all         25        195      0.847      0.621      0.689      0.327\n"
          ]
        },
        {
          "output_type": "stream",
          "name": "stderr",
          "text": [
            "\n"
          ]
        },
        {
          "output_type": "stream",
          "name": "stdout",
          "text": [
            "\n",
            "      Epoch    GPU_mem   box_loss   cls_loss   dfl_loss  Instances       Size\n"
          ]
        },
        {
          "output_type": "stream",
          "name": "stderr",
          "text": [
            "      2/100      4.33G      1.777      1.324      1.444        106        640: 100%|██████████| 38/38 [00:11<00:00,  3.29it/s]\n",
            "                 Class     Images  Instances      Box(P          R      mAP50  mAP50-95): 100%|██████████| 1/1 [00:00<00:00,  3.26it/s]"
          ]
        },
        {
          "output_type": "stream",
          "name": "stdout",
          "text": [
            "                   all         25        195      0.613      0.653      0.673       0.35\n"
          ]
        },
        {
          "output_type": "stream",
          "name": "stderr",
          "text": [
            "\n"
          ]
        },
        {
          "output_type": "stream",
          "name": "stdout",
          "text": [
            "\n",
            "      Epoch    GPU_mem   box_loss   cls_loss   dfl_loss  Instances       Size\n"
          ]
        },
        {
          "output_type": "stream",
          "name": "stderr",
          "text": [
            "      3/100      4.37G      1.714       1.15      1.444         98        640: 100%|██████████| 38/38 [00:11<00:00,  3.27it/s]\n",
            "                 Class     Images  Instances      Box(P          R      mAP50  mAP50-95): 100%|██████████| 1/1 [00:00<00:00,  2.86it/s]"
          ]
        },
        {
          "output_type": "stream",
          "name": "stdout",
          "text": [
            "                   all         25        195      0.753      0.558      0.637      0.296\n"
          ]
        },
        {
          "output_type": "stream",
          "name": "stderr",
          "text": [
            "\n"
          ]
        },
        {
          "output_type": "stream",
          "name": "stdout",
          "text": [
            "\n",
            "      Epoch    GPU_mem   box_loss   cls_loss   dfl_loss  Instances       Size\n"
          ]
        },
        {
          "output_type": "stream",
          "name": "stderr",
          "text": [
            "      4/100      4.41G      1.701      1.073      1.427         92        640: 100%|██████████| 38/38 [00:11<00:00,  3.34it/s]\n",
            "                 Class     Images  Instances      Box(P          R      mAP50  mAP50-95): 100%|██████████| 1/1 [00:00<00:00,  3.55it/s]"
          ]
        },
        {
          "output_type": "stream",
          "name": "stdout",
          "text": [
            "                   all         25        195      0.763      0.633      0.704      0.353\n"
          ]
        },
        {
          "output_type": "stream",
          "name": "stderr",
          "text": [
            "\n"
          ]
        },
        {
          "output_type": "stream",
          "name": "stdout",
          "text": [
            "\n",
            "      Epoch    GPU_mem   box_loss   cls_loss   dfl_loss  Instances       Size\n"
          ]
        },
        {
          "output_type": "stream",
          "name": "stderr",
          "text": [
            "      5/100      4.44G      1.665      1.006      1.406         81        640: 100%|██████████| 38/38 [00:11<00:00,  3.31it/s]\n",
            "                 Class     Images  Instances      Box(P          R      mAP50  mAP50-95): 100%|██████████| 1/1 [00:00<00:00,  3.32it/s]"
          ]
        },
        {
          "output_type": "stream",
          "name": "stdout",
          "text": [
            "                   all         25        195      0.725      0.785      0.794      0.398\n"
          ]
        },
        {
          "output_type": "stream",
          "name": "stderr",
          "text": [
            "\n"
          ]
        },
        {
          "output_type": "stream",
          "name": "stdout",
          "text": [
            "\n",
            "      Epoch    GPU_mem   box_loss   cls_loss   dfl_loss  Instances       Size\n"
          ]
        },
        {
          "output_type": "stream",
          "name": "stderr",
          "text": [
            "      6/100      4.48G      1.623     0.9492      1.363        142        640: 100%|██████████| 38/38 [00:11<00:00,  3.32it/s]\n",
            "                 Class     Images  Instances      Box(P          R      mAP50  mAP50-95): 100%|██████████| 1/1 [00:00<00:00,  3.18it/s]"
          ]
        },
        {
          "output_type": "stream",
          "name": "stdout",
          "text": [
            "                   all         25        195      0.713      0.756      0.767      0.395\n"
          ]
        },
        {
          "output_type": "stream",
          "name": "stderr",
          "text": [
            "\n"
          ]
        },
        {
          "output_type": "stream",
          "name": "stdout",
          "text": [
            "\n",
            "      Epoch    GPU_mem   box_loss   cls_loss   dfl_loss  Instances       Size\n"
          ]
        },
        {
          "output_type": "stream",
          "name": "stderr",
          "text": [
            "      7/100      4.51G       1.62     0.9535       1.38        108        640: 100%|██████████| 38/38 [00:11<00:00,  3.26it/s]\n",
            "                 Class     Images  Instances      Box(P          R      mAP50  mAP50-95): 100%|██████████| 1/1 [00:00<00:00,  3.17it/s]"
          ]
        },
        {
          "output_type": "stream",
          "name": "stdout",
          "text": [
            "                   all         25        195      0.812      0.746      0.795      0.407\n"
          ]
        },
        {
          "output_type": "stream",
          "name": "stderr",
          "text": [
            "\n"
          ]
        },
        {
          "output_type": "stream",
          "name": "stdout",
          "text": [
            "\n",
            "      Epoch    GPU_mem   box_loss   cls_loss   dfl_loss  Instances       Size\n"
          ]
        },
        {
          "output_type": "stream",
          "name": "stderr",
          "text": [
            "      8/100      4.55G       1.64     0.9409      1.383         82        640: 100%|██████████| 38/38 [00:11<00:00,  3.27it/s]\n",
            "                 Class     Images  Instances      Box(P          R      mAP50  mAP50-95): 100%|██████████| 1/1 [00:00<00:00,  3.42it/s]"
          ]
        },
        {
          "output_type": "stream",
          "name": "stdout",
          "text": [
            "                   all         25        195      0.783      0.783      0.811      0.426\n"
          ]
        },
        {
          "output_type": "stream",
          "name": "stderr",
          "text": [
            "\n"
          ]
        },
        {
          "output_type": "stream",
          "name": "stdout",
          "text": [
            "\n",
            "      Epoch    GPU_mem   box_loss   cls_loss   dfl_loss  Instances       Size\n"
          ]
        },
        {
          "output_type": "stream",
          "name": "stderr",
          "text": [
            "      9/100      4.58G      1.639     0.9133      1.412         99        640: 100%|██████████| 38/38 [00:11<00:00,  3.23it/s]\n",
            "                 Class     Images  Instances      Box(P          R      mAP50  mAP50-95): 100%|██████████| 1/1 [00:00<00:00,  2.67it/s]"
          ]
        },
        {
          "output_type": "stream",
          "name": "stdout",
          "text": [
            "                   all         25        195      0.862      0.812      0.863      0.471\n"
          ]
        },
        {
          "output_type": "stream",
          "name": "stderr",
          "text": [
            "\n"
          ]
        },
        {
          "output_type": "stream",
          "name": "stdout",
          "text": [
            "\n",
            "      Epoch    GPU_mem   box_loss   cls_loss   dfl_loss  Instances       Size\n"
          ]
        },
        {
          "output_type": "stream",
          "name": "stderr",
          "text": [
            "     10/100      4.62G      1.574     0.8723      1.359        140        640: 100%|██████████| 38/38 [00:11<00:00,  3.19it/s]\n",
            "                 Class     Images  Instances      Box(P          R      mAP50  mAP50-95): 100%|██████████| 1/1 [00:00<00:00,  2.95it/s]"
          ]
        },
        {
          "output_type": "stream",
          "name": "stdout",
          "text": [
            "                   all         25        195      0.793      0.831      0.849      0.435\n"
          ]
        },
        {
          "output_type": "stream",
          "name": "stderr",
          "text": [
            "\n"
          ]
        },
        {
          "output_type": "stream",
          "name": "stdout",
          "text": [
            "\n",
            "      Epoch    GPU_mem   box_loss   cls_loss   dfl_loss  Instances       Size\n"
          ]
        },
        {
          "output_type": "stream",
          "name": "stderr",
          "text": [
            "     11/100      4.66G      1.578     0.8761      1.365        116        640: 100%|██████████| 38/38 [00:11<00:00,  3.23it/s]\n",
            "                 Class     Images  Instances      Box(P          R      mAP50  mAP50-95): 100%|██████████| 1/1 [00:00<00:00,  3.17it/s]"
          ]
        },
        {
          "output_type": "stream",
          "name": "stdout",
          "text": [
            "                   all         25        195      0.886      0.888      0.898      0.451\n"
          ]
        },
        {
          "output_type": "stream",
          "name": "stderr",
          "text": [
            "\n"
          ]
        },
        {
          "output_type": "stream",
          "name": "stdout",
          "text": [
            "\n",
            "      Epoch    GPU_mem   box_loss   cls_loss   dfl_loss  Instances       Size\n"
          ]
        },
        {
          "output_type": "stream",
          "name": "stderr",
          "text": [
            "     12/100       4.7G      1.521     0.8324      1.316        108        640: 100%|██████████| 38/38 [00:11<00:00,  3.22it/s]\n",
            "                 Class     Images  Instances      Box(P          R      mAP50  mAP50-95): 100%|██████████| 1/1 [00:00<00:00,  3.24it/s]"
          ]
        },
        {
          "output_type": "stream",
          "name": "stdout",
          "text": [
            "                   all         25        195      0.858      0.844      0.891      0.452\n"
          ]
        },
        {
          "output_type": "stream",
          "name": "stderr",
          "text": [
            "\n"
          ]
        },
        {
          "output_type": "stream",
          "name": "stdout",
          "text": [
            "\n",
            "      Epoch    GPU_mem   box_loss   cls_loss   dfl_loss  Instances       Size\n"
          ]
        },
        {
          "output_type": "stream",
          "name": "stderr",
          "text": [
            "     13/100      4.73G      1.511     0.8179      1.328        100        640: 100%|██████████| 38/38 [00:11<00:00,  3.31it/s]\n",
            "                 Class     Images  Instances      Box(P          R      mAP50  mAP50-95): 100%|██████████| 1/1 [00:00<00:00,  2.99it/s]"
          ]
        },
        {
          "output_type": "stream",
          "name": "stdout",
          "text": [
            "                   all         25        195      0.867       0.86      0.894      0.466\n"
          ]
        },
        {
          "output_type": "stream",
          "name": "stderr",
          "text": [
            "\n"
          ]
        },
        {
          "output_type": "stream",
          "name": "stdout",
          "text": [
            "\n",
            "      Epoch    GPU_mem   box_loss   cls_loss   dfl_loss  Instances       Size\n"
          ]
        },
        {
          "output_type": "stream",
          "name": "stderr",
          "text": [
            "     14/100      4.77G      1.533     0.8286      1.347        105        640: 100%|██████████| 38/38 [00:11<00:00,  3.31it/s]\n",
            "                 Class     Images  Instances      Box(P          R      mAP50  mAP50-95): 100%|██████████| 1/1 [00:00<00:00,  3.05it/s]"
          ]
        },
        {
          "output_type": "stream",
          "name": "stdout",
          "text": [
            "                   all         25        195      0.892      0.855       0.88      0.463\n"
          ]
        },
        {
          "output_type": "stream",
          "name": "stderr",
          "text": [
            "\n"
          ]
        },
        {
          "output_type": "stream",
          "name": "stdout",
          "text": [
            "\n",
            "      Epoch    GPU_mem   box_loss   cls_loss   dfl_loss  Instances       Size\n"
          ]
        },
        {
          "output_type": "stream",
          "name": "stderr",
          "text": [
            "     15/100       4.8G      1.548     0.8231      1.343         85        640: 100%|██████████| 38/38 [00:11<00:00,  3.29it/s]\n",
            "                 Class     Images  Instances      Box(P          R      mAP50  mAP50-95): 100%|██████████| 1/1 [00:00<00:00,  3.77it/s]"
          ]
        },
        {
          "output_type": "stream",
          "name": "stdout",
          "text": [
            "                   all         25        195      0.825      0.855      0.888      0.468\n"
          ]
        },
        {
          "output_type": "stream",
          "name": "stderr",
          "text": [
            "\n"
          ]
        },
        {
          "output_type": "stream",
          "name": "stdout",
          "text": [
            "\n",
            "      Epoch    GPU_mem   box_loss   cls_loss   dfl_loss  Instances       Size\n"
          ]
        },
        {
          "output_type": "stream",
          "name": "stderr",
          "text": [
            "     16/100      4.84G       1.51     0.7863      1.317        100        640: 100%|██████████| 38/38 [00:11<00:00,  3.29it/s]\n",
            "                 Class     Images  Instances      Box(P          R      mAP50  mAP50-95): 100%|██████████| 1/1 [00:00<00:00,  3.95it/s]"
          ]
        },
        {
          "output_type": "stream",
          "name": "stdout",
          "text": [
            "                   all         25        195       0.88      0.841      0.894      0.474\n"
          ]
        },
        {
          "output_type": "stream",
          "name": "stderr",
          "text": [
            "\n"
          ]
        },
        {
          "output_type": "stream",
          "name": "stdout",
          "text": [
            "\n",
            "      Epoch    GPU_mem   box_loss   cls_loss   dfl_loss  Instances       Size\n"
          ]
        },
        {
          "output_type": "stream",
          "name": "stderr",
          "text": [
            "     17/100      4.88G       1.46     0.7673      1.293        158        640: 100%|██████████| 38/38 [00:11<00:00,  3.27it/s]\n",
            "                 Class     Images  Instances      Box(P          R      mAP50  mAP50-95): 100%|██████████| 1/1 [00:00<00:00,  3.26it/s]"
          ]
        },
        {
          "output_type": "stream",
          "name": "stdout",
          "text": [
            "                   all         25        195      0.793      0.816      0.843      0.441\n"
          ]
        },
        {
          "output_type": "stream",
          "name": "stderr",
          "text": [
            "\n"
          ]
        },
        {
          "output_type": "stream",
          "name": "stdout",
          "text": [
            "\n",
            "      Epoch    GPU_mem   box_loss   cls_loss   dfl_loss  Instances       Size\n"
          ]
        },
        {
          "output_type": "stream",
          "name": "stderr",
          "text": [
            "     18/100      4.92G      1.469     0.7852      1.302         69        640: 100%|██████████| 38/38 [00:11<00:00,  3.29it/s]\n",
            "                 Class     Images  Instances      Box(P          R      mAP50  mAP50-95): 100%|██████████| 1/1 [00:00<00:00,  2.85it/s]"
          ]
        },
        {
          "output_type": "stream",
          "name": "stdout",
          "text": [
            "                   all         25        195      0.824      0.882      0.873      0.464\n"
          ]
        },
        {
          "output_type": "stream",
          "name": "stderr",
          "text": [
            "\n"
          ]
        },
        {
          "output_type": "stream",
          "name": "stdout",
          "text": [
            "\n",
            "      Epoch    GPU_mem   box_loss   cls_loss   dfl_loss  Instances       Size\n"
          ]
        },
        {
          "output_type": "stream",
          "name": "stderr",
          "text": [
            "     19/100      4.95G      1.459     0.7643      1.292         75        640: 100%|██████████| 38/38 [00:11<00:00,  3.23it/s]\n",
            "                 Class     Images  Instances      Box(P          R      mAP50  mAP50-95): 100%|██████████| 1/1 [00:00<00:00,  2.69it/s]"
          ]
        },
        {
          "output_type": "stream",
          "name": "stdout",
          "text": [
            "                   all         25        195      0.841      0.905      0.897      0.458\n"
          ]
        },
        {
          "output_type": "stream",
          "name": "stderr",
          "text": [
            "\n"
          ]
        },
        {
          "output_type": "stream",
          "name": "stdout",
          "text": [
            "\n",
            "      Epoch    GPU_mem   box_loss   cls_loss   dfl_loss  Instances       Size\n"
          ]
        },
        {
          "output_type": "stream",
          "name": "stderr",
          "text": [
            "     20/100      4.99G      1.425     0.7389      1.276        142        640: 100%|██████████| 38/38 [00:11<00:00,  3.33it/s]\n",
            "                 Class     Images  Instances      Box(P          R      mAP50  mAP50-95): 100%|██████████| 1/1 [00:00<00:00,  2.55it/s]"
          ]
        },
        {
          "output_type": "stream",
          "name": "stdout",
          "text": [
            "                   all         25        195       0.88      0.889      0.894      0.483\n"
          ]
        },
        {
          "output_type": "stream",
          "name": "stderr",
          "text": [
            "\n"
          ]
        },
        {
          "output_type": "stream",
          "name": "stdout",
          "text": [
            "\n",
            "      Epoch    GPU_mem   box_loss   cls_loss   dfl_loss  Instances       Size\n"
          ]
        },
        {
          "output_type": "stream",
          "name": "stderr",
          "text": [
            "     21/100      5.02G      1.437     0.7568      1.286        102        640: 100%|██████████| 38/38 [00:11<00:00,  3.29it/s]\n",
            "                 Class     Images  Instances      Box(P          R      mAP50  mAP50-95): 100%|██████████| 1/1 [00:00<00:00,  2.72it/s]"
          ]
        },
        {
          "output_type": "stream",
          "name": "stdout",
          "text": [
            "                   all         25        195      0.841      0.865      0.887      0.477\n"
          ]
        },
        {
          "output_type": "stream",
          "name": "stderr",
          "text": [
            "\n"
          ]
        },
        {
          "output_type": "stream",
          "name": "stdout",
          "text": [
            "\n",
            "      Epoch    GPU_mem   box_loss   cls_loss   dfl_loss  Instances       Size\n"
          ]
        },
        {
          "output_type": "stream",
          "name": "stderr",
          "text": [
            "     22/100      5.06G      1.414     0.7363      1.273        105        640: 100%|██████████| 38/38 [00:11<00:00,  3.32it/s]\n",
            "                 Class     Images  Instances      Box(P          R      mAP50  mAP50-95): 100%|██████████| 1/1 [00:00<00:00,  1.81it/s]"
          ]
        },
        {
          "output_type": "stream",
          "name": "stdout",
          "text": [
            "                   all         25        195      0.883      0.874      0.896      0.485\n"
          ]
        },
        {
          "output_type": "stream",
          "name": "stderr",
          "text": [
            "\n"
          ]
        },
        {
          "output_type": "stream",
          "name": "stdout",
          "text": [
            "\n",
            "      Epoch    GPU_mem   box_loss   cls_loss   dfl_loss  Instances       Size\n"
          ]
        },
        {
          "output_type": "stream",
          "name": "stderr",
          "text": [
            "     23/100      5.09G      1.423     0.7298      1.279        125        640: 100%|██████████| 38/38 [00:11<00:00,  3.37it/s]\n",
            "                 Class     Images  Instances      Box(P          R      mAP50  mAP50-95): 100%|██████████| 1/1 [00:00<00:00,  1.90it/s]"
          ]
        },
        {
          "output_type": "stream",
          "name": "stdout",
          "text": [
            "                   all         25        195      0.843      0.882      0.888      0.466\n"
          ]
        },
        {
          "output_type": "stream",
          "name": "stderr",
          "text": [
            "\n"
          ]
        },
        {
          "output_type": "stream",
          "name": "stdout",
          "text": [
            "\n",
            "      Epoch    GPU_mem   box_loss   cls_loss   dfl_loss  Instances       Size\n"
          ]
        },
        {
          "output_type": "stream",
          "name": "stderr",
          "text": [
            "     24/100      5.13G      1.405     0.7328      1.276        128        640: 100%|██████████| 38/38 [00:11<00:00,  3.43it/s]\n",
            "                 Class     Images  Instances      Box(P          R      mAP50  mAP50-95): 100%|██████████| 1/1 [00:00<00:00,  1.66it/s]"
          ]
        },
        {
          "output_type": "stream",
          "name": "stdout",
          "text": [
            "                   all         25        195       0.84      0.888      0.884      0.472\n"
          ]
        },
        {
          "output_type": "stream",
          "name": "stderr",
          "text": [
            "\n"
          ]
        },
        {
          "output_type": "stream",
          "name": "stdout",
          "text": [
            "\n",
            "      Epoch    GPU_mem   box_loss   cls_loss   dfl_loss  Instances       Size\n"
          ]
        },
        {
          "output_type": "stream",
          "name": "stderr",
          "text": [
            "     25/100      5.17G       1.39     0.7127      1.259         88        640: 100%|██████████| 38/38 [00:11<00:00,  3.43it/s]\n",
            "                 Class     Images  Instances      Box(P          R      mAP50  mAP50-95): 100%|██████████| 1/1 [00:00<00:00,  2.04it/s]"
          ]
        },
        {
          "output_type": "stream",
          "name": "stdout",
          "text": [
            "                   all         25        195      0.878      0.877      0.879      0.464\n"
          ]
        },
        {
          "output_type": "stream",
          "name": "stderr",
          "text": [
            "\n"
          ]
        },
        {
          "output_type": "stream",
          "name": "stdout",
          "text": [
            "\n",
            "      Epoch    GPU_mem   box_loss   cls_loss   dfl_loss  Instances       Size\n"
          ]
        },
        {
          "output_type": "stream",
          "name": "stderr",
          "text": [
            "     26/100      5.21G      1.395     0.7161      1.251         78        640: 100%|██████████| 38/38 [00:11<00:00,  3.40it/s]\n",
            "                 Class     Images  Instances      Box(P          R      mAP50  mAP50-95): 100%|██████████| 1/1 [00:00<00:00,  1.91it/s]"
          ]
        },
        {
          "output_type": "stream",
          "name": "stdout",
          "text": [
            "                   all         25        195      0.883        0.9      0.907      0.481\n"
          ]
        },
        {
          "output_type": "stream",
          "name": "stderr",
          "text": [
            "\n"
          ]
        },
        {
          "output_type": "stream",
          "name": "stdout",
          "text": [
            "\n",
            "      Epoch    GPU_mem   box_loss   cls_loss   dfl_loss  Instances       Size\n"
          ]
        },
        {
          "output_type": "stream",
          "name": "stderr",
          "text": [
            "     27/100      5.24G      1.394     0.7128      1.258        139        640: 100%|██████████| 38/38 [00:11<00:00,  3.34it/s]\n",
            "                 Class     Images  Instances      Box(P          R      mAP50  mAP50-95): 100%|██████████| 1/1 [00:00<00:00,  1.83it/s]"
          ]
        },
        {
          "output_type": "stream",
          "name": "stdout",
          "text": [
            "                   all         25        195      0.824      0.891      0.883       0.47\n"
          ]
        },
        {
          "output_type": "stream",
          "name": "stderr",
          "text": [
            "\n"
          ]
        },
        {
          "output_type": "stream",
          "name": "stdout",
          "text": [
            "\n",
            "      Epoch    GPU_mem   box_loss   cls_loss   dfl_loss  Instances       Size\n"
          ]
        },
        {
          "output_type": "stream",
          "name": "stderr",
          "text": [
            "     28/100      5.35G      1.368     0.6986      1.239        141        640: 100%|██████████| 38/38 [00:11<00:00,  3.45it/s]\n",
            "                 Class     Images  Instances      Box(P          R      mAP50  mAP50-95): 100%|██████████| 1/1 [00:00<00:00,  1.84it/s]"
          ]
        },
        {
          "output_type": "stream",
          "name": "stdout",
          "text": [
            "                   all         25        195      0.867      0.894      0.901      0.472\n"
          ]
        },
        {
          "output_type": "stream",
          "name": "stderr",
          "text": [
            "\n"
          ]
        },
        {
          "output_type": "stream",
          "name": "stdout",
          "text": [
            "\n",
            "      Epoch    GPU_mem   box_loss   cls_loss   dfl_loss  Instances       Size\n"
          ]
        },
        {
          "output_type": "stream",
          "name": "stderr",
          "text": [
            "     29/100      5.39G      1.364     0.6971      1.249         76        640: 100%|██████████| 38/38 [00:10<00:00,  3.49it/s]\n",
            "                 Class     Images  Instances      Box(P          R      mAP50  mAP50-95): 100%|██████████| 1/1 [00:00<00:00,  1.86it/s]"
          ]
        },
        {
          "output_type": "stream",
          "name": "stdout",
          "text": [
            "                   all         25        195      0.881      0.896      0.903      0.475\n"
          ]
        },
        {
          "output_type": "stream",
          "name": "stderr",
          "text": [
            "\n"
          ]
        },
        {
          "output_type": "stream",
          "name": "stdout",
          "text": [
            "\n",
            "      Epoch    GPU_mem   box_loss   cls_loss   dfl_loss  Instances       Size\n"
          ]
        },
        {
          "output_type": "stream",
          "name": "stderr",
          "text": [
            "     30/100      5.43G      1.333     0.6726      1.212        114        640: 100%|██████████| 38/38 [00:11<00:00,  3.44it/s]\n",
            "                 Class     Images  Instances      Box(P          R      mAP50  mAP50-95): 100%|██████████| 1/1 [00:00<00:00,  2.26it/s]"
          ]
        },
        {
          "output_type": "stream",
          "name": "stdout",
          "text": [
            "                   all         25        195      0.883      0.873      0.897      0.475\n"
          ]
        },
        {
          "output_type": "stream",
          "name": "stderr",
          "text": [
            "\n"
          ]
        },
        {
          "output_type": "stream",
          "name": "stdout",
          "text": [
            "\n",
            "      Epoch    GPU_mem   box_loss   cls_loss   dfl_loss  Instances       Size\n"
          ]
        },
        {
          "output_type": "stream",
          "name": "stderr",
          "text": [
            "     31/100      5.54G      1.327     0.6667      1.224         72        640: 100%|██████████| 38/38 [00:11<00:00,  3.41it/s]\n",
            "                 Class     Images  Instances      Box(P          R      mAP50  mAP50-95): 100%|██████████| 1/1 [00:00<00:00,  2.37it/s]"
          ]
        },
        {
          "output_type": "stream",
          "name": "stdout",
          "text": [
            "                   all         25        195      0.855      0.868      0.882      0.464\n"
          ]
        },
        {
          "output_type": "stream",
          "name": "stderr",
          "text": [
            "\n"
          ]
        },
        {
          "output_type": "stream",
          "name": "stdout",
          "text": [
            "\n",
            "      Epoch    GPU_mem   box_loss   cls_loss   dfl_loss  Instances       Size\n"
          ]
        },
        {
          "output_type": "stream",
          "name": "stderr",
          "text": [
            "     32/100      5.58G      1.345     0.6728      1.238         81        640: 100%|██████████| 38/38 [00:11<00:00,  3.32it/s]\n",
            "                 Class     Images  Instances      Box(P          R      mAP50  mAP50-95): 100%|██████████| 1/1 [00:00<00:00,  3.40it/s]"
          ]
        },
        {
          "output_type": "stream",
          "name": "stdout",
          "text": [
            "                   all         25        195      0.872      0.873      0.889      0.476\n"
          ]
        },
        {
          "output_type": "stream",
          "name": "stderr",
          "text": [
            "\n"
          ]
        },
        {
          "output_type": "stream",
          "name": "stdout",
          "text": [
            "\n",
            "      Epoch    GPU_mem   box_loss   cls_loss   dfl_loss  Instances       Size\n"
          ]
        },
        {
          "output_type": "stream",
          "name": "stderr",
          "text": [
            "     33/100      5.61G      1.355     0.6673      1.232         89        640: 100%|██████████| 38/38 [00:11<00:00,  3.33it/s]\n",
            "                 Class     Images  Instances      Box(P          R      mAP50  mAP50-95): 100%|██████████| 1/1 [00:00<00:00,  3.37it/s]"
          ]
        },
        {
          "output_type": "stream",
          "name": "stdout",
          "text": [
            "                   all         25        195      0.901      0.887      0.899      0.495\n"
          ]
        },
        {
          "output_type": "stream",
          "name": "stderr",
          "text": [
            "\n"
          ]
        },
        {
          "output_type": "stream",
          "name": "stdout",
          "text": [
            "\n",
            "      Epoch    GPU_mem   box_loss   cls_loss   dfl_loss  Instances       Size\n"
          ]
        },
        {
          "output_type": "stream",
          "name": "stderr",
          "text": [
            "     34/100      5.72G      1.323     0.6627      1.217        170        640: 100%|██████████| 38/38 [00:11<00:00,  3.26it/s]\n",
            "                 Class     Images  Instances      Box(P          R      mAP50  mAP50-95): 100%|██████████| 1/1 [00:00<00:00,  3.19it/s]"
          ]
        },
        {
          "output_type": "stream",
          "name": "stdout",
          "text": [
            "                   all         25        195      0.906       0.89      0.927      0.484\n"
          ]
        },
        {
          "output_type": "stream",
          "name": "stderr",
          "text": [
            "\n"
          ]
        },
        {
          "output_type": "stream",
          "name": "stdout",
          "text": [
            "\n",
            "      Epoch    GPU_mem   box_loss   cls_loss   dfl_loss  Instances       Size\n"
          ]
        },
        {
          "output_type": "stream",
          "name": "stderr",
          "text": [
            "     35/100         6G        1.3     0.6555      1.214         89        640: 100%|██████████| 38/38 [00:11<00:00,  3.23it/s]\n",
            "                 Class     Images  Instances      Box(P          R      mAP50  mAP50-95): 100%|██████████| 1/1 [00:00<00:00,  3.22it/s]"
          ]
        },
        {
          "output_type": "stream",
          "name": "stdout",
          "text": [
            "                   all         25        195      0.878       0.88      0.911      0.475\n"
          ]
        },
        {
          "output_type": "stream",
          "name": "stderr",
          "text": [
            "\n"
          ]
        },
        {
          "output_type": "stream",
          "name": "stdout",
          "text": [
            "\n",
            "      Epoch    GPU_mem   box_loss   cls_loss   dfl_loss  Instances       Size\n"
          ]
        },
        {
          "output_type": "stream",
          "name": "stderr",
          "text": [
            "     36/100      6.04G      1.285     0.6439      1.208         85        640: 100%|██████████| 38/38 [00:11<00:00,  3.28it/s]\n",
            "                 Class     Images  Instances      Box(P          R      mAP50  mAP50-95): 100%|██████████| 1/1 [00:00<00:00,  2.90it/s]"
          ]
        },
        {
          "output_type": "stream",
          "name": "stdout",
          "text": [
            "                   all         25        195      0.848      0.884      0.909      0.487\n"
          ]
        },
        {
          "output_type": "stream",
          "name": "stderr",
          "text": [
            "\n"
          ]
        },
        {
          "output_type": "stream",
          "name": "stdout",
          "text": [
            "\n",
            "      Epoch    GPU_mem   box_loss   cls_loss   dfl_loss  Instances       Size\n"
          ]
        },
        {
          "output_type": "stream",
          "name": "stderr",
          "text": [
            "     37/100      6.08G       1.28     0.6322      1.207        112        640: 100%|██████████| 38/38 [00:11<00:00,  3.28it/s]\n",
            "                 Class     Images  Instances      Box(P          R      mAP50  mAP50-95): 100%|██████████| 1/1 [00:00<00:00,  2.89it/s]"
          ]
        },
        {
          "output_type": "stream",
          "name": "stdout",
          "text": [
            "                   all         25        195      0.898      0.877      0.901      0.497\n"
          ]
        },
        {
          "output_type": "stream",
          "name": "stderr",
          "text": [
            "\n"
          ]
        },
        {
          "output_type": "stream",
          "name": "stdout",
          "text": [
            "\n",
            "      Epoch    GPU_mem   box_loss   cls_loss   dfl_loss  Instances       Size\n"
          ]
        },
        {
          "output_type": "stream",
          "name": "stderr",
          "text": [
            "     38/100      6.12G      1.274     0.6309       1.19         70        640: 100%|██████████| 38/38 [00:11<00:00,  3.22it/s]\n",
            "                 Class     Images  Instances      Box(P          R      mAP50  mAP50-95): 100%|██████████| 1/1 [00:00<00:00,  3.72it/s]"
          ]
        },
        {
          "output_type": "stream",
          "name": "stdout",
          "text": [
            "                   all         25        195       0.88       0.88      0.899      0.491\n"
          ]
        },
        {
          "output_type": "stream",
          "name": "stderr",
          "text": [
            "\n"
          ]
        },
        {
          "output_type": "stream",
          "name": "stdout",
          "text": [
            "\n",
            "      Epoch    GPU_mem   box_loss   cls_loss   dfl_loss  Instances       Size\n"
          ]
        },
        {
          "output_type": "stream",
          "name": "stderr",
          "text": [
            "     39/100      6.15G      1.251     0.6345      1.191         91        640: 100%|██████████| 38/38 [00:11<00:00,  3.22it/s]\n",
            "                 Class     Images  Instances      Box(P          R      mAP50  mAP50-95): 100%|██████████| 1/1 [00:00<00:00,  3.24it/s]"
          ]
        },
        {
          "output_type": "stream",
          "name": "stdout",
          "text": [
            "                   all         25        195      0.888      0.873      0.903      0.486\n"
          ]
        },
        {
          "output_type": "stream",
          "name": "stderr",
          "text": [
            "\n"
          ]
        },
        {
          "output_type": "stream",
          "name": "stdout",
          "text": [
            "\n",
            "      Epoch    GPU_mem   box_loss   cls_loss   dfl_loss  Instances       Size\n"
          ]
        },
        {
          "output_type": "stream",
          "name": "stderr",
          "text": [
            "     40/100      6.19G      1.239     0.6144      1.175         44        640: 100%|██████████| 38/38 [00:11<00:00,  3.29it/s]\n",
            "                 Class     Images  Instances      Box(P          R      mAP50  mAP50-95): 100%|██████████| 1/1 [00:00<00:00,  3.08it/s]"
          ]
        },
        {
          "output_type": "stream",
          "name": "stdout",
          "text": [
            "                   all         25        195      0.893      0.855      0.896      0.496\n"
          ]
        },
        {
          "output_type": "stream",
          "name": "stderr",
          "text": [
            "\n"
          ]
        },
        {
          "output_type": "stream",
          "name": "stdout",
          "text": [
            "\n",
            "      Epoch    GPU_mem   box_loss   cls_loss   dfl_loss  Instances       Size\n"
          ]
        },
        {
          "output_type": "stream",
          "name": "stderr",
          "text": [
            "     41/100      6.22G      1.246     0.6276      1.187         85        640: 100%|██████████| 38/38 [00:11<00:00,  3.26it/s]\n",
            "                 Class     Images  Instances      Box(P          R      mAP50  mAP50-95): 100%|██████████| 1/1 [00:00<00:00,  3.20it/s]"
          ]
        },
        {
          "output_type": "stream",
          "name": "stdout",
          "text": [
            "                   all         25        195       0.88       0.92      0.911      0.461\n"
          ]
        },
        {
          "output_type": "stream",
          "name": "stderr",
          "text": [
            "\n"
          ]
        },
        {
          "output_type": "stream",
          "name": "stdout",
          "text": [
            "\n",
            "      Epoch    GPU_mem   box_loss   cls_loss   dfl_loss  Instances       Size\n"
          ]
        },
        {
          "output_type": "stream",
          "name": "stderr",
          "text": [
            "     42/100      6.26G      1.239     0.6208      1.176         99        640: 100%|██████████| 38/38 [00:11<00:00,  3.31it/s]\n",
            "                 Class     Images  Instances      Box(P          R      mAP50  mAP50-95): 100%|██████████| 1/1 [00:00<00:00,  3.28it/s]"
          ]
        },
        {
          "output_type": "stream",
          "name": "stdout",
          "text": [
            "                   all         25        195      0.893      0.903       0.91      0.472\n"
          ]
        },
        {
          "output_type": "stream",
          "name": "stderr",
          "text": [
            "\n"
          ]
        },
        {
          "output_type": "stream",
          "name": "stdout",
          "text": [
            "\n",
            "      Epoch    GPU_mem   box_loss   cls_loss   dfl_loss  Instances       Size\n"
          ]
        },
        {
          "output_type": "stream",
          "name": "stderr",
          "text": [
            "     43/100      6.29G      1.216     0.6083      1.161        102        640: 100%|██████████| 38/38 [00:11<00:00,  3.28it/s]\n",
            "                 Class     Images  Instances      Box(P          R      mAP50  mAP50-95): 100%|██████████| 1/1 [00:00<00:00,  3.73it/s]"
          ]
        },
        {
          "output_type": "stream",
          "name": "stdout",
          "text": [
            "                   all         25        195      0.896      0.903      0.918      0.497\n"
          ]
        },
        {
          "output_type": "stream",
          "name": "stderr",
          "text": [
            "\n"
          ]
        },
        {
          "output_type": "stream",
          "name": "stdout",
          "text": [
            "\n",
            "      Epoch    GPU_mem   box_loss   cls_loss   dfl_loss  Instances       Size\n"
          ]
        },
        {
          "output_type": "stream",
          "name": "stderr",
          "text": [
            "     44/100      6.33G      1.224      0.623      1.181        112        640: 100%|██████████| 38/38 [00:11<00:00,  3.29it/s]\n",
            "                 Class     Images  Instances      Box(P          R      mAP50  mAP50-95): 100%|██████████| 1/1 [00:00<00:00,  3.68it/s]"
          ]
        },
        {
          "output_type": "stream",
          "name": "stdout",
          "text": [
            "                   all         25        195      0.881      0.902      0.874      0.481\n"
          ]
        },
        {
          "output_type": "stream",
          "name": "stderr",
          "text": [
            "\n"
          ]
        },
        {
          "output_type": "stream",
          "name": "stdout",
          "text": [
            "\n",
            "      Epoch    GPU_mem   box_loss   cls_loss   dfl_loss  Instances       Size\n"
          ]
        },
        {
          "output_type": "stream",
          "name": "stderr",
          "text": [
            "     45/100      6.44G      1.223      0.625      1.169         96        640: 100%|██████████| 38/38 [00:11<00:00,  3.31it/s]\n",
            "                 Class     Images  Instances      Box(P          R      mAP50  mAP50-95): 100%|██████████| 1/1 [00:00<00:00,  3.20it/s]"
          ]
        },
        {
          "output_type": "stream",
          "name": "stdout",
          "text": [
            "                   all         25        195       0.88      0.893      0.908      0.495\n"
          ]
        },
        {
          "output_type": "stream",
          "name": "stderr",
          "text": [
            "\n"
          ]
        },
        {
          "output_type": "stream",
          "name": "stdout",
          "text": [
            "\n",
            "      Epoch    GPU_mem   box_loss   cls_loss   dfl_loss  Instances       Size\n"
          ]
        },
        {
          "output_type": "stream",
          "name": "stderr",
          "text": [
            "     46/100      6.48G       1.21     0.5986      1.146        116        640: 100%|██████████| 38/38 [00:11<00:00,  3.28it/s]\n",
            "                 Class     Images  Instances      Box(P          R      mAP50  mAP50-95): 100%|██████████| 1/1 [00:00<00:00,  2.58it/s]"
          ]
        },
        {
          "output_type": "stream",
          "name": "stdout",
          "text": [
            "                   all         25        195      0.895      0.903      0.922      0.506\n"
          ]
        },
        {
          "output_type": "stream",
          "name": "stderr",
          "text": [
            "\n"
          ]
        },
        {
          "output_type": "stream",
          "name": "stdout",
          "text": [
            "\n",
            "      Epoch    GPU_mem   box_loss   cls_loss   dfl_loss  Instances       Size\n"
          ]
        },
        {
          "output_type": "stream",
          "name": "stderr",
          "text": [
            "     47/100      6.51G      1.207     0.6053      1.153        104        640: 100%|██████████| 38/38 [00:11<00:00,  3.29it/s]\n",
            "                 Class     Images  Instances      Box(P          R      mAP50  mAP50-95): 100%|██████████| 1/1 [00:00<00:00,  3.45it/s]"
          ]
        },
        {
          "output_type": "stream",
          "name": "stdout",
          "text": [
            "                   all         25        195      0.862      0.877       0.87      0.476\n"
          ]
        },
        {
          "output_type": "stream",
          "name": "stderr",
          "text": [
            "\n"
          ]
        },
        {
          "output_type": "stream",
          "name": "stdout",
          "text": [
            "\n",
            "      Epoch    GPU_mem   box_loss   cls_loss   dfl_loss  Instances       Size\n"
          ]
        },
        {
          "output_type": "stream",
          "name": "stderr",
          "text": [
            "     48/100      6.63G      1.181       0.59      1.141        112        640: 100%|██████████| 38/38 [00:11<00:00,  3.29it/s]\n",
            "                 Class     Images  Instances      Box(P          R      mAP50  mAP50-95): 100%|██████████| 1/1 [00:00<00:00,  3.45it/s]"
          ]
        },
        {
          "output_type": "stream",
          "name": "stdout",
          "text": [
            "                   all         25        195      0.852      0.902      0.886      0.481\n"
          ]
        },
        {
          "output_type": "stream",
          "name": "stderr",
          "text": [
            "\n"
          ]
        },
        {
          "output_type": "stream",
          "name": "stdout",
          "text": [
            "\n",
            "      Epoch    GPU_mem   box_loss   cls_loss   dfl_loss  Instances       Size\n"
          ]
        },
        {
          "output_type": "stream",
          "name": "stderr",
          "text": [
            "     49/100      6.66G      1.153     0.5784      1.133         78        640: 100%|██████████| 38/38 [00:11<00:00,  3.30it/s]\n",
            "                 Class     Images  Instances      Box(P          R      mAP50  mAP50-95): 100%|██████████| 1/1 [00:00<00:00,  2.67it/s]"
          ]
        },
        {
          "output_type": "stream",
          "name": "stdout",
          "text": [
            "                   all         25        195      0.875      0.901      0.887      0.477\n"
          ]
        },
        {
          "output_type": "stream",
          "name": "stderr",
          "text": [
            "\n"
          ]
        },
        {
          "output_type": "stream",
          "name": "stdout",
          "text": [
            "\n",
            "      Epoch    GPU_mem   box_loss   cls_loss   dfl_loss  Instances       Size\n"
          ]
        },
        {
          "output_type": "stream",
          "name": "stderr",
          "text": [
            "     50/100      6.78G      1.165     0.5706      1.137        105        640: 100%|██████████| 38/38 [00:11<00:00,  3.34it/s]\n",
            "                 Class     Images  Instances      Box(P          R      mAP50  mAP50-95): 100%|██████████| 1/1 [00:00<00:00,  2.59it/s]"
          ]
        },
        {
          "output_type": "stream",
          "name": "stdout",
          "text": [
            "                   all         25        195      0.861      0.855      0.873      0.472\n"
          ]
        },
        {
          "output_type": "stream",
          "name": "stderr",
          "text": [
            "\n"
          ]
        },
        {
          "output_type": "stream",
          "name": "stdout",
          "text": [
            "\n",
            "      Epoch    GPU_mem   box_loss   cls_loss   dfl_loss  Instances       Size\n"
          ]
        },
        {
          "output_type": "stream",
          "name": "stderr",
          "text": [
            "     51/100      6.81G      1.176     0.5783      1.145        139        640: 100%|██████████| 38/38 [00:11<00:00,  3.29it/s]\n",
            "                 Class     Images  Instances      Box(P          R      mAP50  mAP50-95): 100%|██████████| 1/1 [00:00<00:00,  2.53it/s]"
          ]
        },
        {
          "output_type": "stream",
          "name": "stdout",
          "text": [
            "                   all         25        195      0.858      0.869      0.878      0.475\n"
          ]
        },
        {
          "output_type": "stream",
          "name": "stderr",
          "text": [
            "\n"
          ]
        },
        {
          "output_type": "stream",
          "name": "stdout",
          "text": [
            "\n",
            "      Epoch    GPU_mem   box_loss   cls_loss   dfl_loss  Instances       Size\n"
          ]
        },
        {
          "output_type": "stream",
          "name": "stderr",
          "text": [
            "     52/100      6.85G      1.156     0.5809      1.143         90        640: 100%|██████████| 38/38 [00:11<00:00,  3.36it/s]\n",
            "                 Class     Images  Instances      Box(P          R      mAP50  mAP50-95): 100%|██████████| 1/1 [00:00<00:00,  2.03it/s]"
          ]
        },
        {
          "output_type": "stream",
          "name": "stdout",
          "text": [
            "                   all         25        195      0.863      0.875      0.871      0.465\n"
          ]
        },
        {
          "output_type": "stream",
          "name": "stderr",
          "text": [
            "\n"
          ]
        },
        {
          "output_type": "stream",
          "name": "stdout",
          "text": [
            "\n",
            "      Epoch    GPU_mem   box_loss   cls_loss   dfl_loss  Instances       Size\n"
          ]
        },
        {
          "output_type": "stream",
          "name": "stderr",
          "text": [
            "     53/100      6.88G      1.145     0.5596      1.123        117        640: 100%|██████████| 38/38 [00:11<00:00,  3.40it/s]\n",
            "                 Class     Images  Instances      Box(P          R      mAP50  mAP50-95): 100%|██████████| 1/1 [00:00<00:00,  2.32it/s]"
          ]
        },
        {
          "output_type": "stream",
          "name": "stdout",
          "text": [
            "                   all         25        195      0.878      0.868      0.889      0.482\n"
          ]
        },
        {
          "output_type": "stream",
          "name": "stderr",
          "text": [
            "\n"
          ]
        },
        {
          "output_type": "stream",
          "name": "stdout",
          "text": [
            "\n",
            "      Epoch    GPU_mem   box_loss   cls_loss   dfl_loss  Instances       Size\n"
          ]
        },
        {
          "output_type": "stream",
          "name": "stderr",
          "text": [
            "     54/100      6.99G      1.129     0.5622      1.127        113        640: 100%|██████████| 38/38 [00:11<00:00,  3.37it/s]\n",
            "                 Class     Images  Instances      Box(P          R      mAP50  mAP50-95): 100%|██████████| 1/1 [00:00<00:00,  2.02it/s]"
          ]
        },
        {
          "output_type": "stream",
          "name": "stdout",
          "text": [
            "                   all         25        195      0.869      0.854      0.895      0.493\n"
          ]
        },
        {
          "output_type": "stream",
          "name": "stderr",
          "text": [
            "\n"
          ]
        },
        {
          "output_type": "stream",
          "name": "stdout",
          "text": [
            "\n",
            "      Epoch    GPU_mem   box_loss   cls_loss   dfl_loss  Instances       Size\n"
          ]
        },
        {
          "output_type": "stream",
          "name": "stderr",
          "text": [
            "     55/100      7.11G      1.102     0.5529      1.112         74        640: 100%|██████████| 38/38 [00:11<00:00,  3.37it/s]\n",
            "                 Class     Images  Instances      Box(P          R      mAP50  mAP50-95): 100%|██████████| 1/1 [00:00<00:00,  2.05it/s]"
          ]
        },
        {
          "output_type": "stream",
          "name": "stdout",
          "text": [
            "                   all         25        195      0.892      0.878      0.901      0.489\n"
          ]
        },
        {
          "output_type": "stream",
          "name": "stderr",
          "text": [
            "\n"
          ]
        },
        {
          "output_type": "stream",
          "name": "stdout",
          "text": [
            "\n",
            "      Epoch    GPU_mem   box_loss   cls_loss   dfl_loss  Instances       Size\n"
          ]
        },
        {
          "output_type": "stream",
          "name": "stderr",
          "text": [
            "     56/100      7.15G      1.129     0.5604      1.125         90        640: 100%|██████████| 38/38 [00:11<00:00,  3.41it/s]\n",
            "                 Class     Images  Instances      Box(P          R      mAP50  mAP50-95): 100%|██████████| 1/1 [00:00<00:00,  1.76it/s]"
          ]
        },
        {
          "output_type": "stream",
          "name": "stdout",
          "text": [
            "                   all         25        195      0.843       0.89      0.904       0.47\n"
          ]
        },
        {
          "output_type": "stream",
          "name": "stderr",
          "text": [
            "\n"
          ]
        },
        {
          "output_type": "stream",
          "name": "stdout",
          "text": [
            "\n",
            "      Epoch    GPU_mem   box_loss   cls_loss   dfl_loss  Instances       Size\n"
          ]
        },
        {
          "output_type": "stream",
          "name": "stderr",
          "text": [
            "     57/100      7.18G      1.112     0.5502      1.122        112        640: 100%|██████████| 38/38 [00:11<00:00,  3.40it/s]\n",
            "                 Class     Images  Instances      Box(P          R      mAP50  mAP50-95): 100%|██████████| 1/1 [00:00<00:00,  2.37it/s]"
          ]
        },
        {
          "output_type": "stream",
          "name": "stdout",
          "text": [
            "                   all         25        195      0.863      0.897      0.907       0.49\n"
          ]
        },
        {
          "output_type": "stream",
          "name": "stderr",
          "text": [
            "\n"
          ]
        },
        {
          "output_type": "stream",
          "name": "stdout",
          "text": [
            "\n",
            "      Epoch    GPU_mem   box_loss   cls_loss   dfl_loss  Instances       Size\n"
          ]
        },
        {
          "output_type": "stream",
          "name": "stderr",
          "text": [
            "     58/100      7.22G      1.105     0.5512      1.116        135        640: 100%|██████████| 38/38 [00:11<00:00,  3.44it/s]\n",
            "                 Class     Images  Instances      Box(P          R      mAP50  mAP50-95): 100%|██████████| 1/1 [00:00<00:00,  2.15it/s]"
          ]
        },
        {
          "output_type": "stream",
          "name": "stdout",
          "text": [
            "                   all         25        195      0.878      0.896      0.898      0.481\n"
          ]
        },
        {
          "output_type": "stream",
          "name": "stderr",
          "text": [
            "\n"
          ]
        },
        {
          "output_type": "stream",
          "name": "stdout",
          "text": [
            "\n",
            "      Epoch    GPU_mem   box_loss   cls_loss   dfl_loss  Instances       Size\n"
          ]
        },
        {
          "output_type": "stream",
          "name": "stderr",
          "text": [
            "     59/100      7.32G      1.102     0.5539      1.107        106        640: 100%|██████████| 38/38 [00:11<00:00,  3.34it/s]\n",
            "                 Class     Images  Instances      Box(P          R      mAP50  mAP50-95): 100%|██████████| 1/1 [00:00<00:00,  3.03it/s]"
          ]
        },
        {
          "output_type": "stream",
          "name": "stdout",
          "text": [
            "                   all         25        195      0.858       0.91      0.913      0.486\n"
          ]
        },
        {
          "output_type": "stream",
          "name": "stderr",
          "text": [
            "\n"
          ]
        },
        {
          "output_type": "stream",
          "name": "stdout",
          "text": [
            "\n",
            "      Epoch    GPU_mem   box_loss   cls_loss   dfl_loss  Instances       Size\n"
          ]
        },
        {
          "output_type": "stream",
          "name": "stderr",
          "text": [
            "     60/100      7.36G      1.084     0.5403      1.104        106        640: 100%|██████████| 38/38 [00:11<00:00,  3.33it/s]\n",
            "                 Class     Images  Instances      Box(P          R      mAP50  mAP50-95): 100%|██████████| 1/1 [00:00<00:00,  3.34it/s]"
          ]
        },
        {
          "output_type": "stream",
          "name": "stdout",
          "text": [
            "                   all         25        195      0.869      0.882      0.883      0.473\n"
          ]
        },
        {
          "output_type": "stream",
          "name": "stderr",
          "text": [
            "\n"
          ]
        },
        {
          "output_type": "stream",
          "name": "stdout",
          "text": [
            "\n",
            "      Epoch    GPU_mem   box_loss   cls_loss   dfl_loss  Instances       Size\n"
          ]
        },
        {
          "output_type": "stream",
          "name": "stderr",
          "text": [
            "     61/100      7.39G       1.09     0.5382      1.101         68        640: 100%|██████████| 38/38 [00:11<00:00,  3.29it/s]\n",
            "                 Class     Images  Instances      Box(P          R      mAP50  mAP50-95): 100%|██████████| 1/1 [00:00<00:00,  2.79it/s]"
          ]
        },
        {
          "output_type": "stream",
          "name": "stdout",
          "text": [
            "                   all         25        195      0.862      0.874      0.889      0.487\n"
          ]
        },
        {
          "output_type": "stream",
          "name": "stderr",
          "text": [
            "\n"
          ]
        },
        {
          "output_type": "stream",
          "name": "stdout",
          "text": [
            "\n",
            "      Epoch    GPU_mem   box_loss   cls_loss   dfl_loss  Instances       Size\n"
          ]
        },
        {
          "output_type": "stream",
          "name": "stderr",
          "text": [
            "     62/100       7.5G      1.057     0.5278      1.085        111        640: 100%|██████████| 38/38 [00:11<00:00,  3.19it/s]\n",
            "                 Class     Images  Instances      Box(P          R      mAP50  mAP50-95): 100%|██████████| 1/1 [00:00<00:00,  2.81it/s]"
          ]
        },
        {
          "output_type": "stream",
          "name": "stdout",
          "text": [
            "                   all         25        195      0.887      0.903      0.914      0.492\n"
          ]
        },
        {
          "output_type": "stream",
          "name": "stderr",
          "text": [
            "\n"
          ]
        },
        {
          "output_type": "stream",
          "name": "stdout",
          "text": [
            "\n",
            "      Epoch    GPU_mem   box_loss   cls_loss   dfl_loss  Instances       Size\n"
          ]
        },
        {
          "output_type": "stream",
          "name": "stderr",
          "text": [
            "     63/100      7.53G      1.081     0.5295      1.101        139        640: 100%|██████████| 38/38 [00:11<00:00,  3.28it/s]\n",
            "                 Class     Images  Instances      Box(P          R      mAP50  mAP50-95): 100%|██████████| 1/1 [00:00<00:00,  3.26it/s]"
          ]
        },
        {
          "output_type": "stream",
          "name": "stdout",
          "text": [
            "                   all         25        195      0.853      0.906      0.901      0.492\n"
          ]
        },
        {
          "output_type": "stream",
          "name": "stderr",
          "text": [
            "\n"
          ]
        },
        {
          "output_type": "stream",
          "name": "stdout",
          "text": [
            "\n",
            "      Epoch    GPU_mem   box_loss   cls_loss   dfl_loss  Instances       Size\n"
          ]
        },
        {
          "output_type": "stream",
          "name": "stderr",
          "text": [
            "     64/100      7.64G      1.066     0.5275      1.094         99        640: 100%|██████████| 38/38 [00:11<00:00,  3.30it/s]\n",
            "                 Class     Images  Instances      Box(P          R      mAP50  mAP50-95): 100%|██████████| 1/1 [00:00<00:00,  2.95it/s]"
          ]
        },
        {
          "output_type": "stream",
          "name": "stdout",
          "text": [
            "                   all         25        195      0.867      0.879      0.895      0.498\n"
          ]
        },
        {
          "output_type": "stream",
          "name": "stderr",
          "text": [
            "\n"
          ]
        },
        {
          "output_type": "stream",
          "name": "stdout",
          "text": [
            "\n",
            "      Epoch    GPU_mem   box_loss   cls_loss   dfl_loss  Instances       Size\n"
          ]
        },
        {
          "output_type": "stream",
          "name": "stderr",
          "text": [
            "     65/100      7.67G      1.059     0.5206       1.09        118        640: 100%|██████████| 38/38 [00:11<00:00,  3.28it/s]\n",
            "                 Class     Images  Instances      Box(P          R      mAP50  mAP50-95): 100%|██████████| 1/1 [00:00<00:00,  3.50it/s]"
          ]
        },
        {
          "output_type": "stream",
          "name": "stdout",
          "text": [
            "                   all         25        195      0.859      0.894      0.899       0.49\n"
          ]
        },
        {
          "output_type": "stream",
          "name": "stderr",
          "text": [
            "\n"
          ]
        },
        {
          "output_type": "stream",
          "name": "stdout",
          "text": [
            "\n",
            "      Epoch    GPU_mem   box_loss   cls_loss   dfl_loss  Instances       Size\n"
          ]
        },
        {
          "output_type": "stream",
          "name": "stderr",
          "text": [
            "     66/100      7.78G      1.037     0.5151      1.078        117        640: 100%|██████████| 38/38 [00:11<00:00,  3.28it/s]\n",
            "                 Class     Images  Instances      Box(P          R      mAP50  mAP50-95): 100%|██████████| 1/1 [00:00<00:00,  3.51it/s]"
          ]
        },
        {
          "output_type": "stream",
          "name": "stdout",
          "text": [
            "                   all         25        195       0.85      0.883      0.876      0.471\n"
          ]
        },
        {
          "output_type": "stream",
          "name": "stderr",
          "text": [
            "\n"
          ]
        },
        {
          "output_type": "stream",
          "name": "stdout",
          "text": [
            "\n",
            "      Epoch    GPU_mem   box_loss   cls_loss   dfl_loss  Instances       Size\n"
          ]
        },
        {
          "output_type": "stream",
          "name": "stderr",
          "text": [
            "     67/100      7.82G      1.026     0.5067      1.071         88        640: 100%|██████████| 38/38 [00:11<00:00,  3.27it/s]\n",
            "                 Class     Images  Instances      Box(P          R      mAP50  mAP50-95): 100%|██████████| 1/1 [00:00<00:00,  3.85it/s]"
          ]
        },
        {
          "output_type": "stream",
          "name": "stdout",
          "text": [
            "                   all         25        195      0.874      0.866      0.905      0.494\n"
          ]
        },
        {
          "output_type": "stream",
          "name": "stderr",
          "text": [
            "\n"
          ]
        },
        {
          "output_type": "stream",
          "name": "stdout",
          "text": [
            "\n",
            "      Epoch    GPU_mem   box_loss   cls_loss   dfl_loss  Instances       Size\n"
          ]
        },
        {
          "output_type": "stream",
          "name": "stderr",
          "text": [
            "     68/100      7.86G      1.018      0.504      1.069         95        640: 100%|██████████| 38/38 [00:11<00:00,  3.28it/s]\n",
            "                 Class     Images  Instances      Box(P          R      mAP50  mAP50-95): 100%|██████████| 1/1 [00:00<00:00,  4.01it/s]"
          ]
        },
        {
          "output_type": "stream",
          "name": "stdout",
          "text": [
            "                   all         25        195      0.873      0.886      0.916       0.49\n"
          ]
        },
        {
          "output_type": "stream",
          "name": "stderr",
          "text": [
            "\n"
          ]
        },
        {
          "output_type": "stream",
          "name": "stdout",
          "text": [
            "\n",
            "      Epoch    GPU_mem   box_loss   cls_loss   dfl_loss  Instances       Size\n"
          ]
        },
        {
          "output_type": "stream",
          "name": "stderr",
          "text": [
            "     69/100      7.97G      1.031     0.5092      1.073        120        640: 100%|██████████| 38/38 [00:11<00:00,  3.30it/s]\n",
            "                 Class     Images  Instances      Box(P          R      mAP50  mAP50-95): 100%|██████████| 1/1 [00:00<00:00,  3.05it/s]"
          ]
        },
        {
          "output_type": "stream",
          "name": "stdout",
          "text": [
            "                   all         25        195      0.863      0.882      0.897      0.493\n"
          ]
        },
        {
          "output_type": "stream",
          "name": "stderr",
          "text": [
            "\n"
          ]
        },
        {
          "output_type": "stream",
          "name": "stdout",
          "text": [
            "\n",
            "      Epoch    GPU_mem   box_loss   cls_loss   dfl_loss  Instances       Size\n"
          ]
        },
        {
          "output_type": "stream",
          "name": "stderr",
          "text": [
            "     70/100      8.01G      1.003     0.5043      1.065         95        640: 100%|██████████| 38/38 [00:11<00:00,  3.31it/s]\n",
            "                 Class     Images  Instances      Box(P          R      mAP50  mAP50-95): 100%|██████████| 1/1 [00:00<00:00,  3.04it/s]"
          ]
        },
        {
          "output_type": "stream",
          "name": "stdout",
          "text": [
            "                   all         25        195      0.868      0.872      0.897      0.498\n"
          ]
        },
        {
          "output_type": "stream",
          "name": "stderr",
          "text": [
            "\n"
          ]
        },
        {
          "output_type": "stream",
          "name": "stdout",
          "text": [
            "\n",
            "      Epoch    GPU_mem   box_loss   cls_loss   dfl_loss  Instances       Size\n"
          ]
        },
        {
          "output_type": "stream",
          "name": "stderr",
          "text": [
            "     71/100      8.04G       1.01     0.4948      1.066         96        640: 100%|██████████| 38/38 [00:11<00:00,  3.28it/s]\n",
            "                 Class     Images  Instances      Box(P          R      mAP50  mAP50-95): 100%|██████████| 1/1 [00:00<00:00,  3.35it/s]"
          ]
        },
        {
          "output_type": "stream",
          "name": "stdout",
          "text": [
            "                   all         25        195      0.887      0.885      0.907      0.501\n"
          ]
        },
        {
          "output_type": "stream",
          "name": "stderr",
          "text": [
            "\n"
          ]
        },
        {
          "output_type": "stream",
          "name": "stdout",
          "text": [
            "\n",
            "      Epoch    GPU_mem   box_loss   cls_loss   dfl_loss  Instances       Size\n"
          ]
        },
        {
          "output_type": "stream",
          "name": "stderr",
          "text": [
            "     72/100      8.15G     0.9918     0.4934      1.059        124        640: 100%|██████████| 38/38 [00:11<00:00,  3.31it/s]\n",
            "                 Class     Images  Instances      Box(P          R      mAP50  mAP50-95): 100%|██████████| 1/1 [00:00<00:00,  3.52it/s]"
          ]
        },
        {
          "output_type": "stream",
          "name": "stdout",
          "text": [
            "                   all         25        195      0.876      0.885      0.896      0.502\n"
          ]
        },
        {
          "output_type": "stream",
          "name": "stderr",
          "text": [
            "\n"
          ]
        },
        {
          "output_type": "stream",
          "name": "stdout",
          "text": [
            "\n",
            "      Epoch    GPU_mem   box_loss   cls_loss   dfl_loss  Instances       Size\n"
          ]
        },
        {
          "output_type": "stream",
          "name": "stderr",
          "text": [
            "     73/100      8.18G     0.9949     0.4928      1.048        105        640: 100%|██████████| 38/38 [00:11<00:00,  3.28it/s]\n",
            "                 Class     Images  Instances      Box(P          R      mAP50  mAP50-95): 100%|██████████| 1/1 [00:00<00:00,  2.64it/s]"
          ]
        },
        {
          "output_type": "stream",
          "name": "stdout",
          "text": [
            "                   all         25        195      0.895      0.883      0.908      0.511\n"
          ]
        },
        {
          "output_type": "stream",
          "name": "stderr",
          "text": [
            "\n"
          ]
        },
        {
          "output_type": "stream",
          "name": "stdout",
          "text": [
            "\n",
            "      Epoch    GPU_mem   box_loss   cls_loss   dfl_loss  Instances       Size\n"
          ]
        },
        {
          "output_type": "stream",
          "name": "stderr",
          "text": [
            "     74/100      8.22G      1.001     0.4938      1.049        129        640: 100%|██████████| 38/38 [00:11<00:00,  3.30it/s]\n",
            "                 Class     Images  Instances      Box(P          R      mAP50  mAP50-95): 100%|██████████| 1/1 [00:00<00:00,  2.95it/s]"
          ]
        },
        {
          "output_type": "stream",
          "name": "stdout",
          "text": [
            "                   all         25        195      0.873      0.882      0.908      0.509\n"
          ]
        },
        {
          "output_type": "stream",
          "name": "stderr",
          "text": [
            "\n"
          ]
        },
        {
          "output_type": "stream",
          "name": "stdout",
          "text": [
            "\n",
            "      Epoch    GPU_mem   box_loss   cls_loss   dfl_loss  Instances       Size\n"
          ]
        },
        {
          "output_type": "stream",
          "name": "stderr",
          "text": [
            "     75/100      8.32G     0.9801      0.489      1.057         97        640: 100%|██████████| 38/38 [00:11<00:00,  3.28it/s]\n",
            "                 Class     Images  Instances      Box(P          R      mAP50  mAP50-95): 100%|██████████| 1/1 [00:00<00:00,  2.43it/s]"
          ]
        },
        {
          "output_type": "stream",
          "name": "stdout",
          "text": [
            "                   all         25        195       0.87      0.877      0.904      0.506\n"
          ]
        },
        {
          "output_type": "stream",
          "name": "stderr",
          "text": [
            "\n"
          ]
        },
        {
          "output_type": "stream",
          "name": "stdout",
          "text": [
            "\n",
            "      Epoch    GPU_mem   box_loss   cls_loss   dfl_loss  Instances       Size\n"
          ]
        },
        {
          "output_type": "stream",
          "name": "stderr",
          "text": [
            "     76/100      8.44G     0.9747     0.4896      1.055         87        640: 100%|██████████| 38/38 [00:11<00:00,  3.28it/s]\n",
            "                 Class     Images  Instances      Box(P          R      mAP50  mAP50-95): 100%|██████████| 1/1 [00:00<00:00,  2.88it/s]"
          ]
        },
        {
          "output_type": "stream",
          "name": "stdout",
          "text": [
            "                   all         25        195      0.874      0.869      0.904      0.503\n"
          ]
        },
        {
          "output_type": "stream",
          "name": "stderr",
          "text": [
            "\n"
          ]
        },
        {
          "output_type": "stream",
          "name": "stdout",
          "text": [
            "\n",
            "      Epoch    GPU_mem   box_loss   cls_loss   dfl_loss  Instances       Size\n"
          ]
        },
        {
          "output_type": "stream",
          "name": "stderr",
          "text": [
            "     77/100      8.47G     0.9656     0.4828      1.038        127        640: 100%|██████████| 38/38 [00:11<00:00,  3.24it/s]\n",
            "                 Class     Images  Instances      Box(P          R      mAP50  mAP50-95): 100%|██████████| 1/1 [00:00<00:00,  2.54it/s]"
          ]
        },
        {
          "output_type": "stream",
          "name": "stdout",
          "text": [
            "                   all         25        195       0.85      0.877      0.883        0.5\n"
          ]
        },
        {
          "output_type": "stream",
          "name": "stderr",
          "text": [
            "\n"
          ]
        },
        {
          "output_type": "stream",
          "name": "stdout",
          "text": [
            "\n",
            "      Epoch    GPU_mem   box_loss   cls_loss   dfl_loss  Instances       Size\n"
          ]
        },
        {
          "output_type": "stream",
          "name": "stderr",
          "text": [
            "     78/100      8.59G     0.9453     0.4725      1.039         99        640: 100%|██████████| 38/38 [00:11<00:00,  3.26it/s]\n",
            "                 Class     Images  Instances      Box(P          R      mAP50  mAP50-95): 100%|██████████| 1/1 [00:00<00:00,  2.97it/s]"
          ]
        },
        {
          "output_type": "stream",
          "name": "stdout",
          "text": [
            "                   all         25        195      0.875      0.886      0.894      0.503\n"
          ]
        },
        {
          "output_type": "stream",
          "name": "stderr",
          "text": [
            "\n"
          ]
        },
        {
          "output_type": "stream",
          "name": "stdout",
          "text": [
            "\n",
            "      Epoch    GPU_mem   box_loss   cls_loss   dfl_loss  Instances       Size\n"
          ]
        },
        {
          "output_type": "stream",
          "name": "stderr",
          "text": [
            "     79/100      8.62G     0.9557     0.4807      1.041        109        640: 100%|██████████| 38/38 [00:11<00:00,  3.33it/s]\n",
            "                 Class     Images  Instances      Box(P          R      mAP50  mAP50-95): 100%|██████████| 1/1 [00:00<00:00,  2.37it/s]"
          ]
        },
        {
          "output_type": "stream",
          "name": "stdout",
          "text": [
            "                   all         25        195      0.883      0.859      0.883      0.488\n"
          ]
        },
        {
          "output_type": "stream",
          "name": "stderr",
          "text": [
            "\n"
          ]
        },
        {
          "output_type": "stream",
          "name": "stdout",
          "text": [
            "\n",
            "      Epoch    GPU_mem   box_loss   cls_loss   dfl_loss  Instances       Size\n"
          ]
        },
        {
          "output_type": "stream",
          "name": "stderr",
          "text": [
            "     80/100      8.66G     0.9643     0.4832      1.053         89        640: 100%|██████████| 38/38 [00:11<00:00,  3.33it/s]\n",
            "                 Class     Images  Instances      Box(P          R      mAP50  mAP50-95): 100%|██████████| 1/1 [00:00<00:00,  1.78it/s]"
          ]
        },
        {
          "output_type": "stream",
          "name": "stdout",
          "text": [
            "                   all         25        195      0.857      0.874      0.879      0.493\n"
          ]
        },
        {
          "output_type": "stream",
          "name": "stderr",
          "text": [
            "\n"
          ]
        },
        {
          "output_type": "stream",
          "name": "stdout",
          "text": [
            "\n",
            "      Epoch    GPU_mem   box_loss   cls_loss   dfl_loss  Instances       Size\n"
          ]
        },
        {
          "output_type": "stream",
          "name": "stderr",
          "text": [
            "     81/100       8.7G     0.9481     0.4756      1.036         96        640: 100%|██████████| 38/38 [00:11<00:00,  3.33it/s]\n",
            "                 Class     Images  Instances      Box(P          R      mAP50  mAP50-95): 100%|██████████| 1/1 [00:00<00:00,  1.87it/s]"
          ]
        },
        {
          "output_type": "stream",
          "name": "stdout",
          "text": [
            "                   all         25        195      0.888      0.858      0.891      0.498\n"
          ]
        },
        {
          "output_type": "stream",
          "name": "stderr",
          "text": [
            "\n"
          ]
        },
        {
          "output_type": "stream",
          "name": "stdout",
          "text": [
            "\n",
            "      Epoch    GPU_mem   box_loss   cls_loss   dfl_loss  Instances       Size\n"
          ]
        },
        {
          "output_type": "stream",
          "name": "stderr",
          "text": [
            "     82/100      8.81G     0.9351     0.4674      1.028         89        640: 100%|██████████| 38/38 [00:11<00:00,  3.38it/s]\n",
            "                 Class     Images  Instances      Box(P          R      mAP50  mAP50-95): 100%|██████████| 1/1 [00:00<00:00,  1.76it/s]"
          ]
        },
        {
          "output_type": "stream",
          "name": "stdout",
          "text": [
            "                   all         25        195      0.871      0.888      0.904      0.497\n"
          ]
        },
        {
          "output_type": "stream",
          "name": "stderr",
          "text": [
            "\n"
          ]
        },
        {
          "output_type": "stream",
          "name": "stdout",
          "text": [
            "\n",
            "      Epoch    GPU_mem   box_loss   cls_loss   dfl_loss  Instances       Size\n"
          ]
        },
        {
          "output_type": "stream",
          "name": "stderr",
          "text": [
            "     83/100      8.84G     0.9212     0.4632      1.026        121        640: 100%|██████████| 38/38 [00:11<00:00,  3.32it/s]\n",
            "                 Class     Images  Instances      Box(P          R      mAP50  mAP50-95): 100%|██████████| 1/1 [00:00<00:00,  2.06it/s]"
          ]
        },
        {
          "output_type": "stream",
          "name": "stdout",
          "text": [
            "                   all         25        195      0.875      0.899      0.913      0.499\n"
          ]
        },
        {
          "output_type": "stream",
          "name": "stderr",
          "text": [
            "\n"
          ]
        },
        {
          "output_type": "stream",
          "name": "stdout",
          "text": [
            "\n",
            "      Epoch    GPU_mem   box_loss   cls_loss   dfl_loss  Instances       Size\n"
          ]
        },
        {
          "output_type": "stream",
          "name": "stderr",
          "text": [
            "     84/100      8.96G     0.9148     0.4581      1.026        118        640: 100%|██████████| 38/38 [00:11<00:00,  3.43it/s]\n",
            "                 Class     Images  Instances      Box(P          R      mAP50  mAP50-95): 100%|██████████| 1/1 [00:00<00:00,  2.14it/s]"
          ]
        },
        {
          "output_type": "stream",
          "name": "stdout",
          "text": [
            "                   all         25        195      0.884      0.871      0.896      0.502\n"
          ]
        },
        {
          "output_type": "stream",
          "name": "stderr",
          "text": [
            "\n"
          ]
        },
        {
          "output_type": "stream",
          "name": "stdout",
          "text": [
            "\n",
            "      Epoch    GPU_mem   box_loss   cls_loss   dfl_loss  Instances       Size\n"
          ]
        },
        {
          "output_type": "stream",
          "name": "stderr",
          "text": [
            "     85/100      8.99G     0.9175     0.4576       1.02        121        640: 100%|██████████| 38/38 [00:11<00:00,  3.34it/s]\n",
            "                 Class     Images  Instances      Box(P          R      mAP50  mAP50-95): 100%|██████████| 1/1 [00:00<00:00,  2.14it/s]"
          ]
        },
        {
          "output_type": "stream",
          "name": "stdout",
          "text": [
            "                   all         25        195      0.879      0.867      0.906      0.506\n"
          ]
        },
        {
          "output_type": "stream",
          "name": "stderr",
          "text": [
            "\n"
          ]
        },
        {
          "output_type": "stream",
          "name": "stdout",
          "text": [
            "\n",
            "      Epoch    GPU_mem   box_loss   cls_loss   dfl_loss  Instances       Size\n"
          ]
        },
        {
          "output_type": "stream",
          "name": "stderr",
          "text": [
            "     86/100      9.03G     0.9024     0.4566      1.018        142        640: 100%|██████████| 38/38 [00:11<00:00,  3.36it/s]\n",
            "                 Class     Images  Instances      Box(P          R      mAP50  mAP50-95): 100%|██████████| 1/1 [00:00<00:00,  2.44it/s]"
          ]
        },
        {
          "output_type": "stream",
          "name": "stdout",
          "text": [
            "                   all         25        195      0.894      0.862      0.908      0.508\n"
          ]
        },
        {
          "output_type": "stream",
          "name": "stderr",
          "text": [
            "\n"
          ]
        },
        {
          "output_type": "stream",
          "name": "stdout",
          "text": [
            "\n",
            "      Epoch    GPU_mem   box_loss   cls_loss   dfl_loss  Instances       Size\n"
          ]
        },
        {
          "output_type": "stream",
          "name": "stderr",
          "text": [
            "     87/100      9.13G     0.8972     0.4599      1.026        128        640: 100%|██████████| 38/38 [00:11<00:00,  3.43it/s]\n",
            "                 Class     Images  Instances      Box(P          R      mAP50  mAP50-95): 100%|██████████| 1/1 [00:00<00:00,  1.84it/s]"
          ]
        },
        {
          "output_type": "stream",
          "name": "stdout",
          "text": [
            "                   all         25        195      0.854      0.883        0.9      0.506\n"
          ]
        },
        {
          "output_type": "stream",
          "name": "stderr",
          "text": [
            "\n"
          ]
        },
        {
          "output_type": "stream",
          "name": "stdout",
          "text": [
            "\n",
            "      Epoch    GPU_mem   box_loss   cls_loss   dfl_loss  Instances       Size\n"
          ]
        },
        {
          "output_type": "stream",
          "name": "stderr",
          "text": [
            "     88/100      9.17G     0.8832      0.449      1.005         96        640: 100%|██████████| 38/38 [00:11<00:00,  3.40it/s]\n",
            "                 Class     Images  Instances      Box(P          R      mAP50  mAP50-95): 100%|██████████| 1/1 [00:00<00:00,  2.08it/s]"
          ]
        },
        {
          "output_type": "stream",
          "name": "stdout",
          "text": [
            "                   all         25        195      0.864      0.876      0.887      0.494\n"
          ]
        },
        {
          "output_type": "stream",
          "name": "stderr",
          "text": [
            "\n"
          ]
        },
        {
          "output_type": "stream",
          "name": "stdout",
          "text": [
            "\n",
            "      Epoch    GPU_mem   box_loss   cls_loss   dfl_loss  Instances       Size\n"
          ]
        },
        {
          "output_type": "stream",
          "name": "stderr",
          "text": [
            "     89/100      9.21G     0.8771      0.446      1.005        125        640: 100%|██████████| 38/38 [00:11<00:00,  3.36it/s]\n",
            "                 Class     Images  Instances      Box(P          R      mAP50  mAP50-95): 100%|██████████| 1/1 [00:00<00:00,  3.76it/s]"
          ]
        },
        {
          "output_type": "stream",
          "name": "stdout",
          "text": [
            "                   all         25        195      0.873      0.869       0.88      0.494\n"
          ]
        },
        {
          "output_type": "stream",
          "name": "stderr",
          "text": [
            "\n"
          ]
        },
        {
          "output_type": "stream",
          "name": "stdout",
          "text": [
            "\n",
            "      Epoch    GPU_mem   box_loss   cls_loss   dfl_loss  Instances       Size\n"
          ]
        },
        {
          "output_type": "stream",
          "name": "stderr",
          "text": [
            "     90/100      9.32G     0.8804     0.4447      1.009        102        640: 100%|██████████| 38/38 [00:11<00:00,  3.33it/s]\n",
            "                 Class     Images  Instances      Box(P          R      mAP50  mAP50-95): 100%|██████████| 1/1 [00:00<00:00,  3.32it/s]"
          ]
        },
        {
          "output_type": "stream",
          "name": "stdout",
          "text": [
            "                   all         25        195      0.888      0.907      0.917      0.502\n"
          ]
        },
        {
          "output_type": "stream",
          "name": "stderr",
          "text": [
            "\n"
          ]
        },
        {
          "output_type": "stream",
          "name": "stdout",
          "text": [
            "Closing dataloader mosaic\n",
            "\u001b[34m\u001b[1malbumentations: \u001b[0mBlur(p=0.01, blur_limit=(3, 7)), MedianBlur(p=0.01, blur_limit=(3, 7)), ToGray(p=0.01, num_output_channels=3, method='weighted_average'), CLAHE(p=0.01, clip_limit=(1.0, 4.0), tile_grid_size=(8, 8))\n",
            "\n",
            "      Epoch    GPU_mem   box_loss   cls_loss   dfl_loss  Instances       Size\n"
          ]
        },
        {
          "output_type": "stream",
          "name": "stderr",
          "text": [
            "     91/100      9.38G     0.8569     0.4051      1.002         73        640: 100%|██████████| 38/38 [00:12<00:00,  2.97it/s]\n",
            "                 Class     Images  Instances      Box(P          R      mAP50  mAP50-95): 100%|██████████| 1/1 [00:00<00:00,  2.84it/s]"
          ]
        },
        {
          "output_type": "stream",
          "name": "stdout",
          "text": [
            "                   all         25        195      0.885      0.884      0.899      0.491\n"
          ]
        },
        {
          "output_type": "stream",
          "name": "stderr",
          "text": [
            "\n"
          ]
        },
        {
          "output_type": "stream",
          "name": "stdout",
          "text": [
            "\n",
            "      Epoch    GPU_mem   box_loss   cls_loss   dfl_loss  Instances       Size\n"
          ]
        },
        {
          "output_type": "stream",
          "name": "stderr",
          "text": [
            "     92/100      9.42G     0.8505     0.4005     0.9999         60        640: 100%|██████████| 38/38 [00:10<00:00,  3.53it/s]\n",
            "                 Class     Images  Instances      Box(P          R      mAP50  mAP50-95): 100%|██████████| 1/1 [00:00<00:00,  3.59it/s]"
          ]
        },
        {
          "output_type": "stream",
          "name": "stdout",
          "text": [
            "                   all         25        195      0.894       0.89      0.897      0.492\n"
          ]
        },
        {
          "output_type": "stream",
          "name": "stderr",
          "text": [
            "\n"
          ]
        },
        {
          "output_type": "stream",
          "name": "stdout",
          "text": [
            "\n",
            "      Epoch    GPU_mem   box_loss   cls_loss   dfl_loss  Instances       Size\n"
          ]
        },
        {
          "output_type": "stream",
          "name": "stderr",
          "text": [
            "     93/100      9.45G     0.8088     0.3849     0.9854         72        640: 100%|██████████| 38/38 [00:11<00:00,  3.41it/s]\n",
            "                 Class     Images  Instances      Box(P          R      mAP50  mAP50-95): 100%|██████████| 1/1 [00:00<00:00,  3.31it/s]"
          ]
        },
        {
          "output_type": "stream",
          "name": "stdout",
          "text": [
            "                   all         25        195      0.881      0.882      0.898      0.496\n"
          ]
        },
        {
          "output_type": "stream",
          "name": "stderr",
          "text": [
            "\n"
          ]
        },
        {
          "output_type": "stream",
          "name": "stdout",
          "text": [
            "\n",
            "      Epoch    GPU_mem   box_loss   cls_loss   dfl_loss  Instances       Size\n"
          ]
        },
        {
          "output_type": "stream",
          "name": "stderr",
          "text": [
            "     94/100      9.49G     0.7913     0.3764     0.9689         67        640: 100%|██████████| 38/38 [00:11<00:00,  3.41it/s]\n",
            "                 Class     Images  Instances      Box(P          R      mAP50  mAP50-95): 100%|██████████| 1/1 [00:00<00:00,  3.71it/s]"
          ]
        },
        {
          "output_type": "stream",
          "name": "stdout",
          "text": [
            "                   all         25        195      0.868      0.876      0.877      0.496\n"
          ]
        },
        {
          "output_type": "stream",
          "name": "stderr",
          "text": [
            "\n"
          ]
        },
        {
          "output_type": "stream",
          "name": "stdout",
          "text": [
            "\n",
            "      Epoch    GPU_mem   box_loss   cls_loss   dfl_loss  Instances       Size\n"
          ]
        },
        {
          "output_type": "stream",
          "name": "stderr",
          "text": [
            "     95/100      9.52G     0.7754     0.3738     0.9701         67        640: 100%|██████████| 38/38 [00:11<00:00,  3.37it/s]\n",
            "                 Class     Images  Instances      Box(P          R      mAP50  mAP50-95): 100%|██████████| 1/1 [00:00<00:00,  2.73it/s]"
          ]
        },
        {
          "output_type": "stream",
          "name": "stdout",
          "text": [
            "                   all         25        195       0.86      0.868      0.882      0.496\n"
          ]
        },
        {
          "output_type": "stream",
          "name": "stderr",
          "text": [
            "\n"
          ]
        },
        {
          "output_type": "stream",
          "name": "stdout",
          "text": [
            "\n",
            "      Epoch    GPU_mem   box_loss   cls_loss   dfl_loss  Instances       Size\n"
          ]
        },
        {
          "output_type": "stream",
          "name": "stderr",
          "text": [
            "     96/100      9.63G     0.7864     0.3745     0.9748         49        640: 100%|██████████| 38/38 [00:11<00:00,  3.41it/s]\n",
            "                 Class     Images  Instances      Box(P          R      mAP50  mAP50-95): 100%|██████████| 1/1 [00:00<00:00,  3.47it/s]"
          ]
        },
        {
          "output_type": "stream",
          "name": "stdout",
          "text": [
            "                   all         25        195       0.86      0.883       0.89      0.497\n"
          ]
        },
        {
          "output_type": "stream",
          "name": "stderr",
          "text": [
            "\n"
          ]
        },
        {
          "output_type": "stream",
          "name": "stdout",
          "text": [
            "\n",
            "      Epoch    GPU_mem   box_loss   cls_loss   dfl_loss  Instances       Size\n"
          ]
        },
        {
          "output_type": "stream",
          "name": "stderr",
          "text": [
            "     97/100      9.66G      0.771     0.3719      0.967         63        640: 100%|██████████| 38/38 [00:12<00:00,  2.99it/s]\n",
            "                 Class     Images  Instances      Box(P          R      mAP50  mAP50-95): 100%|██████████| 1/1 [00:00<00:00,  2.94it/s]"
          ]
        },
        {
          "output_type": "stream",
          "name": "stdout",
          "text": [
            "                   all         25        195      0.885      0.866      0.888        0.5\n"
          ]
        },
        {
          "output_type": "stream",
          "name": "stderr",
          "text": [
            "\n"
          ]
        },
        {
          "output_type": "stream",
          "name": "stdout",
          "text": [
            "\n",
            "      Epoch    GPU_mem   box_loss   cls_loss   dfl_loss  Instances       Size\n"
          ]
        },
        {
          "output_type": "stream",
          "name": "stderr",
          "text": [
            "     98/100      9.73G     0.7607     0.3689     0.9632         62        640: 100%|██████████| 38/38 [00:12<00:00,  3.17it/s]\n",
            "                 Class     Images  Instances      Box(P          R      mAP50  mAP50-95): 100%|██████████| 1/1 [00:00<00:00,  3.46it/s]"
          ]
        },
        {
          "output_type": "stream",
          "name": "stdout",
          "text": [
            "                   all         25        195      0.882      0.888      0.908      0.503\n"
          ]
        },
        {
          "output_type": "stream",
          "name": "stderr",
          "text": [
            "\n"
          ]
        },
        {
          "output_type": "stream",
          "name": "stdout",
          "text": [
            "\n",
            "      Epoch    GPU_mem   box_loss   cls_loss   dfl_loss  Instances       Size\n"
          ]
        },
        {
          "output_type": "stream",
          "name": "stderr",
          "text": [
            "     99/100       9.8G     0.7522     0.3634     0.9603         62        640: 100%|██████████| 38/38 [00:11<00:00,  3.39it/s]\n",
            "                 Class     Images  Instances      Box(P          R      mAP50  mAP50-95): 100%|██████████| 1/1 [00:00<00:00,  3.45it/s]"
          ]
        },
        {
          "output_type": "stream",
          "name": "stdout",
          "text": [
            "                   all         25        195      0.879      0.891      0.909      0.503\n"
          ]
        },
        {
          "output_type": "stream",
          "name": "stderr",
          "text": [
            "\n"
          ]
        },
        {
          "output_type": "stream",
          "name": "stdout",
          "text": [
            "\n",
            "      Epoch    GPU_mem   box_loss   cls_loss   dfl_loss  Instances       Size\n"
          ]
        },
        {
          "output_type": "stream",
          "name": "stderr",
          "text": [
            "    100/100      9.87G     0.7538     0.3672     0.9618         67        640: 100%|██████████| 38/38 [00:11<00:00,  3.38it/s]\n",
            "                 Class     Images  Instances      Box(P          R      mAP50  mAP50-95): 100%|██████████| 1/1 [00:00<00:00,  3.62it/s]"
          ]
        },
        {
          "output_type": "stream",
          "name": "stdout",
          "text": [
            "                   all         25        195      0.881       0.89      0.909      0.501\n"
          ]
        },
        {
          "output_type": "stream",
          "name": "stderr",
          "text": [
            "\n"
          ]
        },
        {
          "output_type": "stream",
          "name": "stdout",
          "text": [
            "\n",
            "100 epochs completed in 0.347 hours.\n",
            "Optimizer stripped from runs/detect/train2/weights/last.pt, 22.5MB\n",
            "Optimizer stripped from runs/detect/train2/weights/best.pt, 22.5MB\n",
            "\n",
            "Validating runs/detect/train2/weights/best.pt...\n",
            "Ultralytics 8.3.97 🚀 Python-3.11.11 torch-2.6.0+cu124 CUDA:0 (Tesla T4, 15095MiB)\n",
            "Model summary (fused): 72 layers, 11,128,293 parameters, 0 gradients, 28.5 GFLOPs\n"
          ]
        },
        {
          "output_type": "stream",
          "name": "stderr",
          "text": [
            "                 Class     Images  Instances      Box(P          R      mAP50  mAP50-95): 100%|██████████| 1/1 [00:00<00:00,  3.76it/s]\n"
          ]
        },
        {
          "output_type": "stream",
          "name": "stdout",
          "text": [
            "                   all         25        195      0.895      0.883      0.909      0.511\n",
            "                   bag         23         41      0.952      0.958      0.985      0.595\n",
            "                bottle         25         26      0.885      0.923      0.938      0.542\n",
            "                 human         24         24      0.919       0.95      0.984      0.639\n",
            "                laptop         25         44       0.95       0.86       0.92      0.545\n",
            "                mobile         17         23      0.793      0.666      0.685      0.328\n",
            "            spectacles         13         13      0.805      0.846      0.854      0.286\n",
            "              suitcase         24         24      0.959      0.981      0.993      0.645\n",
            "Speed: 0.2ms preprocess, 4.3ms inference, 0.0ms loss, 1.0ms postprocess per image\n",
            "Results saved to \u001b[1mruns/detect/train2\u001b[0m\n"
          ]
        },
        {
          "output_type": "execute_result",
          "data": {
            "text/plain": [
              "ultralytics.utils.metrics.DetMetrics object with attributes:\n",
              "\n",
              "ap_class_index: array([0, 1, 2, 3, 4, 5, 6])\n",
              "box: ultralytics.utils.metrics.Metric object\n",
              "confusion_matrix: <ultralytics.utils.metrics.ConfusionMatrix object at 0x7c2e083856d0>\n",
              "curves: ['Precision-Recall(B)', 'F1-Confidence(B)', 'Precision-Confidence(B)', 'Recall-Confidence(B)']\n",
              "curves_results: [[array([          0,    0.001001,    0.002002,    0.003003,    0.004004,    0.005005,    0.006006,    0.007007,    0.008008,    0.009009,     0.01001,    0.011011,    0.012012,    0.013013,    0.014014,    0.015015,    0.016016,    0.017017,    0.018018,    0.019019,     0.02002,    0.021021,    0.022022,    0.023023,\n",
              "          0.024024,    0.025025,    0.026026,    0.027027,    0.028028,    0.029029,     0.03003,    0.031031,    0.032032,    0.033033,    0.034034,    0.035035,    0.036036,    0.037037,    0.038038,    0.039039,     0.04004,    0.041041,    0.042042,    0.043043,    0.044044,    0.045045,    0.046046,    0.047047,\n",
              "          0.048048,    0.049049,     0.05005,    0.051051,    0.052052,    0.053053,    0.054054,    0.055055,    0.056056,    0.057057,    0.058058,    0.059059,     0.06006,    0.061061,    0.062062,    0.063063,    0.064064,    0.065065,    0.066066,    0.067067,    0.068068,    0.069069,     0.07007,    0.071071,\n",
              "          0.072072,    0.073073,    0.074074,    0.075075,    0.076076,    0.077077,    0.078078,    0.079079,     0.08008,    0.081081,    0.082082,    0.083083,    0.084084,    0.085085,    0.086086,    0.087087,    0.088088,    0.089089,     0.09009,    0.091091,    0.092092,    0.093093,    0.094094,    0.095095,\n",
              "          0.096096,    0.097097,    0.098098,    0.099099,      0.1001,      0.1011,      0.1021,      0.1031,      0.1041,     0.10511,     0.10611,     0.10711,     0.10811,     0.10911,     0.11011,     0.11111,     0.11211,     0.11311,     0.11411,     0.11512,     0.11612,     0.11712,     0.11812,     0.11912,\n",
              "           0.12012,     0.12112,     0.12212,     0.12312,     0.12412,     0.12513,     0.12613,     0.12713,     0.12813,     0.12913,     0.13013,     0.13113,     0.13213,     0.13313,     0.13413,     0.13514,     0.13614,     0.13714,     0.13814,     0.13914,     0.14014,     0.14114,     0.14214,     0.14314,\n",
              "           0.14414,     0.14515,     0.14615,     0.14715,     0.14815,     0.14915,     0.15015,     0.15115,     0.15215,     0.15315,     0.15415,     0.15516,     0.15616,     0.15716,     0.15816,     0.15916,     0.16016,     0.16116,     0.16216,     0.16316,     0.16416,     0.16517,     0.16617,     0.16717,\n",
              "           0.16817,     0.16917,     0.17017,     0.17117,     0.17217,     0.17317,     0.17417,     0.17518,     0.17618,     0.17718,     0.17818,     0.17918,     0.18018,     0.18118,     0.18218,     0.18318,     0.18418,     0.18519,     0.18619,     0.18719,     0.18819,     0.18919,     0.19019,     0.19119,\n",
              "           0.19219,     0.19319,     0.19419,      0.1952,      0.1962,      0.1972,      0.1982,      0.1992,      0.2002,      0.2012,      0.2022,      0.2032,      0.2042,     0.20521,     0.20621,     0.20721,     0.20821,     0.20921,     0.21021,     0.21121,     0.21221,     0.21321,     0.21421,     0.21522,\n",
              "           0.21622,     0.21722,     0.21822,     0.21922,     0.22022,     0.22122,     0.22222,     0.22322,     0.22422,     0.22523,     0.22623,     0.22723,     0.22823,     0.22923,     0.23023,     0.23123,     0.23223,     0.23323,     0.23423,     0.23524,     0.23624,     0.23724,     0.23824,     0.23924,\n",
              "           0.24024,     0.24124,     0.24224,     0.24324,     0.24424,     0.24525,     0.24625,     0.24725,     0.24825,     0.24925,     0.25025,     0.25125,     0.25225,     0.25325,     0.25425,     0.25526,     0.25626,     0.25726,     0.25826,     0.25926,     0.26026,     0.26126,     0.26226,     0.26326,\n",
              "           0.26426,     0.26527,     0.26627,     0.26727,     0.26827,     0.26927,     0.27027,     0.27127,     0.27227,     0.27327,     0.27427,     0.27528,     0.27628,     0.27728,     0.27828,     0.27928,     0.28028,     0.28128,     0.28228,     0.28328,     0.28428,     0.28529,     0.28629,     0.28729,\n",
              "           0.28829,     0.28929,     0.29029,     0.29129,     0.29229,     0.29329,     0.29429,      0.2953,      0.2963,      0.2973,      0.2983,      0.2993,      0.3003,      0.3013,      0.3023,      0.3033,      0.3043,     0.30531,     0.30631,     0.30731,     0.30831,     0.30931,     0.31031,     0.31131,\n",
              "           0.31231,     0.31331,     0.31431,     0.31532,     0.31632,     0.31732,     0.31832,     0.31932,     0.32032,     0.32132,     0.32232,     0.32332,     0.32432,     0.32533,     0.32633,     0.32733,     0.32833,     0.32933,     0.33033,     0.33133,     0.33233,     0.33333,     0.33433,     0.33534,\n",
              "           0.33634,     0.33734,     0.33834,     0.33934,     0.34034,     0.34134,     0.34234,     0.34334,     0.34434,     0.34535,     0.34635,     0.34735,     0.34835,     0.34935,     0.35035,     0.35135,     0.35235,     0.35335,     0.35435,     0.35536,     0.35636,     0.35736,     0.35836,     0.35936,\n",
              "           0.36036,     0.36136,     0.36236,     0.36336,     0.36436,     0.36537,     0.36637,     0.36737,     0.36837,     0.36937,     0.37037,     0.37137,     0.37237,     0.37337,     0.37437,     0.37538,     0.37638,     0.37738,     0.37838,     0.37938,     0.38038,     0.38138,     0.38238,     0.38338,\n",
              "           0.38438,     0.38539,     0.38639,     0.38739,     0.38839,     0.38939,     0.39039,     0.39139,     0.39239,     0.39339,     0.39439,      0.3954,      0.3964,      0.3974,      0.3984,      0.3994,      0.4004,      0.4014,      0.4024,      0.4034,      0.4044,     0.40541,     0.40641,     0.40741,\n",
              "           0.40841,     0.40941,     0.41041,     0.41141,     0.41241,     0.41341,     0.41441,     0.41542,     0.41642,     0.41742,     0.41842,     0.41942,     0.42042,     0.42142,     0.42242,     0.42342,     0.42442,     0.42543,     0.42643,     0.42743,     0.42843,     0.42943,     0.43043,     0.43143,\n",
              "           0.43243,     0.43343,     0.43443,     0.43544,     0.43644,     0.43744,     0.43844,     0.43944,     0.44044,     0.44144,     0.44244,     0.44344,     0.44444,     0.44545,     0.44645,     0.44745,     0.44845,     0.44945,     0.45045,     0.45145,     0.45245,     0.45345,     0.45445,     0.45546,\n",
              "           0.45646,     0.45746,     0.45846,     0.45946,     0.46046,     0.46146,     0.46246,     0.46346,     0.46446,     0.46547,     0.46647,     0.46747,     0.46847,     0.46947,     0.47047,     0.47147,     0.47247,     0.47347,     0.47447,     0.47548,     0.47648,     0.47748,     0.47848,     0.47948,\n",
              "           0.48048,     0.48148,     0.48248,     0.48348,     0.48448,     0.48549,     0.48649,     0.48749,     0.48849,     0.48949,     0.49049,     0.49149,     0.49249,     0.49349,     0.49449,      0.4955,      0.4965,      0.4975,      0.4985,      0.4995,      0.5005,      0.5015,      0.5025,      0.5035,\n",
              "            0.5045,     0.50551,     0.50651,     0.50751,     0.50851,     0.50951,     0.51051,     0.51151,     0.51251,     0.51351,     0.51451,     0.51552,     0.51652,     0.51752,     0.51852,     0.51952,     0.52052,     0.52152,     0.52252,     0.52352,     0.52452,     0.52553,     0.52653,     0.52753,\n",
              "           0.52853,     0.52953,     0.53053,     0.53153,     0.53253,     0.53353,     0.53453,     0.53554,     0.53654,     0.53754,     0.53854,     0.53954,     0.54054,     0.54154,     0.54254,     0.54354,     0.54454,     0.54555,     0.54655,     0.54755,     0.54855,     0.54955,     0.55055,     0.55155,\n",
              "           0.55255,     0.55355,     0.55455,     0.55556,     0.55656,     0.55756,     0.55856,     0.55956,     0.56056,     0.56156,     0.56256,     0.56356,     0.56456,     0.56557,     0.56657,     0.56757,     0.56857,     0.56957,     0.57057,     0.57157,     0.57257,     0.57357,     0.57457,     0.57558,\n",
              "           0.57658,     0.57758,     0.57858,     0.57958,     0.58058,     0.58158,     0.58258,     0.58358,     0.58458,     0.58559,     0.58659,     0.58759,     0.58859,     0.58959,     0.59059,     0.59159,     0.59259,     0.59359,     0.59459,      0.5956,      0.5966,      0.5976,      0.5986,      0.5996,\n",
              "            0.6006,      0.6016,      0.6026,      0.6036,      0.6046,     0.60561,     0.60661,     0.60761,     0.60861,     0.60961,     0.61061,     0.61161,     0.61261,     0.61361,     0.61461,     0.61562,     0.61662,     0.61762,     0.61862,     0.61962,     0.62062,     0.62162,     0.62262,     0.62362,\n",
              "           0.62462,     0.62563,     0.62663,     0.62763,     0.62863,     0.62963,     0.63063,     0.63163,     0.63263,     0.63363,     0.63463,     0.63564,     0.63664,     0.63764,     0.63864,     0.63964,     0.64064,     0.64164,     0.64264,     0.64364,     0.64464,     0.64565,     0.64665,     0.64765,\n",
              "           0.64865,     0.64965,     0.65065,     0.65165,     0.65265,     0.65365,     0.65465,     0.65566,     0.65666,     0.65766,     0.65866,     0.65966,     0.66066,     0.66166,     0.66266,     0.66366,     0.66466,     0.66567,     0.66667,     0.66767,     0.66867,     0.66967,     0.67067,     0.67167,\n",
              "           0.67267,     0.67367,     0.67467,     0.67568,     0.67668,     0.67768,     0.67868,     0.67968,     0.68068,     0.68168,     0.68268,     0.68368,     0.68468,     0.68569,     0.68669,     0.68769,     0.68869,     0.68969,     0.69069,     0.69169,     0.69269,     0.69369,     0.69469,      0.6957,\n",
              "            0.6967,      0.6977,      0.6987,      0.6997,      0.7007,      0.7017,      0.7027,      0.7037,      0.7047,     0.70571,     0.70671,     0.70771,     0.70871,     0.70971,     0.71071,     0.71171,     0.71271,     0.71371,     0.71471,     0.71572,     0.71672,     0.71772,     0.71872,     0.71972,\n",
              "           0.72072,     0.72172,     0.72272,     0.72372,     0.72472,     0.72573,     0.72673,     0.72773,     0.72873,     0.72973,     0.73073,     0.73173,     0.73273,     0.73373,     0.73473,     0.73574,     0.73674,     0.73774,     0.73874,     0.73974,     0.74074,     0.74174,     0.74274,     0.74374,\n",
              "           0.74474,     0.74575,     0.74675,     0.74775,     0.74875,     0.74975,     0.75075,     0.75175,     0.75275,     0.75375,     0.75475,     0.75576,     0.75676,     0.75776,     0.75876,     0.75976,     0.76076,     0.76176,     0.76276,     0.76376,     0.76476,     0.76577,     0.76677,     0.76777,\n",
              "           0.76877,     0.76977,     0.77077,     0.77177,     0.77277,     0.77377,     0.77477,     0.77578,     0.77678,     0.77778,     0.77878,     0.77978,     0.78078,     0.78178,     0.78278,     0.78378,     0.78478,     0.78579,     0.78679,     0.78779,     0.78879,     0.78979,     0.79079,     0.79179,\n",
              "           0.79279,     0.79379,     0.79479,      0.7958,      0.7968,      0.7978,      0.7988,      0.7998,      0.8008,      0.8018,      0.8028,      0.8038,      0.8048,     0.80581,     0.80681,     0.80781,     0.80881,     0.80981,     0.81081,     0.81181,     0.81281,     0.81381,     0.81481,     0.81582,\n",
              "           0.81682,     0.81782,     0.81882,     0.81982,     0.82082,     0.82182,     0.82282,     0.82382,     0.82482,     0.82583,     0.82683,     0.82783,     0.82883,     0.82983,     0.83083,     0.83183,     0.83283,     0.83383,     0.83483,     0.83584,     0.83684,     0.83784,     0.83884,     0.83984,\n",
              "           0.84084,     0.84184,     0.84284,     0.84384,     0.84484,     0.84585,     0.84685,     0.84785,     0.84885,     0.84985,     0.85085,     0.85185,     0.85285,     0.85385,     0.85485,     0.85586,     0.85686,     0.85786,     0.85886,     0.85986,     0.86086,     0.86186,     0.86286,     0.86386,\n",
              "           0.86486,     0.86587,     0.86687,     0.86787,     0.86887,     0.86987,     0.87087,     0.87187,     0.87287,     0.87387,     0.87487,     0.87588,     0.87688,     0.87788,     0.87888,     0.87988,     0.88088,     0.88188,     0.88288,     0.88388,     0.88488,     0.88589,     0.88689,     0.88789,\n",
              "           0.88889,     0.88989,     0.89089,     0.89189,     0.89289,     0.89389,     0.89489,      0.8959,      0.8969,      0.8979,      0.8989,      0.8999,      0.9009,      0.9019,      0.9029,      0.9039,      0.9049,     0.90591,     0.90691,     0.90791,     0.90891,     0.90991,     0.91091,     0.91191,\n",
              "           0.91291,     0.91391,     0.91491,     0.91592,     0.91692,     0.91792,     0.91892,     0.91992,     0.92092,     0.92192,     0.92292,     0.92392,     0.92492,     0.92593,     0.92693,     0.92793,     0.92893,     0.92993,     0.93093,     0.93193,     0.93293,     0.93393,     0.93493,     0.93594,\n",
              "           0.93694,     0.93794,     0.93894,     0.93994,     0.94094,     0.94194,     0.94294,     0.94394,     0.94494,     0.94595,     0.94695,     0.94795,     0.94895,     0.94995,     0.95095,     0.95195,     0.95295,     0.95395,     0.95495,     0.95596,     0.95696,     0.95796,     0.95896,     0.95996,\n",
              "           0.96096,     0.96196,     0.96296,     0.96396,     0.96496,     0.96597,     0.96697,     0.96797,     0.96897,     0.96997,     0.97097,     0.97197,     0.97297,     0.97397,     0.97497,     0.97598,     0.97698,     0.97798,     0.97898,     0.97998,     0.98098,     0.98198,     0.98298,     0.98398,\n",
              "           0.98498,     0.98599,     0.98699,     0.98799,     0.98899,     0.98999,     0.99099,     0.99199,     0.99299,     0.99399,     0.99499,       0.996,       0.997,       0.998,       0.999,           1]), array([[          1,           1,           1, ...,     0.95349,     0.95349,           0],\n",
              "       [          1,           1,           1, ...,    0.011357,   0.0056784,           0],\n",
              "       [          1,           1,           1, ...,     0.88889,     0.88889,           0],\n",
              "       ...,\n",
              "       [          1,           1,           1, ...,   0.0028779,   0.0014389,           0],\n",
              "       [          1,           1,           1, ...,   0.0052052,   0.0026026,           0],\n",
              "       [          1,           1,           1, ...,        0.96,        0.96,           0]]), 'Recall', 'Precision'], [array([          0,    0.001001,    0.002002,    0.003003,    0.004004,    0.005005,    0.006006,    0.007007,    0.008008,    0.009009,     0.01001,    0.011011,    0.012012,    0.013013,    0.014014,    0.015015,    0.016016,    0.017017,    0.018018,    0.019019,     0.02002,    0.021021,    0.022022,    0.023023,\n",
              "          0.024024,    0.025025,    0.026026,    0.027027,    0.028028,    0.029029,     0.03003,    0.031031,    0.032032,    0.033033,    0.034034,    0.035035,    0.036036,    0.037037,    0.038038,    0.039039,     0.04004,    0.041041,    0.042042,    0.043043,    0.044044,    0.045045,    0.046046,    0.047047,\n",
              "          0.048048,    0.049049,     0.05005,    0.051051,    0.052052,    0.053053,    0.054054,    0.055055,    0.056056,    0.057057,    0.058058,    0.059059,     0.06006,    0.061061,    0.062062,    0.063063,    0.064064,    0.065065,    0.066066,    0.067067,    0.068068,    0.069069,     0.07007,    0.071071,\n",
              "          0.072072,    0.073073,    0.074074,    0.075075,    0.076076,    0.077077,    0.078078,    0.079079,     0.08008,    0.081081,    0.082082,    0.083083,    0.084084,    0.085085,    0.086086,    0.087087,    0.088088,    0.089089,     0.09009,    0.091091,    0.092092,    0.093093,    0.094094,    0.095095,\n",
              "          0.096096,    0.097097,    0.098098,    0.099099,      0.1001,      0.1011,      0.1021,      0.1031,      0.1041,     0.10511,     0.10611,     0.10711,     0.10811,     0.10911,     0.11011,     0.11111,     0.11211,     0.11311,     0.11411,     0.11512,     0.11612,     0.11712,     0.11812,     0.11912,\n",
              "           0.12012,     0.12112,     0.12212,     0.12312,     0.12412,     0.12513,     0.12613,     0.12713,     0.12813,     0.12913,     0.13013,     0.13113,     0.13213,     0.13313,     0.13413,     0.13514,     0.13614,     0.13714,     0.13814,     0.13914,     0.14014,     0.14114,     0.14214,     0.14314,\n",
              "           0.14414,     0.14515,     0.14615,     0.14715,     0.14815,     0.14915,     0.15015,     0.15115,     0.15215,     0.15315,     0.15415,     0.15516,     0.15616,     0.15716,     0.15816,     0.15916,     0.16016,     0.16116,     0.16216,     0.16316,     0.16416,     0.16517,     0.16617,     0.16717,\n",
              "           0.16817,     0.16917,     0.17017,     0.17117,     0.17217,     0.17317,     0.17417,     0.17518,     0.17618,     0.17718,     0.17818,     0.17918,     0.18018,     0.18118,     0.18218,     0.18318,     0.18418,     0.18519,     0.18619,     0.18719,     0.18819,     0.18919,     0.19019,     0.19119,\n",
              "           0.19219,     0.19319,     0.19419,      0.1952,      0.1962,      0.1972,      0.1982,      0.1992,      0.2002,      0.2012,      0.2022,      0.2032,      0.2042,     0.20521,     0.20621,     0.20721,     0.20821,     0.20921,     0.21021,     0.21121,     0.21221,     0.21321,     0.21421,     0.21522,\n",
              "           0.21622,     0.21722,     0.21822,     0.21922,     0.22022,     0.22122,     0.22222,     0.22322,     0.22422,     0.22523,     0.22623,     0.22723,     0.22823,     0.22923,     0.23023,     0.23123,     0.23223,     0.23323,     0.23423,     0.23524,     0.23624,     0.23724,     0.23824,     0.23924,\n",
              "           0.24024,     0.24124,     0.24224,     0.24324,     0.24424,     0.24525,     0.24625,     0.24725,     0.24825,     0.24925,     0.25025,     0.25125,     0.25225,     0.25325,     0.25425,     0.25526,     0.25626,     0.25726,     0.25826,     0.25926,     0.26026,     0.26126,     0.26226,     0.26326,\n",
              "           0.26426,     0.26527,     0.26627,     0.26727,     0.26827,     0.26927,     0.27027,     0.27127,     0.27227,     0.27327,     0.27427,     0.27528,     0.27628,     0.27728,     0.27828,     0.27928,     0.28028,     0.28128,     0.28228,     0.28328,     0.28428,     0.28529,     0.28629,     0.28729,\n",
              "           0.28829,     0.28929,     0.29029,     0.29129,     0.29229,     0.29329,     0.29429,      0.2953,      0.2963,      0.2973,      0.2983,      0.2993,      0.3003,      0.3013,      0.3023,      0.3033,      0.3043,     0.30531,     0.30631,     0.30731,     0.30831,     0.30931,     0.31031,     0.31131,\n",
              "           0.31231,     0.31331,     0.31431,     0.31532,     0.31632,     0.31732,     0.31832,     0.31932,     0.32032,     0.32132,     0.32232,     0.32332,     0.32432,     0.32533,     0.32633,     0.32733,     0.32833,     0.32933,     0.33033,     0.33133,     0.33233,     0.33333,     0.33433,     0.33534,\n",
              "           0.33634,     0.33734,     0.33834,     0.33934,     0.34034,     0.34134,     0.34234,     0.34334,     0.34434,     0.34535,     0.34635,     0.34735,     0.34835,     0.34935,     0.35035,     0.35135,     0.35235,     0.35335,     0.35435,     0.35536,     0.35636,     0.35736,     0.35836,     0.35936,\n",
              "           0.36036,     0.36136,     0.36236,     0.36336,     0.36436,     0.36537,     0.36637,     0.36737,     0.36837,     0.36937,     0.37037,     0.37137,     0.37237,     0.37337,     0.37437,     0.37538,     0.37638,     0.37738,     0.37838,     0.37938,     0.38038,     0.38138,     0.38238,     0.38338,\n",
              "           0.38438,     0.38539,     0.38639,     0.38739,     0.38839,     0.38939,     0.39039,     0.39139,     0.39239,     0.39339,     0.39439,      0.3954,      0.3964,      0.3974,      0.3984,      0.3994,      0.4004,      0.4014,      0.4024,      0.4034,      0.4044,     0.40541,     0.40641,     0.40741,\n",
              "           0.40841,     0.40941,     0.41041,     0.41141,     0.41241,     0.41341,     0.41441,     0.41542,     0.41642,     0.41742,     0.41842,     0.41942,     0.42042,     0.42142,     0.42242,     0.42342,     0.42442,     0.42543,     0.42643,     0.42743,     0.42843,     0.42943,     0.43043,     0.43143,\n",
              "           0.43243,     0.43343,     0.43443,     0.43544,     0.43644,     0.43744,     0.43844,     0.43944,     0.44044,     0.44144,     0.44244,     0.44344,     0.44444,     0.44545,     0.44645,     0.44745,     0.44845,     0.44945,     0.45045,     0.45145,     0.45245,     0.45345,     0.45445,     0.45546,\n",
              "           0.45646,     0.45746,     0.45846,     0.45946,     0.46046,     0.46146,     0.46246,     0.46346,     0.46446,     0.46547,     0.46647,     0.46747,     0.46847,     0.46947,     0.47047,     0.47147,     0.47247,     0.47347,     0.47447,     0.47548,     0.47648,     0.47748,     0.47848,     0.47948,\n",
              "           0.48048,     0.48148,     0.48248,     0.48348,     0.48448,     0.48549,     0.48649,     0.48749,     0.48849,     0.48949,     0.49049,     0.49149,     0.49249,     0.49349,     0.49449,      0.4955,      0.4965,      0.4975,      0.4985,      0.4995,      0.5005,      0.5015,      0.5025,      0.5035,\n",
              "            0.5045,     0.50551,     0.50651,     0.50751,     0.50851,     0.50951,     0.51051,     0.51151,     0.51251,     0.51351,     0.51451,     0.51552,     0.51652,     0.51752,     0.51852,     0.51952,     0.52052,     0.52152,     0.52252,     0.52352,     0.52452,     0.52553,     0.52653,     0.52753,\n",
              "           0.52853,     0.52953,     0.53053,     0.53153,     0.53253,     0.53353,     0.53453,     0.53554,     0.53654,     0.53754,     0.53854,     0.53954,     0.54054,     0.54154,     0.54254,     0.54354,     0.54454,     0.54555,     0.54655,     0.54755,     0.54855,     0.54955,     0.55055,     0.55155,\n",
              "           0.55255,     0.55355,     0.55455,     0.55556,     0.55656,     0.55756,     0.55856,     0.55956,     0.56056,     0.56156,     0.56256,     0.56356,     0.56456,     0.56557,     0.56657,     0.56757,     0.56857,     0.56957,     0.57057,     0.57157,     0.57257,     0.57357,     0.57457,     0.57558,\n",
              "           0.57658,     0.57758,     0.57858,     0.57958,     0.58058,     0.58158,     0.58258,     0.58358,     0.58458,     0.58559,     0.58659,     0.58759,     0.58859,     0.58959,     0.59059,     0.59159,     0.59259,     0.59359,     0.59459,      0.5956,      0.5966,      0.5976,      0.5986,      0.5996,\n",
              "            0.6006,      0.6016,      0.6026,      0.6036,      0.6046,     0.60561,     0.60661,     0.60761,     0.60861,     0.60961,     0.61061,     0.61161,     0.61261,     0.61361,     0.61461,     0.61562,     0.61662,     0.61762,     0.61862,     0.61962,     0.62062,     0.62162,     0.62262,     0.62362,\n",
              "           0.62462,     0.62563,     0.62663,     0.62763,     0.62863,     0.62963,     0.63063,     0.63163,     0.63263,     0.63363,     0.63463,     0.63564,     0.63664,     0.63764,     0.63864,     0.63964,     0.64064,     0.64164,     0.64264,     0.64364,     0.64464,     0.64565,     0.64665,     0.64765,\n",
              "           0.64865,     0.64965,     0.65065,     0.65165,     0.65265,     0.65365,     0.65465,     0.65566,     0.65666,     0.65766,     0.65866,     0.65966,     0.66066,     0.66166,     0.66266,     0.66366,     0.66466,     0.66567,     0.66667,     0.66767,     0.66867,     0.66967,     0.67067,     0.67167,\n",
              "           0.67267,     0.67367,     0.67467,     0.67568,     0.67668,     0.67768,     0.67868,     0.67968,     0.68068,     0.68168,     0.68268,     0.68368,     0.68468,     0.68569,     0.68669,     0.68769,     0.68869,     0.68969,     0.69069,     0.69169,     0.69269,     0.69369,     0.69469,      0.6957,\n",
              "            0.6967,      0.6977,      0.6987,      0.6997,      0.7007,      0.7017,      0.7027,      0.7037,      0.7047,     0.70571,     0.70671,     0.70771,     0.70871,     0.70971,     0.71071,     0.71171,     0.71271,     0.71371,     0.71471,     0.71572,     0.71672,     0.71772,     0.71872,     0.71972,\n",
              "           0.72072,     0.72172,     0.72272,     0.72372,     0.72472,     0.72573,     0.72673,     0.72773,     0.72873,     0.72973,     0.73073,     0.73173,     0.73273,     0.73373,     0.73473,     0.73574,     0.73674,     0.73774,     0.73874,     0.73974,     0.74074,     0.74174,     0.74274,     0.74374,\n",
              "           0.74474,     0.74575,     0.74675,     0.74775,     0.74875,     0.74975,     0.75075,     0.75175,     0.75275,     0.75375,     0.75475,     0.75576,     0.75676,     0.75776,     0.75876,     0.75976,     0.76076,     0.76176,     0.76276,     0.76376,     0.76476,     0.76577,     0.76677,     0.76777,\n",
              "           0.76877,     0.76977,     0.77077,     0.77177,     0.77277,     0.77377,     0.77477,     0.77578,     0.77678,     0.77778,     0.77878,     0.77978,     0.78078,     0.78178,     0.78278,     0.78378,     0.78478,     0.78579,     0.78679,     0.78779,     0.78879,     0.78979,     0.79079,     0.79179,\n",
              "           0.79279,     0.79379,     0.79479,      0.7958,      0.7968,      0.7978,      0.7988,      0.7998,      0.8008,      0.8018,      0.8028,      0.8038,      0.8048,     0.80581,     0.80681,     0.80781,     0.80881,     0.80981,     0.81081,     0.81181,     0.81281,     0.81381,     0.81481,     0.81582,\n",
              "           0.81682,     0.81782,     0.81882,     0.81982,     0.82082,     0.82182,     0.82282,     0.82382,     0.82482,     0.82583,     0.82683,     0.82783,     0.82883,     0.82983,     0.83083,     0.83183,     0.83283,     0.83383,     0.83483,     0.83584,     0.83684,     0.83784,     0.83884,     0.83984,\n",
              "           0.84084,     0.84184,     0.84284,     0.84384,     0.84484,     0.84585,     0.84685,     0.84785,     0.84885,     0.84985,     0.85085,     0.85185,     0.85285,     0.85385,     0.85485,     0.85586,     0.85686,     0.85786,     0.85886,     0.85986,     0.86086,     0.86186,     0.86286,     0.86386,\n",
              "           0.86486,     0.86587,     0.86687,     0.86787,     0.86887,     0.86987,     0.87087,     0.87187,     0.87287,     0.87387,     0.87487,     0.87588,     0.87688,     0.87788,     0.87888,     0.87988,     0.88088,     0.88188,     0.88288,     0.88388,     0.88488,     0.88589,     0.88689,     0.88789,\n",
              "           0.88889,     0.88989,     0.89089,     0.89189,     0.89289,     0.89389,     0.89489,      0.8959,      0.8969,      0.8979,      0.8989,      0.8999,      0.9009,      0.9019,      0.9029,      0.9039,      0.9049,     0.90591,     0.90691,     0.90791,     0.90891,     0.90991,     0.91091,     0.91191,\n",
              "           0.91291,     0.91391,     0.91491,     0.91592,     0.91692,     0.91792,     0.91892,     0.91992,     0.92092,     0.92192,     0.92292,     0.92392,     0.92492,     0.92593,     0.92693,     0.92793,     0.92893,     0.92993,     0.93093,     0.93193,     0.93293,     0.93393,     0.93493,     0.93594,\n",
              "           0.93694,     0.93794,     0.93894,     0.93994,     0.94094,     0.94194,     0.94294,     0.94394,     0.94494,     0.94595,     0.94695,     0.94795,     0.94895,     0.94995,     0.95095,     0.95195,     0.95295,     0.95395,     0.95495,     0.95596,     0.95696,     0.95796,     0.95896,     0.95996,\n",
              "           0.96096,     0.96196,     0.96296,     0.96396,     0.96496,     0.96597,     0.96697,     0.96797,     0.96897,     0.96997,     0.97097,     0.97197,     0.97297,     0.97397,     0.97497,     0.97598,     0.97698,     0.97798,     0.97898,     0.97998,     0.98098,     0.98198,     0.98298,     0.98398,\n",
              "           0.98498,     0.98599,     0.98699,     0.98799,     0.98899,     0.98999,     0.99099,     0.99199,     0.99299,     0.99399,     0.99499,       0.996,       0.997,       0.998,       0.999,           1]), array([[    0.73214,     0.73214,      0.7858, ...,           0,           0,           0],\n",
              "       [    0.59259,     0.59259,     0.73501, ...,           0,           0,           0],\n",
              "       [    0.66667,     0.66667,     0.80708, ...,           0,           0,           0],\n",
              "       ...,\n",
              "       [    0.38384,     0.38384,     0.49096, ...,           0,           0,           0],\n",
              "       [    0.32877,     0.32877,     0.37816, ...,           0,           0,           0],\n",
              "       [        0.6,         0.6,     0.69205, ...,           0,           0,           0]]), 'Confidence', 'F1'], [array([          0,    0.001001,    0.002002,    0.003003,    0.004004,    0.005005,    0.006006,    0.007007,    0.008008,    0.009009,     0.01001,    0.011011,    0.012012,    0.013013,    0.014014,    0.015015,    0.016016,    0.017017,    0.018018,    0.019019,     0.02002,    0.021021,    0.022022,    0.023023,\n",
              "          0.024024,    0.025025,    0.026026,    0.027027,    0.028028,    0.029029,     0.03003,    0.031031,    0.032032,    0.033033,    0.034034,    0.035035,    0.036036,    0.037037,    0.038038,    0.039039,     0.04004,    0.041041,    0.042042,    0.043043,    0.044044,    0.045045,    0.046046,    0.047047,\n",
              "          0.048048,    0.049049,     0.05005,    0.051051,    0.052052,    0.053053,    0.054054,    0.055055,    0.056056,    0.057057,    0.058058,    0.059059,     0.06006,    0.061061,    0.062062,    0.063063,    0.064064,    0.065065,    0.066066,    0.067067,    0.068068,    0.069069,     0.07007,    0.071071,\n",
              "          0.072072,    0.073073,    0.074074,    0.075075,    0.076076,    0.077077,    0.078078,    0.079079,     0.08008,    0.081081,    0.082082,    0.083083,    0.084084,    0.085085,    0.086086,    0.087087,    0.088088,    0.089089,     0.09009,    0.091091,    0.092092,    0.093093,    0.094094,    0.095095,\n",
              "          0.096096,    0.097097,    0.098098,    0.099099,      0.1001,      0.1011,      0.1021,      0.1031,      0.1041,     0.10511,     0.10611,     0.10711,     0.10811,     0.10911,     0.11011,     0.11111,     0.11211,     0.11311,     0.11411,     0.11512,     0.11612,     0.11712,     0.11812,     0.11912,\n",
              "           0.12012,     0.12112,     0.12212,     0.12312,     0.12412,     0.12513,     0.12613,     0.12713,     0.12813,     0.12913,     0.13013,     0.13113,     0.13213,     0.13313,     0.13413,     0.13514,     0.13614,     0.13714,     0.13814,     0.13914,     0.14014,     0.14114,     0.14214,     0.14314,\n",
              "           0.14414,     0.14515,     0.14615,     0.14715,     0.14815,     0.14915,     0.15015,     0.15115,     0.15215,     0.15315,     0.15415,     0.15516,     0.15616,     0.15716,     0.15816,     0.15916,     0.16016,     0.16116,     0.16216,     0.16316,     0.16416,     0.16517,     0.16617,     0.16717,\n",
              "           0.16817,     0.16917,     0.17017,     0.17117,     0.17217,     0.17317,     0.17417,     0.17518,     0.17618,     0.17718,     0.17818,     0.17918,     0.18018,     0.18118,     0.18218,     0.18318,     0.18418,     0.18519,     0.18619,     0.18719,     0.18819,     0.18919,     0.19019,     0.19119,\n",
              "           0.19219,     0.19319,     0.19419,      0.1952,      0.1962,      0.1972,      0.1982,      0.1992,      0.2002,      0.2012,      0.2022,      0.2032,      0.2042,     0.20521,     0.20621,     0.20721,     0.20821,     0.20921,     0.21021,     0.21121,     0.21221,     0.21321,     0.21421,     0.21522,\n",
              "           0.21622,     0.21722,     0.21822,     0.21922,     0.22022,     0.22122,     0.22222,     0.22322,     0.22422,     0.22523,     0.22623,     0.22723,     0.22823,     0.22923,     0.23023,     0.23123,     0.23223,     0.23323,     0.23423,     0.23524,     0.23624,     0.23724,     0.23824,     0.23924,\n",
              "           0.24024,     0.24124,     0.24224,     0.24324,     0.24424,     0.24525,     0.24625,     0.24725,     0.24825,     0.24925,     0.25025,     0.25125,     0.25225,     0.25325,     0.25425,     0.25526,     0.25626,     0.25726,     0.25826,     0.25926,     0.26026,     0.26126,     0.26226,     0.26326,\n",
              "           0.26426,     0.26527,     0.26627,     0.26727,     0.26827,     0.26927,     0.27027,     0.27127,     0.27227,     0.27327,     0.27427,     0.27528,     0.27628,     0.27728,     0.27828,     0.27928,     0.28028,     0.28128,     0.28228,     0.28328,     0.28428,     0.28529,     0.28629,     0.28729,\n",
              "           0.28829,     0.28929,     0.29029,     0.29129,     0.29229,     0.29329,     0.29429,      0.2953,      0.2963,      0.2973,      0.2983,      0.2993,      0.3003,      0.3013,      0.3023,      0.3033,      0.3043,     0.30531,     0.30631,     0.30731,     0.30831,     0.30931,     0.31031,     0.31131,\n",
              "           0.31231,     0.31331,     0.31431,     0.31532,     0.31632,     0.31732,     0.31832,     0.31932,     0.32032,     0.32132,     0.32232,     0.32332,     0.32432,     0.32533,     0.32633,     0.32733,     0.32833,     0.32933,     0.33033,     0.33133,     0.33233,     0.33333,     0.33433,     0.33534,\n",
              "           0.33634,     0.33734,     0.33834,     0.33934,     0.34034,     0.34134,     0.34234,     0.34334,     0.34434,     0.34535,     0.34635,     0.34735,     0.34835,     0.34935,     0.35035,     0.35135,     0.35235,     0.35335,     0.35435,     0.35536,     0.35636,     0.35736,     0.35836,     0.35936,\n",
              "           0.36036,     0.36136,     0.36236,     0.36336,     0.36436,     0.36537,     0.36637,     0.36737,     0.36837,     0.36937,     0.37037,     0.37137,     0.37237,     0.37337,     0.37437,     0.37538,     0.37638,     0.37738,     0.37838,     0.37938,     0.38038,     0.38138,     0.38238,     0.38338,\n",
              "           0.38438,     0.38539,     0.38639,     0.38739,     0.38839,     0.38939,     0.39039,     0.39139,     0.39239,     0.39339,     0.39439,      0.3954,      0.3964,      0.3974,      0.3984,      0.3994,      0.4004,      0.4014,      0.4024,      0.4034,      0.4044,     0.40541,     0.40641,     0.40741,\n",
              "           0.40841,     0.40941,     0.41041,     0.41141,     0.41241,     0.41341,     0.41441,     0.41542,     0.41642,     0.41742,     0.41842,     0.41942,     0.42042,     0.42142,     0.42242,     0.42342,     0.42442,     0.42543,     0.42643,     0.42743,     0.42843,     0.42943,     0.43043,     0.43143,\n",
              "           0.43243,     0.43343,     0.43443,     0.43544,     0.43644,     0.43744,     0.43844,     0.43944,     0.44044,     0.44144,     0.44244,     0.44344,     0.44444,     0.44545,     0.44645,     0.44745,     0.44845,     0.44945,     0.45045,     0.45145,     0.45245,     0.45345,     0.45445,     0.45546,\n",
              "           0.45646,     0.45746,     0.45846,     0.45946,     0.46046,     0.46146,     0.46246,     0.46346,     0.46446,     0.46547,     0.46647,     0.46747,     0.46847,     0.46947,     0.47047,     0.47147,     0.47247,     0.47347,     0.47447,     0.47548,     0.47648,     0.47748,     0.47848,     0.47948,\n",
              "           0.48048,     0.48148,     0.48248,     0.48348,     0.48448,     0.48549,     0.48649,     0.48749,     0.48849,     0.48949,     0.49049,     0.49149,     0.49249,     0.49349,     0.49449,      0.4955,      0.4965,      0.4975,      0.4985,      0.4995,      0.5005,      0.5015,      0.5025,      0.5035,\n",
              "            0.5045,     0.50551,     0.50651,     0.50751,     0.50851,     0.50951,     0.51051,     0.51151,     0.51251,     0.51351,     0.51451,     0.51552,     0.51652,     0.51752,     0.51852,     0.51952,     0.52052,     0.52152,     0.52252,     0.52352,     0.52452,     0.52553,     0.52653,     0.52753,\n",
              "           0.52853,     0.52953,     0.53053,     0.53153,     0.53253,     0.53353,     0.53453,     0.53554,     0.53654,     0.53754,     0.53854,     0.53954,     0.54054,     0.54154,     0.54254,     0.54354,     0.54454,     0.54555,     0.54655,     0.54755,     0.54855,     0.54955,     0.55055,     0.55155,\n",
              "           0.55255,     0.55355,     0.55455,     0.55556,     0.55656,     0.55756,     0.55856,     0.55956,     0.56056,     0.56156,     0.56256,     0.56356,     0.56456,     0.56557,     0.56657,     0.56757,     0.56857,     0.56957,     0.57057,     0.57157,     0.57257,     0.57357,     0.57457,     0.57558,\n",
              "           0.57658,     0.57758,     0.57858,     0.57958,     0.58058,     0.58158,     0.58258,     0.58358,     0.58458,     0.58559,     0.58659,     0.58759,     0.58859,     0.58959,     0.59059,     0.59159,     0.59259,     0.59359,     0.59459,      0.5956,      0.5966,      0.5976,      0.5986,      0.5996,\n",
              "            0.6006,      0.6016,      0.6026,      0.6036,      0.6046,     0.60561,     0.60661,     0.60761,     0.60861,     0.60961,     0.61061,     0.61161,     0.61261,     0.61361,     0.61461,     0.61562,     0.61662,     0.61762,     0.61862,     0.61962,     0.62062,     0.62162,     0.62262,     0.62362,\n",
              "           0.62462,     0.62563,     0.62663,     0.62763,     0.62863,     0.62963,     0.63063,     0.63163,     0.63263,     0.63363,     0.63463,     0.63564,     0.63664,     0.63764,     0.63864,     0.63964,     0.64064,     0.64164,     0.64264,     0.64364,     0.64464,     0.64565,     0.64665,     0.64765,\n",
              "           0.64865,     0.64965,     0.65065,     0.65165,     0.65265,     0.65365,     0.65465,     0.65566,     0.65666,     0.65766,     0.65866,     0.65966,     0.66066,     0.66166,     0.66266,     0.66366,     0.66466,     0.66567,     0.66667,     0.66767,     0.66867,     0.66967,     0.67067,     0.67167,\n",
              "           0.67267,     0.67367,     0.67467,     0.67568,     0.67668,     0.67768,     0.67868,     0.67968,     0.68068,     0.68168,     0.68268,     0.68368,     0.68468,     0.68569,     0.68669,     0.68769,     0.68869,     0.68969,     0.69069,     0.69169,     0.69269,     0.69369,     0.69469,      0.6957,\n",
              "            0.6967,      0.6977,      0.6987,      0.6997,      0.7007,      0.7017,      0.7027,      0.7037,      0.7047,     0.70571,     0.70671,     0.70771,     0.70871,     0.70971,     0.71071,     0.71171,     0.71271,     0.71371,     0.71471,     0.71572,     0.71672,     0.71772,     0.71872,     0.71972,\n",
              "           0.72072,     0.72172,     0.72272,     0.72372,     0.72472,     0.72573,     0.72673,     0.72773,     0.72873,     0.72973,     0.73073,     0.73173,     0.73273,     0.73373,     0.73473,     0.73574,     0.73674,     0.73774,     0.73874,     0.73974,     0.74074,     0.74174,     0.74274,     0.74374,\n",
              "           0.74474,     0.74575,     0.74675,     0.74775,     0.74875,     0.74975,     0.75075,     0.75175,     0.75275,     0.75375,     0.75475,     0.75576,     0.75676,     0.75776,     0.75876,     0.75976,     0.76076,     0.76176,     0.76276,     0.76376,     0.76476,     0.76577,     0.76677,     0.76777,\n",
              "           0.76877,     0.76977,     0.77077,     0.77177,     0.77277,     0.77377,     0.77477,     0.77578,     0.77678,     0.77778,     0.77878,     0.77978,     0.78078,     0.78178,     0.78278,     0.78378,     0.78478,     0.78579,     0.78679,     0.78779,     0.78879,     0.78979,     0.79079,     0.79179,\n",
              "           0.79279,     0.79379,     0.79479,      0.7958,      0.7968,      0.7978,      0.7988,      0.7998,      0.8008,      0.8018,      0.8028,      0.8038,      0.8048,     0.80581,     0.80681,     0.80781,     0.80881,     0.80981,     0.81081,     0.81181,     0.81281,     0.81381,     0.81481,     0.81582,\n",
              "           0.81682,     0.81782,     0.81882,     0.81982,     0.82082,     0.82182,     0.82282,     0.82382,     0.82482,     0.82583,     0.82683,     0.82783,     0.82883,     0.82983,     0.83083,     0.83183,     0.83283,     0.83383,     0.83483,     0.83584,     0.83684,     0.83784,     0.83884,     0.83984,\n",
              "           0.84084,     0.84184,     0.84284,     0.84384,     0.84484,     0.84585,     0.84685,     0.84785,     0.84885,     0.84985,     0.85085,     0.85185,     0.85285,     0.85385,     0.85485,     0.85586,     0.85686,     0.85786,     0.85886,     0.85986,     0.86086,     0.86186,     0.86286,     0.86386,\n",
              "           0.86486,     0.86587,     0.86687,     0.86787,     0.86887,     0.86987,     0.87087,     0.87187,     0.87287,     0.87387,     0.87487,     0.87588,     0.87688,     0.87788,     0.87888,     0.87988,     0.88088,     0.88188,     0.88288,     0.88388,     0.88488,     0.88589,     0.88689,     0.88789,\n",
              "           0.88889,     0.88989,     0.89089,     0.89189,     0.89289,     0.89389,     0.89489,      0.8959,      0.8969,      0.8979,      0.8989,      0.8999,      0.9009,      0.9019,      0.9029,      0.9039,      0.9049,     0.90591,     0.90691,     0.90791,     0.90891,     0.90991,     0.91091,     0.91191,\n",
              "           0.91291,     0.91391,     0.91491,     0.91592,     0.91692,     0.91792,     0.91892,     0.91992,     0.92092,     0.92192,     0.92292,     0.92392,     0.92492,     0.92593,     0.92693,     0.92793,     0.92893,     0.92993,     0.93093,     0.93193,     0.93293,     0.93393,     0.93493,     0.93594,\n",
              "           0.93694,     0.93794,     0.93894,     0.93994,     0.94094,     0.94194,     0.94294,     0.94394,     0.94494,     0.94595,     0.94695,     0.94795,     0.94895,     0.94995,     0.95095,     0.95195,     0.95295,     0.95395,     0.95495,     0.95596,     0.95696,     0.95796,     0.95896,     0.95996,\n",
              "           0.96096,     0.96196,     0.96296,     0.96396,     0.96496,     0.96597,     0.96697,     0.96797,     0.96897,     0.96997,     0.97097,     0.97197,     0.97297,     0.97397,     0.97497,     0.97598,     0.97698,     0.97798,     0.97898,     0.97998,     0.98098,     0.98198,     0.98298,     0.98398,\n",
              "           0.98498,     0.98599,     0.98699,     0.98799,     0.98899,     0.98999,     0.99099,     0.99199,     0.99299,     0.99399,     0.99499,       0.996,       0.997,       0.998,       0.999,           1]), array([[    0.57746,     0.57746,     0.64718, ...,           1,           1,           1],\n",
              "       [    0.43636,     0.43636,      0.6106, ...,           1,           1,           1],\n",
              "       [        0.5,         0.5,     0.67655, ...,           1,           1,           1],\n",
              "       ...,\n",
              "       [       0.25,        0.25,     0.34927, ...,           1,           1,           1],\n",
              "       [        0.2,         0.2,     0.23779, ...,           1,           1,           1],\n",
              "       [    0.42857,     0.42857,     0.52911, ...,           1,           1,           1]]), 'Confidence', 'Precision'], [array([          0,    0.001001,    0.002002,    0.003003,    0.004004,    0.005005,    0.006006,    0.007007,    0.008008,    0.009009,     0.01001,    0.011011,    0.012012,    0.013013,    0.014014,    0.015015,    0.016016,    0.017017,    0.018018,    0.019019,     0.02002,    0.021021,    0.022022,    0.023023,\n",
              "          0.024024,    0.025025,    0.026026,    0.027027,    0.028028,    0.029029,     0.03003,    0.031031,    0.032032,    0.033033,    0.034034,    0.035035,    0.036036,    0.037037,    0.038038,    0.039039,     0.04004,    0.041041,    0.042042,    0.043043,    0.044044,    0.045045,    0.046046,    0.047047,\n",
              "          0.048048,    0.049049,     0.05005,    0.051051,    0.052052,    0.053053,    0.054054,    0.055055,    0.056056,    0.057057,    0.058058,    0.059059,     0.06006,    0.061061,    0.062062,    0.063063,    0.064064,    0.065065,    0.066066,    0.067067,    0.068068,    0.069069,     0.07007,    0.071071,\n",
              "          0.072072,    0.073073,    0.074074,    0.075075,    0.076076,    0.077077,    0.078078,    0.079079,     0.08008,    0.081081,    0.082082,    0.083083,    0.084084,    0.085085,    0.086086,    0.087087,    0.088088,    0.089089,     0.09009,    0.091091,    0.092092,    0.093093,    0.094094,    0.095095,\n",
              "          0.096096,    0.097097,    0.098098,    0.099099,      0.1001,      0.1011,      0.1021,      0.1031,      0.1041,     0.10511,     0.10611,     0.10711,     0.10811,     0.10911,     0.11011,     0.11111,     0.11211,     0.11311,     0.11411,     0.11512,     0.11612,     0.11712,     0.11812,     0.11912,\n",
              "           0.12012,     0.12112,     0.12212,     0.12312,     0.12412,     0.12513,     0.12613,     0.12713,     0.12813,     0.12913,     0.13013,     0.13113,     0.13213,     0.13313,     0.13413,     0.13514,     0.13614,     0.13714,     0.13814,     0.13914,     0.14014,     0.14114,     0.14214,     0.14314,\n",
              "           0.14414,     0.14515,     0.14615,     0.14715,     0.14815,     0.14915,     0.15015,     0.15115,     0.15215,     0.15315,     0.15415,     0.15516,     0.15616,     0.15716,     0.15816,     0.15916,     0.16016,     0.16116,     0.16216,     0.16316,     0.16416,     0.16517,     0.16617,     0.16717,\n",
              "           0.16817,     0.16917,     0.17017,     0.17117,     0.17217,     0.17317,     0.17417,     0.17518,     0.17618,     0.17718,     0.17818,     0.17918,     0.18018,     0.18118,     0.18218,     0.18318,     0.18418,     0.18519,     0.18619,     0.18719,     0.18819,     0.18919,     0.19019,     0.19119,\n",
              "           0.19219,     0.19319,     0.19419,      0.1952,      0.1962,      0.1972,      0.1982,      0.1992,      0.2002,      0.2012,      0.2022,      0.2032,      0.2042,     0.20521,     0.20621,     0.20721,     0.20821,     0.20921,     0.21021,     0.21121,     0.21221,     0.21321,     0.21421,     0.21522,\n",
              "           0.21622,     0.21722,     0.21822,     0.21922,     0.22022,     0.22122,     0.22222,     0.22322,     0.22422,     0.22523,     0.22623,     0.22723,     0.22823,     0.22923,     0.23023,     0.23123,     0.23223,     0.23323,     0.23423,     0.23524,     0.23624,     0.23724,     0.23824,     0.23924,\n",
              "           0.24024,     0.24124,     0.24224,     0.24324,     0.24424,     0.24525,     0.24625,     0.24725,     0.24825,     0.24925,     0.25025,     0.25125,     0.25225,     0.25325,     0.25425,     0.25526,     0.25626,     0.25726,     0.25826,     0.25926,     0.26026,     0.26126,     0.26226,     0.26326,\n",
              "           0.26426,     0.26527,     0.26627,     0.26727,     0.26827,     0.26927,     0.27027,     0.27127,     0.27227,     0.27327,     0.27427,     0.27528,     0.27628,     0.27728,     0.27828,     0.27928,     0.28028,     0.28128,     0.28228,     0.28328,     0.28428,     0.28529,     0.28629,     0.28729,\n",
              "           0.28829,     0.28929,     0.29029,     0.29129,     0.29229,     0.29329,     0.29429,      0.2953,      0.2963,      0.2973,      0.2983,      0.2993,      0.3003,      0.3013,      0.3023,      0.3033,      0.3043,     0.30531,     0.30631,     0.30731,     0.30831,     0.30931,     0.31031,     0.31131,\n",
              "           0.31231,     0.31331,     0.31431,     0.31532,     0.31632,     0.31732,     0.31832,     0.31932,     0.32032,     0.32132,     0.32232,     0.32332,     0.32432,     0.32533,     0.32633,     0.32733,     0.32833,     0.32933,     0.33033,     0.33133,     0.33233,     0.33333,     0.33433,     0.33534,\n",
              "           0.33634,     0.33734,     0.33834,     0.33934,     0.34034,     0.34134,     0.34234,     0.34334,     0.34434,     0.34535,     0.34635,     0.34735,     0.34835,     0.34935,     0.35035,     0.35135,     0.35235,     0.35335,     0.35435,     0.35536,     0.35636,     0.35736,     0.35836,     0.35936,\n",
              "           0.36036,     0.36136,     0.36236,     0.36336,     0.36436,     0.36537,     0.36637,     0.36737,     0.36837,     0.36937,     0.37037,     0.37137,     0.37237,     0.37337,     0.37437,     0.37538,     0.37638,     0.37738,     0.37838,     0.37938,     0.38038,     0.38138,     0.38238,     0.38338,\n",
              "           0.38438,     0.38539,     0.38639,     0.38739,     0.38839,     0.38939,     0.39039,     0.39139,     0.39239,     0.39339,     0.39439,      0.3954,      0.3964,      0.3974,      0.3984,      0.3994,      0.4004,      0.4014,      0.4024,      0.4034,      0.4044,     0.40541,     0.40641,     0.40741,\n",
              "           0.40841,     0.40941,     0.41041,     0.41141,     0.41241,     0.41341,     0.41441,     0.41542,     0.41642,     0.41742,     0.41842,     0.41942,     0.42042,     0.42142,     0.42242,     0.42342,     0.42442,     0.42543,     0.42643,     0.42743,     0.42843,     0.42943,     0.43043,     0.43143,\n",
              "           0.43243,     0.43343,     0.43443,     0.43544,     0.43644,     0.43744,     0.43844,     0.43944,     0.44044,     0.44144,     0.44244,     0.44344,     0.44444,     0.44545,     0.44645,     0.44745,     0.44845,     0.44945,     0.45045,     0.45145,     0.45245,     0.45345,     0.45445,     0.45546,\n",
              "           0.45646,     0.45746,     0.45846,     0.45946,     0.46046,     0.46146,     0.46246,     0.46346,     0.46446,     0.46547,     0.46647,     0.46747,     0.46847,     0.46947,     0.47047,     0.47147,     0.47247,     0.47347,     0.47447,     0.47548,     0.47648,     0.47748,     0.47848,     0.47948,\n",
              "           0.48048,     0.48148,     0.48248,     0.48348,     0.48448,     0.48549,     0.48649,     0.48749,     0.48849,     0.48949,     0.49049,     0.49149,     0.49249,     0.49349,     0.49449,      0.4955,      0.4965,      0.4975,      0.4985,      0.4995,      0.5005,      0.5015,      0.5025,      0.5035,\n",
              "            0.5045,     0.50551,     0.50651,     0.50751,     0.50851,     0.50951,     0.51051,     0.51151,     0.51251,     0.51351,     0.51451,     0.51552,     0.51652,     0.51752,     0.51852,     0.51952,     0.52052,     0.52152,     0.52252,     0.52352,     0.52452,     0.52553,     0.52653,     0.52753,\n",
              "           0.52853,     0.52953,     0.53053,     0.53153,     0.53253,     0.53353,     0.53453,     0.53554,     0.53654,     0.53754,     0.53854,     0.53954,     0.54054,     0.54154,     0.54254,     0.54354,     0.54454,     0.54555,     0.54655,     0.54755,     0.54855,     0.54955,     0.55055,     0.55155,\n",
              "           0.55255,     0.55355,     0.55455,     0.55556,     0.55656,     0.55756,     0.55856,     0.55956,     0.56056,     0.56156,     0.56256,     0.56356,     0.56456,     0.56557,     0.56657,     0.56757,     0.56857,     0.56957,     0.57057,     0.57157,     0.57257,     0.57357,     0.57457,     0.57558,\n",
              "           0.57658,     0.57758,     0.57858,     0.57958,     0.58058,     0.58158,     0.58258,     0.58358,     0.58458,     0.58559,     0.58659,     0.58759,     0.58859,     0.58959,     0.59059,     0.59159,     0.59259,     0.59359,     0.59459,      0.5956,      0.5966,      0.5976,      0.5986,      0.5996,\n",
              "            0.6006,      0.6016,      0.6026,      0.6036,      0.6046,     0.60561,     0.60661,     0.60761,     0.60861,     0.60961,     0.61061,     0.61161,     0.61261,     0.61361,     0.61461,     0.61562,     0.61662,     0.61762,     0.61862,     0.61962,     0.62062,     0.62162,     0.62262,     0.62362,\n",
              "           0.62462,     0.62563,     0.62663,     0.62763,     0.62863,     0.62963,     0.63063,     0.63163,     0.63263,     0.63363,     0.63463,     0.63564,     0.63664,     0.63764,     0.63864,     0.63964,     0.64064,     0.64164,     0.64264,     0.64364,     0.64464,     0.64565,     0.64665,     0.64765,\n",
              "           0.64865,     0.64965,     0.65065,     0.65165,     0.65265,     0.65365,     0.65465,     0.65566,     0.65666,     0.65766,     0.65866,     0.65966,     0.66066,     0.66166,     0.66266,     0.66366,     0.66466,     0.66567,     0.66667,     0.66767,     0.66867,     0.66967,     0.67067,     0.67167,\n",
              "           0.67267,     0.67367,     0.67467,     0.67568,     0.67668,     0.67768,     0.67868,     0.67968,     0.68068,     0.68168,     0.68268,     0.68368,     0.68468,     0.68569,     0.68669,     0.68769,     0.68869,     0.68969,     0.69069,     0.69169,     0.69269,     0.69369,     0.69469,      0.6957,\n",
              "            0.6967,      0.6977,      0.6987,      0.6997,      0.7007,      0.7017,      0.7027,      0.7037,      0.7047,     0.70571,     0.70671,     0.70771,     0.70871,     0.70971,     0.71071,     0.71171,     0.71271,     0.71371,     0.71471,     0.71572,     0.71672,     0.71772,     0.71872,     0.71972,\n",
              "           0.72072,     0.72172,     0.72272,     0.72372,     0.72472,     0.72573,     0.72673,     0.72773,     0.72873,     0.72973,     0.73073,     0.73173,     0.73273,     0.73373,     0.73473,     0.73574,     0.73674,     0.73774,     0.73874,     0.73974,     0.74074,     0.74174,     0.74274,     0.74374,\n",
              "           0.74474,     0.74575,     0.74675,     0.74775,     0.74875,     0.74975,     0.75075,     0.75175,     0.75275,     0.75375,     0.75475,     0.75576,     0.75676,     0.75776,     0.75876,     0.75976,     0.76076,     0.76176,     0.76276,     0.76376,     0.76476,     0.76577,     0.76677,     0.76777,\n",
              "           0.76877,     0.76977,     0.77077,     0.77177,     0.77277,     0.77377,     0.77477,     0.77578,     0.77678,     0.77778,     0.77878,     0.77978,     0.78078,     0.78178,     0.78278,     0.78378,     0.78478,     0.78579,     0.78679,     0.78779,     0.78879,     0.78979,     0.79079,     0.79179,\n",
              "           0.79279,     0.79379,     0.79479,      0.7958,      0.7968,      0.7978,      0.7988,      0.7998,      0.8008,      0.8018,      0.8028,      0.8038,      0.8048,     0.80581,     0.80681,     0.80781,     0.80881,     0.80981,     0.81081,     0.81181,     0.81281,     0.81381,     0.81481,     0.81582,\n",
              "           0.81682,     0.81782,     0.81882,     0.81982,     0.82082,     0.82182,     0.82282,     0.82382,     0.82482,     0.82583,     0.82683,     0.82783,     0.82883,     0.82983,     0.83083,     0.83183,     0.83283,     0.83383,     0.83483,     0.83584,     0.83684,     0.83784,     0.83884,     0.83984,\n",
              "           0.84084,     0.84184,     0.84284,     0.84384,     0.84484,     0.84585,     0.84685,     0.84785,     0.84885,     0.84985,     0.85085,     0.85185,     0.85285,     0.85385,     0.85485,     0.85586,     0.85686,     0.85786,     0.85886,     0.85986,     0.86086,     0.86186,     0.86286,     0.86386,\n",
              "           0.86486,     0.86587,     0.86687,     0.86787,     0.86887,     0.86987,     0.87087,     0.87187,     0.87287,     0.87387,     0.87487,     0.87588,     0.87688,     0.87788,     0.87888,     0.87988,     0.88088,     0.88188,     0.88288,     0.88388,     0.88488,     0.88589,     0.88689,     0.88789,\n",
              "           0.88889,     0.88989,     0.89089,     0.89189,     0.89289,     0.89389,     0.89489,      0.8959,      0.8969,      0.8979,      0.8989,      0.8999,      0.9009,      0.9019,      0.9029,      0.9039,      0.9049,     0.90591,     0.90691,     0.90791,     0.90891,     0.90991,     0.91091,     0.91191,\n",
              "           0.91291,     0.91391,     0.91491,     0.91592,     0.91692,     0.91792,     0.91892,     0.91992,     0.92092,     0.92192,     0.92292,     0.92392,     0.92492,     0.92593,     0.92693,     0.92793,     0.92893,     0.92993,     0.93093,     0.93193,     0.93293,     0.93393,     0.93493,     0.93594,\n",
              "           0.93694,     0.93794,     0.93894,     0.93994,     0.94094,     0.94194,     0.94294,     0.94394,     0.94494,     0.94595,     0.94695,     0.94795,     0.94895,     0.94995,     0.95095,     0.95195,     0.95295,     0.95395,     0.95495,     0.95596,     0.95696,     0.95796,     0.95896,     0.95996,\n",
              "           0.96096,     0.96196,     0.96296,     0.96396,     0.96496,     0.96597,     0.96697,     0.96797,     0.96897,     0.96997,     0.97097,     0.97197,     0.97297,     0.97397,     0.97497,     0.97598,     0.97698,     0.97798,     0.97898,     0.97998,     0.98098,     0.98198,     0.98298,     0.98398,\n",
              "           0.98498,     0.98599,     0.98699,     0.98799,     0.98899,     0.98999,     0.99099,     0.99199,     0.99299,     0.99399,     0.99499,       0.996,       0.997,       0.998,       0.999,           1]), array([[          1,           1,           1, ...,           0,           0,           0],\n",
              "       [    0.92308,     0.92308,     0.92308, ...,           0,           0,           0],\n",
              "       [          1,           1,           1, ...,           0,           0,           0],\n",
              "       ...,\n",
              "       [    0.82609,     0.82609,     0.82609, ...,           0,           0,           0],\n",
              "       [    0.92308,     0.92308,     0.92308, ...,           0,           0,           0],\n",
              "       [          1,           1,           1, ...,           0,           0,           0]]), 'Confidence', 'Recall']]\n",
              "fitness: np.float64(0.5510973627599395)\n",
              "keys: ['metrics/precision(B)', 'metrics/recall(B)', 'metrics/mAP50(B)', 'metrics/mAP50-95(B)']\n",
              "maps: array([    0.59452,     0.54224,     0.63866,     0.54456,     0.32847,     0.28621,     0.64503])\n",
              "names: {0: 'bag', 1: 'bottle', 2: 'human', 3: 'laptop', 4: 'mobile', 5: 'spectacles', 6: 'suitcase'}\n",
              "plot: True\n",
              "results_dict: {'metrics/precision(B)': np.float64(0.8946684381949978), 'metrics/recall(B)': np.float64(0.8834710410820419), 'metrics/mAP50(B)': np.float64(0.9085044835132186), 'metrics/mAP50-95(B)': np.float64(0.5113854604540196), 'fitness': np.float64(0.5510973627599395)}\n",
              "save_dir: PosixPath('runs/detect/train2')\n",
              "speed: {'preprocess': 0.20371460000205843, 'inference': 4.2906456000037, 'loss': 0.0004516400076681748, 'postprocess': 1.0285691199987923}\n",
              "task: 'detect'"
            ]
          },
          "metadata": {},
          "execution_count": 5
        }
      ]
    },
    {
      "cell_type": "code",
      "source": [
        "from ultralytics import YOLO\n",
        "\n",
        "# Load the best model\n",
        "model = YOLO(\"/content/runs/detect/train2/weights/best.pt\")\n",
        "\n",
        "# Run validation\n",
        "metrics = model.val()\n"
      ],
      "metadata": {
        "colab": {
          "base_uri": "https://localhost:8080/"
        },
        "id": "TrlNrC04F8_3",
        "outputId": "7ccd77c2-5ad6-4a55-f407-25c623da6d32"
      },
      "execution_count": null,
      "outputs": [
        {
          "output_type": "stream",
          "name": "stdout",
          "text": [
            "Ultralytics 8.3.97 🚀 Python-3.11.11 torch-2.6.0+cu124 CUDA:0 (Tesla T4, 15095MiB)\n",
            "Model summary (fused): 72 layers, 11,128,293 parameters, 0 gradients, 28.5 GFLOPs\n"
          ]
        },
        {
          "output_type": "stream",
          "name": "stderr",
          "text": [
            "\u001b[34m\u001b[1mval: \u001b[0mScanning /content/valid/labels.cache... 25 images, 0 backgrounds, 0 corrupt: 100%|██████████| 25/25 [00:00<?, ?it/s]\n",
            "                 Class     Images  Instances      Box(P          R      mAP50  mAP50-95): 100%|██████████| 2/2 [00:01<00:00,  1.63it/s]\n"
          ]
        },
        {
          "output_type": "stream",
          "name": "stdout",
          "text": [
            "                   all         25        195      0.895      0.883      0.908      0.515\n",
            "                   bag         23         41      0.952      0.958      0.985      0.591\n",
            "                bottle         25         26      0.886      0.923      0.938      0.542\n",
            "                 human         24         24      0.919       0.95      0.984      0.632\n",
            "                laptop         25         44       0.95      0.859       0.92      0.553\n",
            "                mobile         17         23      0.793      0.666      0.685      0.332\n",
            "            spectacles         13         13      0.805      0.846      0.854      0.296\n",
            "              suitcase         24         24      0.959       0.98      0.993      0.658\n",
            "Speed: 6.5ms preprocess, 16.9ms inference, 0.0ms loss, 2.1ms postprocess per image\n",
            "Results saved to \u001b[1mruns/detect/val\u001b[0m\n"
          ]
        }
      ]
    },
    {
      "cell_type": "code",
      "source": [],
      "metadata": {
        "id": "pFXpBRcqLvwy"
      },
      "execution_count": null,
      "outputs": []
    }
  ]
}