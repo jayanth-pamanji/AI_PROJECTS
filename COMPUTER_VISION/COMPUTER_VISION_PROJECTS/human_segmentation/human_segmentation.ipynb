{
 "cells": [
  {
   "cell_type": "code",
   "execution_count": null,
   "id": "8b5bdafa-1042-4576-bf0b-abf10ce947ba",
   "metadata": {},
   "outputs": [],
   "source": [
    "from tensorflow.keras.models import load_model\n",
    "import numpy as np\n",
    "import cv2\n",
    "\n",
    "\n",
    "model = load_model(\"C:/Users/MOHIT/Desktop/unet_model.h5\")\n",
    "\n",
    "cap=cv2.VideoCapture(0)\n",
    "while True:\n",
    " \n",
    "    ret, frame = cap.read()\n",
    "    \n",
    "    \n",
    "    if not ret:\n",
    "        print(\"Failed to grab frame\")\n",
    "        break\n",
    "    gray_frame=cv2.cvtColor(frame,cv2.COLOR_BGR2GRAY)\n",
    "    input_img=cv2.resize(gray_frame,(256,256))\n",
    "    img=np.expand_dims(input_img, axis=-1)\n",
    "    img=np.expand_dims(img,axis=0)\n",
    "    img=img/255.\n",
    "    y=model.predict(img)\n",
    "    output=y.squeeze()\n",
    "    x,x1=cv2.threshold(output,0.5,1,cv2.THRESH_BINARY)\n",
    "    output=cv2.resize(x1,(640,480))\n",
    "    output=cv2.cvtColor(output,cv2.COLOR_GRAY2RGB)\n",
    "    frame=frame/255.\n",
    "    out=frame+output*[0.7,0,0]\n",
    "    cv2.imshow('Video', out)\n",
    "    \n",
    "    # Exit on 'q' key\n",
    "    if cv2.waitKey(1) & 0xFF == ord('q'):\n",
    "        break\n",
    "\n",
    "# Release the capture and close the window\n",
    "video_capture.release()\n",
    "cv2.destroyAllWindows()\n"
   ]
  },
  {
   "cell_type": "code",
   "execution_count": null,
   "id": "8902ab15-2679-4d79-a50d-b472b5b0b073",
   "metadata": {},
   "outputs": [],
   "source": []
  }
 ],
 "metadata": {
  "kernelspec": {
   "display_name": "Python 3 (ipykernel)",
   "language": "python",
   "name": "python3"
  },
  "language_info": {
   "codemirror_mode": {
    "name": "ipython",
    "version": 3
   },
   "file_extension": ".py",
   "mimetype": "text/x-python",
   "name": "python",
   "nbconvert_exporter": "python",
   "pygments_lexer": "ipython3",
   "version": "3.12.2"
  }
 },
 "nbformat": 4,
 "nbformat_minor": 5
}
